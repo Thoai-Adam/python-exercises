{
 "cells": [
  {
   "cell_type": "code",
   "execution_count": 1,
   "id": "92b8e7a8",
   "metadata": {},
   "outputs": [
    {
     "data": {
      "application/javascript": [
       "IPython.notebook.set_autosave_interval(0)"
      ]
     },
     "metadata": {},
     "output_type": "display_data"
    },
    {
     "name": "stdout",
     "output_type": "stream",
     "text": [
      "Autosave disabled\n"
     ]
    }
   ],
   "source": [
    "%autosave 0"
   ]
  },
  {
   "cell_type": "code",
   "execution_count": 2,
   "id": "5c14a1fa",
   "metadata": {},
   "outputs": [],
   "source": [
    "import numpy as np\n",
    "from scipy import stats\n",
    "\n",
    "import matplotlib.pyplot as plt"
   ]
  },
  {
   "cell_type": "markdown",
   "id": "f7c41bcf",
   "metadata": {},
   "source": [
    "Let's define a uniform distribution for the roll of a single die."
   ]
  },
  {
   "cell_type": "code",
   "execution_count": 3,
   "id": "f398bc19",
   "metadata": {},
   "outputs": [],
   "source": [
    "dice_rolls = stats.randint(1, 7) #this is the generator object. plan to generate value"
   ]
  },
  {
   "cell_type": "markdown",
   "id": "cd13086d",
   "metadata": {},
   "source": [
    "We can obtain random values from the distribution using the .rvs() method.\n",
    "This is how we interact with the randint "
   ]
  },
  {
   "cell_type": "code",
   "execution_count": 8,
   "id": "0218bc86",
   "metadata": {},
   "outputs": [
    {
     "data": {
      "text/plain": [
       "array([4, 2, 4, 1, 4, 3, 4, 5, 1, 3])"
      ]
     },
     "execution_count": 8,
     "metadata": {},
     "output_type": "execute_result"
    }
   ],
   "source": [
    "dice_rolls.rvs(10)"
   ]
  },
  {
   "cell_type": "markdown",
   "id": "8a83e162",
   "metadata": {},
   "source": [
    "Let's return a bunch of numbers and visualize them!"
   ]
  },
  {
   "cell_type": "code",
   "execution_count": 5,
   "id": "3fca1b2e",
   "metadata": {},
   "outputs": [],
   "source": [
    "vals = dice_rolls.rvs(10_000)"
   ]
  },
  {
   "cell_type": "code",
   "execution_count": 6,
   "id": "1c84a61c",
   "metadata": {},
   "outputs": [
    {
     "data": {
      "text/plain": [
       "(array([1644., 1687., 1693., 1730., 1667., 1579.]),\n",
       " array([1., 2., 3., 4., 5., 6., 7.]),\n",
       " <BarContainer object of 6 artists>)"
      ]
     },
     "execution_count": 6,
     "metadata": {},
     "output_type": "execute_result"
    },
    {
     "data": {
      "image/png": "[encoded data removed]",
      "text/plain": [
       "<Figure size 640x480 with 1 Axes>"
      ]
     },
     "metadata": {},
     "output_type": "display_data"
    }
   ],
   "source": [
    "plt.hist(vals, bins = range(1,8), align = 'left', color = 'gray', ec = 'black')"
   ]
  },
  {
   "cell_type": "markdown",
   "id": "e4c59cb4",
   "metadata": {},
   "source": [
    "The probability mass function accepts a value and returns the probability of getting that specified value for discrete distributions.\n",
    "\n",
    "The probability density function performs the same function for continuous distributions."
   ]
  },
  {
   "cell_type": "code",
   "execution_count": 9,
   "id": "94522111",
   "metadata": {},
   "outputs": [
    {
     "data": {
      "text/plain": [
       "0.16666666666666666"
      ]
     },
     "execution_count": 9,
     "metadata": {},
     "output_type": "execute_result"
    }
   ],
   "source": [
    "#discrete distribution = probability mass function!\n",
    "dice_rolls.pmf(3)   #what is the probability from this dist. that i get 3"
   ]
  },
  {
   "cell_type": "code",
   "execution_count": 10,
   "id": "37d404fb",
   "metadata": {},
   "outputs": [
    {
     "data": {
      "text/plain": [
       "0.16666666666666666"
      ]
     },
     "execution_count": 10,
     "metadata": {},
     "output_type": "execute_result"
    }
   ],
   "source": [
    "dice_rolls.pmf(5)  #this is a uniform distribution so it should be the same\n",
    "#result regardless of number\n"
   ]
  },
  {
   "cell_type": "code",
   "execution_count": null,
   "id": "2dd84006",
   "metadata": {},
   "outputs": [],
   "source": []
  },
  {
   "cell_type": "markdown",
   "id": "8e4d7bc9",
   "metadata": {},
   "source": [
    "The cumulative density function accepts a value and returns the probability of getting a value up to and including the specified value.\n",
    "\n",
    "The percent point function accepts a proportion and returns the value under which that proportion of values is found."
   ]
  },
  {
   "cell_type": "code",
   "execution_count": 11,
   "id": "d88b052c",
   "metadata": {},
   "outputs": [
    {
     "data": {
      "text/plain": [
       "0.5"
      ]
     },
     "execution_count": 11,
     "metadata": {},
     "output_type": "execute_result"
    }
   ],
   "source": [
    "dice_rolls.cdf(3)"
   ]
  },
  {
   "cell_type": "code",
   "execution_count": 12,
   "id": "1ad6202b",
   "metadata": {},
   "outputs": [
    {
     "data": {
      "text/plain": [
       "1.0"
      ]
     },
     "execution_count": 12,
     "metadata": {},
     "output_type": "execute_result"
    }
   ],
   "source": [
    "dice_rolls.cdf(6)"
   ]
  },
  {
   "cell_type": "code",
   "execution_count": 13,
   "id": "c028b7d6",
   "metadata": {},
   "outputs": [
    {
     "data": {
      "text/plain": [
       "3.0"
      ]
     },
     "execution_count": 13,
     "metadata": {},
     "output_type": "execute_result"
    }
   ],
   "source": [
    "dice_rolls.ppf(0.5)"
   ]
  },
  {
   "cell_type": "code",
   "execution_count": 14,
   "id": "4d4e68d3",
   "metadata": {},
   "outputs": [
    {
     "data": {
      "text/plain": [
       "4.0"
      ]
     },
     "execution_count": 14,
     "metadata": {},
     "output_type": "execute_result"
    }
   ],
   "source": [
    "dice_rolls.ppf(2/3)"
   ]
  },
  {
   "cell_type": "code",
   "execution_count": 15,
   "id": "d1c8073a",
   "metadata": {},
   "outputs": [
    {
     "data": {
      "text/plain": [
       "0.6666666666666666"
      ]
     },
     "execution_count": 15,
     "metadata": {},
     "output_type": "execute_result"
    }
   ],
   "source": [
    "dice_rolls.cdf(4)  #this is the inverse of ppf"
   ]
  },
  {
   "cell_type": "markdown",
   "id": "5d8a89d9",
   "metadata": {},
   "source": [
    "The survival function accepts a value and returns the probability of getting a value greater than the one specified.\n",
    "\n",
    "The inverse survival function accepts a proportion and returns the value above which that proportion of values is found."
   ]
  },
  {
   "cell_type": "code",
   "execution_count": 16,
   "id": "6c90d0ba",
   "metadata": {},
   "outputs": [
    {
     "data": {
      "text/plain": [
       "0.33333333333333337"
      ]
     },
     "execution_count": 16,
     "metadata": {},
     "output_type": "execute_result"
    }
   ],
   "source": [
    "dice_rolls.sf(4)   #what proportion value are greater than 4"
   ]
  },
  {
   "cell_type": "code",
   "execution_count": 17,
   "id": "68cfd61f",
   "metadata": {},
   "outputs": [
    {
     "data": {
      "text/plain": [
       "0.6666666666666666"
      ]
     },
     "execution_count": 17,
     "metadata": {},
     "output_type": "execute_result"
    }
   ],
   "source": [
    "dice_rolls.cdf(4)   \n",
    "#the sf and cdf should equal to 1"
   ]
  },
  {
   "cell_type": "code",
   "execution_count": 18,
   "id": "9658a8f6",
   "metadata": {},
   "outputs": [
    {
     "data": {
      "text/plain": [
       "2.0"
      ]
     },
     "execution_count": 18,
     "metadata": {},
     "output_type": "execute_result"
    }
   ],
   "source": [
    "dice_rolls.isf(2/3)\n"
   ]
  },
  {
   "cell_type": "code",
   "execution_count": 19,
   "id": "c268382b",
   "metadata": {},
   "outputs": [
    {
     "data": {
      "text/plain": [
       "0.6666666666666667"
      ]
     },
     "execution_count": 19,
     "metadata": {},
     "output_type": "execute_result"
    }
   ],
   "source": [
    "dice_rolls.sf(2)"
   ]
  },
  {
   "cell_type": "markdown",
   "id": "8b14ff0c",
   "metadata": {},
   "source": [
    "A binomial (think binary) distribution assumes there are two possible outcomes: success and failure. We create a binomial distribution with the .binom() method, where we specify the number of trials and the probability of success. We can use the familiar methods on these distributions, too!"
   ]
  },
  {
   "cell_type": "code",
   "execution_count": 21,
   "id": "70844f7a",
   "metadata": {},
   "outputs": [
    {
     "data": {
      "text/plain": [
       "<scipy.stats._distn_infrastructure.rv_discrete_frozen at 0x12dff6080>"
      ]
     },
     "execution_count": 21,
     "metadata": {},
     "output_type": "execute_result"
    }
   ],
   "source": [
    "#the result could be success or failure\n",
    "attendance = stats.binom(8, 0.95)  # 8 students with 95 percent of attendance\n",
    "attendance"
   ]
  },
  {
   "cell_type": "code",
   "execution_count": 22,
   "id": "4f3cf2cc",
   "metadata": {},
   "outputs": [
    {
     "data": {
      "text/plain": [
       "0.6634204312890623"
      ]
     },
     "execution_count": 22,
     "metadata": {},
     "output_type": "execute_result"
    }
   ],
   "source": [
    "#probability of everyone show up on the same day\n",
    "#we will use discrete because you're either here or not here\n",
    "attendance.pmf(8)"
   ]
  },
  {
   "cell_type": "code",
   "execution_count": 23,
   "id": "67cce16f",
   "metadata": {},
   "outputs": [
    {
     "data": {
      "text/plain": [
       "0.9942117820703125"
      ]
     },
     "execution_count": 23,
     "metadata": {},
     "output_type": "execute_result"
    }
   ],
   "source": [
    "attendance.sf(5)"
   ]
  },
  {
   "cell_type": "code",
   "execution_count": 24,
   "id": "85a705fa",
   "metadata": {},
   "outputs": [
    {
     "data": {
      "text/plain": [
       "array([6, 8, 7, 8, 7, 8, 8, 8, 8, 8])"
      ]
     },
     "execution_count": 24,
     "metadata": {},
     "output_type": "execute_result"
    }
   ],
   "source": [
    "attendance.rvs(10)"
   ]
  },
  {
   "cell_type": "code",
   "execution_count": 25,
   "id": "1f9de5f3",
   "metadata": {},
   "outputs": [
    {
     "data": {
      "text/plain": [
       "[3.906250000000028e-11,\n",
       " 5.937500000000035e-09,\n",
       " 3.948437500000023e-07,\n",
       " 1.5004062500000061e-05,\n",
       " 0.00035634648437500127,\n",
       " 0.005416466562500013,\n",
       " 0.05145643234375009,\n",
       " 0.27933491843750013,\n",
       " 0.6634204312890623]"
      ]
     },
     "execution_count": 25,
     "metadata": {},
     "output_type": "execute_result"
    }
   ],
   "source": [
    "y= [attendance.pmf(i) for i in range(0,9)]\n",
    "y"
   ]
  },
  {
   "cell_type": "code",
   "execution_count": 26,
   "id": "36385fd6",
   "metadata": {},
   "outputs": [
    {
     "data": {
      "text/plain": [
       "<BarContainer object of 9 artists>"
      ]
     },
     "execution_count": 26,
     "metadata": {},
     "output_type": "execute_result"
    },
    {
     "data": {
      "image/png": "[encoded data removed]",
      "text/plain": [
       "<Figure size 640x480 with 1 Axes>"
      ]
     },
     "metadata": {},
     "output_type": "display_data"
    }
   ],
   "source": [
    "plt.bar(x = range(0,9), height = y)"
   ]
  },
  {
   "cell_type": "code",
   "execution_count": 27,
   "id": "7fd597b1",
   "metadata": {},
   "outputs": [
    {
     "data": {
      "text/plain": [
       "0.005788217929687514"
      ]
     },
     "execution_count": 27,
     "metadata": {},
     "output_type": "execute_result"
    }
   ],
   "source": [
    "attendance.cdf(5)"
   ]
  },
  {
   "cell_type": "markdown",
   "id": "9c147d70",
   "metadata": {},
   "source": [
    "Normal distributions are for continuous variables. We can create a normal distribution with the .norm() method, where we specify the mean and standard deviation for the distribution."
   ]
  },
  {
   "cell_type": "code",
   "execution_count": 30,
   "id": "35116051",
   "metadata": {},
   "outputs": [],
   "source": [
    "monthly_sales = stats.norm(23_000, 2_500)\n",
    "#here we use pdf instead of pmf"
   ]
  },
  {
   "cell_type": "code",
   "execution_count": 32,
   "id": "119242e9",
   "metadata": {},
   "outputs": [
    {
     "data": {
      "text/plain": [
       "0.00014730805612132934"
      ]
     },
     "execution_count": 32,
     "metadata": {},
     "output_type": "execute_result"
    }
   ],
   "source": [
    "monthly_sales.pdf(24_000)"
   ]
  },
  {
   "cell_type": "code",
   "execution_count": 33,
   "id": "fbe85e30",
   "metadata": {},
   "outputs": [
    {
     "data": {
      "text/plain": [
       "0.2118553985833967"
      ]
     },
     "execution_count": 33,
     "metadata": {},
     "output_type": "execute_result"
    }
   ],
   "source": [
    "monthly_sales.sf(25_000)"
   ]
  },
  {
   "cell_type": "code",
   "execution_count": 34,
   "id": "d4d5992e",
   "metadata": {},
   "outputs": [
    {
     "data": {
      "text/plain": [
       "26203.878913861503"
      ]
     },
     "execution_count": 34,
     "metadata": {},
     "output_type": "execute_result"
    }
   ],
   "source": [
    "monthly_sales.isf(0.10)  #mean i want to find boundary for top 10% of all value in the dataset\n",
    "#in order to have top 10percent, i must get at least 26203"
   ]
  },
  {
   "cell_type": "code",
   "execution_count": 35,
   "id": "ab19d974",
   "metadata": {},
   "outputs": [
    {
     "data": {
      "text/plain": [
       "19796.121086138497"
      ]
     },
     "execution_count": 35,
     "metadata": {},
     "output_type": "execute_result"
    }
   ],
   "source": [
    "monthly_sales.ppf(0.10)"
   ]
  },
  {
   "cell_type": "markdown",
   "id": "83b8d96c",
   "metadata": {},
   "source": [
    "Poisson distributions measure how many events occur over a specific time period. We create a poisson distribution with the .poisson() method, where we only have to specify the expected value."
   ]
  },
  {
   "cell_type": "code",
   "execution_count": null,
   "id": "5968d746",
   "metadata": {},
   "outputs": [],
   "source": []
  },
  {
   "cell_type": "code",
   "execution_count": 37,
   "id": "4630bbad",
   "metadata": {},
   "outputs": [],
   "source": [
    "#if you see a time period in the question, you use poisson\n",
    "drank_coffee = stats.poisson(15)\n"
   ]
  },
  {
   "cell_type": "code",
   "execution_count": 38,
   "id": "f4a1d65c",
   "metadata": {},
   "outputs": [
    {
     "data": {
      "text/plain": [
       "0.12478121503252496"
      ]
     },
     "execution_count": 38,
     "metadata": {},
     "output_type": "execute_result"
    }
   ],
   "source": [
    "drank_coffee.sf(19)"
   ]
  },
  {
   "cell_type": "code",
   "execution_count": 39,
   "id": "dc387155",
   "metadata": {},
   "outputs": [
    {
     "data": {
      "text/plain": [
       "0.1024358666645339"
      ]
     },
     "execution_count": 39,
     "metadata": {},
     "output_type": "execute_result"
    }
   ],
   "source": [
    "drank_coffee.pmf(15)"
   ]
  },
  {
   "cell_type": "code",
   "execution_count": 40,
   "id": "da579fd0",
   "metadata": {},
   "outputs": [
    {
     "data": {
      "text/plain": [
       "[3.059023205018258e-07,\n",
       " 4.588534807527389e-06,\n",
       " 3.4414011056455366e-05,\n",
       " 0.00017207005528227702,\n",
       " 0.000645262707308539,\n",
       " 0.0019357881219256158,\n",
       " 0.004839470304814035,\n",
       " 0.010370293510315794,\n",
       " 0.019444300331842114,\n",
       " 0.03240716721973691,\n",
       " 0.04861075082960534,\n",
       " 0.06628738749491639,\n",
       " 0.08285923436864541,\n",
       " 0.09560680888689863,\n",
       " 0.1024358666645339,\n",
       " 0.1024358666645339,\n",
       " 0.09603362499800054,\n",
       " 0.08473555146882411,\n",
       " 0.07061295955735365,\n",
       " 0.055747073334752824,\n",
       " 0.04181030500106466,\n",
       " 0.02986450357218907,\n",
       " 0.02036216152649248,\n",
       " 0.013279670560755972,\n",
       " 0.00829979410047246,\n",
       " 0.004979876460283485]"
      ]
     },
     "execution_count": 40,
     "metadata": {},
     "output_type": "execute_result"
    }
   ],
   "source": [
    "y_poisson = [drank_coffee.pmf(i) for i in range(0,26)]\n",
    "y_poisson"
   ]
  },
  {
   "cell_type": "code",
   "execution_count": 41,
   "id": "ffdab672",
   "metadata": {},
   "outputs": [
    {
     "data": {
      "text/plain": [
       "<BarContainer object of 26 artists>"
      ]
     },
     "execution_count": 41,
     "metadata": {},
     "output_type": "execute_result"
    },
    {
     "data": {
      "image/png": "[encoded data removed]",
      "text/plain": [
       "<Figure size 640x480 with 1 Axes>"
      ]
     },
     "metadata": {},
     "output_type": "display_data"
    }
   ],
   "source": [
    "plt.bar(x = range(0,26), height = y_poisson)"
   ]
  },
  {
   "cell_type": "code",
   "execution_count": null,
   "id": "72bb477f",
   "metadata": {},
   "outputs": [],
   "source": []
  }
 ],
 "metadata": {
  "kernelspec": {
   "display_name": "Python 3 (ipykernel)",
   "language": "python",
   "name": "python3"
  },
  "language_info": {
   "codemirror_mode": {
    "name": "ipython",
    "version": 3
   },
   "file_extension": ".py",
   "mimetype": "text/x-python",
   "name": "python",
   "nbconvert_exporter": "python",
   "pygments_lexer": "ipython3",
   "version": "3.10.9"
  }
 },
 "nbformat": 4,
 "nbformat_minor": 5
}
