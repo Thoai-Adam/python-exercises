{
 "cells": [
  {
   "cell_type": "code",
   "execution_count": 40,
   "id": "0b13ea0a",
   "metadata": {},
   "outputs": [
    {
     "data": {
      "application/javascript": [
       "IPython.notebook.set_autosave_interval(0)"
      ]
     },
     "metadata": {},
     "output_type": "display_data"
    },
    {
     "name": "stdout",
     "output_type": "stream",
     "text": [
      "Autosave disabled\n"
     ]
    }
   ],
   "source": [
    "%autosave 0"
   ]
  },
  {
   "cell_type": "code",
   "execution_count": 41,
   "id": "8b87b011",
   "metadata": {},
   "outputs": [],
   "source": [
    "import numpy as np\n",
    "import pandas as pd\n",
    "from sqlalchemy import text, create_engine\n",
    "\n",
    "from env import get_connection"
   ]
  },
  {
   "cell_type": "markdown",
   "id": "d7dddc5c",
   "metadata": {},
   "source": [
    "We can create dataframes from..\n",
    "- Dictionaries\n",
    "- SQL queries!"
   ]
  },
  {
   "cell_type": "code",
   "execution_count": 42,
   "id": "1ba09e88",
   "metadata": {},
   "outputs": [
    {
     "data": {
      "text/html": [
       "<div>\n",
       "<style scoped>\n",
       "    .dataframe tbody tr th:only-of-type {\n",
       "        vertical-align: middle;\n",
       "    }\n",
       "\n",
       "    .dataframe tbody tr th {\n",
       "        vertical-align: top;\n",
       "    }\n",
       "\n",
       "    .dataframe thead th {\n",
       "        text-align: right;\n",
       "    }\n",
       "</style>\n",
       "<table border=\"1\" class=\"dataframe\">\n",
       "  <thead>\n",
       "    <tr style=\"text-align: right;\">\n",
       "      <th></th>\n",
       "      <th>name</th>\n",
       "      <th>eyewear</th>\n",
       "    </tr>\n",
       "  </thead>\n",
       "  <tbody>\n",
       "    <tr>\n",
       "      <th>0</th>\n",
       "      <td>adam</td>\n",
       "      <td>glasses</td>\n",
       "    </tr>\n",
       "    <tr>\n",
       "      <th>1</th>\n",
       "      <td>edwige</td>\n",
       "      <td>none</td>\n",
       "    </tr>\n",
       "    <tr>\n",
       "      <th>2</th>\n",
       "      <td>marc</td>\n",
       "      <td>glasses</td>\n",
       "    </tr>\n",
       "    <tr>\n",
       "      <th>3</th>\n",
       "      <td>theo</td>\n",
       "      <td>glasses</td>\n",
       "    </tr>\n",
       "  </tbody>\n",
       "</table>\n",
       "</div>"
      ],
      "text/plain": [
       "     name  eyewear\n",
       "0    adam  glasses\n",
       "1  edwige     none\n",
       "2    marc  glasses\n",
       "3    theo  glasses"
      ]
     },
     "execution_count": 42,
     "metadata": {},
     "output_type": "execute_result"
    }
   ],
   "source": [
    "pd.DataFrame({'name':['adam', 'edwige', 'marc', 'theo'],\n",
    "             'eyewear': ['glasses','none', 'glasses', 'glasses']})\n",
    "\n",
    "#this is how you create data frame from a dictionary"
   ]
  },
  {
   "cell_type": "markdown",
   "id": "0871fbca",
   "metadata": {},
   "source": [
    "In order to run a SQL query against Codeup's database, we need a number of things:\n",
    "- A URL with our credentials and desired database\n",
    "- A SQLAlchemy engine object created on the URL\n",
    "- A SQL query as a text object\n",
    "- Run pd.read_sql() with the query and the engine.connect()"
   ]
  },
  {
   "cell_type": "code",
   "execution_count": 43,
   "id": "98536b0d",
   "metadata": {},
   "outputs": [],
   "source": [
    "url = get_connection('farmers_market') #never to use this. "
   ]
  },
  {
   "cell_type": "code",
   "execution_count": 44,
   "id": "3f3962de",
   "metadata": {},
   "outputs": [],
   "source": [
    "engine = create_engine(url)"
   ]
  },
  {
   "cell_type": "code",
   "execution_count": 48,
   "id": "207efb03",
   "metadata": {},
   "outputs": [],
   "source": [
    "query = '''\n",
    "        SELECT *\n",
    "        FROM customer_purchases\n",
    "        INNER JOIN product ON customer_purchases.product_id = product.product_id\n",
    "        '''\n",
    "\n",
    "#this is to make it a string in python but being a function in sql"
   ]
  },
  {
   "cell_type": "code",
   "execution_count": 49,
   "id": "977eb75a",
   "metadata": {},
   "outputs": [],
   "source": [
    "# now we have to call a text function\n",
    "text_query = text(query)\n",
    "\n"
   ]
  },
  {
   "cell_type": "code",
   "execution_count": 50,
   "id": "5cbf8329",
   "metadata": {},
   "outputs": [
    {
     "data": {
      "text/html": [
       "<div>\n",
       "<style scoped>\n",
       "    .dataframe tbody tr th:only-of-type {\n",
       "        vertical-align: middle;\n",
       "    }\n",
       "\n",
       "    .dataframe tbody tr th {\n",
       "        vertical-align: top;\n",
       "    }\n",
       "\n",
       "    .dataframe thead th {\n",
       "        text-align: right;\n",
       "    }\n",
       "</style>\n",
       "<table border=\"1\" class=\"dataframe\">\n",
       "  <thead>\n",
       "    <tr style=\"text-align: right;\">\n",
       "      <th></th>\n",
       "      <th>product_id</th>\n",
       "      <th>vendor_id</th>\n",
       "      <th>market_date</th>\n",
       "      <th>customer_id</th>\n",
       "      <th>quantity</th>\n",
       "      <th>cost_to_customer_per_qty</th>\n",
       "      <th>transaction_time</th>\n",
       "      <th>product_id</th>\n",
       "      <th>product_name</th>\n",
       "      <th>product_size</th>\n",
       "      <th>product_category_id</th>\n",
       "      <th>product_qty_type</th>\n",
       "    </tr>\n",
       "  </thead>\n",
       "  <tbody>\n",
       "    <tr>\n",
       "      <th>0</th>\n",
       "      <td>1</td>\n",
       "      <td>7</td>\n",
       "      <td>2019-07-03</td>\n",
       "      <td>14</td>\n",
       "      <td>0.99</td>\n",
       "      <td>6.99</td>\n",
       "      <td>0 days 17:32:00</td>\n",
       "      <td>1</td>\n",
       "      <td>Habanero Peppers - Organic</td>\n",
       "      <td>medium</td>\n",
       "      <td>1</td>\n",
       "      <td>lbs</td>\n",
       "    </tr>\n",
       "    <tr>\n",
       "      <th>1</th>\n",
       "      <td>1</td>\n",
       "      <td>7</td>\n",
       "      <td>2019-07-03</td>\n",
       "      <td>14</td>\n",
       "      <td>2.18</td>\n",
       "      <td>6.99</td>\n",
       "      <td>0 days 18:23:00</td>\n",
       "      <td>1</td>\n",
       "      <td>Habanero Peppers - Organic</td>\n",
       "      <td>medium</td>\n",
       "      <td>1</td>\n",
       "      <td>lbs</td>\n",
       "    </tr>\n",
       "    <tr>\n",
       "      <th>2</th>\n",
       "      <td>1</td>\n",
       "      <td>7</td>\n",
       "      <td>2019-07-03</td>\n",
       "      <td>15</td>\n",
       "      <td>1.53</td>\n",
       "      <td>6.99</td>\n",
       "      <td>0 days 18:41:00</td>\n",
       "      <td>1</td>\n",
       "      <td>Habanero Peppers - Organic</td>\n",
       "      <td>medium</td>\n",
       "      <td>1</td>\n",
       "      <td>lbs</td>\n",
       "    </tr>\n",
       "    <tr>\n",
       "      <th>3</th>\n",
       "      <td>1</td>\n",
       "      <td>7</td>\n",
       "      <td>2019-07-03</td>\n",
       "      <td>16</td>\n",
       "      <td>2.02</td>\n",
       "      <td>6.99</td>\n",
       "      <td>0 days 18:18:00</td>\n",
       "      <td>1</td>\n",
       "      <td>Habanero Peppers - Organic</td>\n",
       "      <td>medium</td>\n",
       "      <td>1</td>\n",
       "      <td>lbs</td>\n",
       "    </tr>\n",
       "    <tr>\n",
       "      <th>4</th>\n",
       "      <td>1</td>\n",
       "      <td>7</td>\n",
       "      <td>2019-07-03</td>\n",
       "      <td>22</td>\n",
       "      <td>0.66</td>\n",
       "      <td>6.99</td>\n",
       "      <td>0 days 17:34:00</td>\n",
       "      <td>1</td>\n",
       "      <td>Habanero Peppers - Organic</td>\n",
       "      <td>medium</td>\n",
       "      <td>1</td>\n",
       "      <td>lbs</td>\n",
       "    </tr>\n",
       "  </tbody>\n",
       "</table>\n",
       "</div>"
      ],
      "text/plain": [
       "   product_id  vendor_id market_date  customer_id  quantity  \\\n",
       "0           1          7  2019-07-03           14      0.99   \n",
       "1           1          7  2019-07-03           14      2.18   \n",
       "2           1          7  2019-07-03           15      1.53   \n",
       "3           1          7  2019-07-03           16      2.02   \n",
       "4           1          7  2019-07-03           22      0.66   \n",
       "\n",
       "   cost_to_customer_per_qty transaction_time  product_id  \\\n",
       "0                      6.99  0 days 17:32:00           1   \n",
       "1                      6.99  0 days 18:23:00           1   \n",
       "2                      6.99  0 days 18:41:00           1   \n",
       "3                      6.99  0 days 18:18:00           1   \n",
       "4                      6.99  0 days 17:34:00           1   \n",
       "\n",
       "                 product_name product_size  product_category_id  \\\n",
       "0  Habanero Peppers - Organic       medium                    1   \n",
       "1  Habanero Peppers - Organic       medium                    1   \n",
       "2  Habanero Peppers - Organic       medium                    1   \n",
       "3  Habanero Peppers - Organic       medium                    1   \n",
       "4  Habanero Peppers - Organic       medium                    1   \n",
       "\n",
       "  product_qty_type  \n",
       "0              lbs  \n",
       "1              lbs  \n",
       "2              lbs  \n",
       "3              lbs  \n",
       "4              lbs  "
      ]
     },
     "execution_count": 50,
     "metadata": {},
     "output_type": "execute_result"
    }
   ],
   "source": [
    "df = pd.read_sql(text_query, engine.connect())\n",
    "df.head()\n"
   ]
  },
  {
   "cell_type": "markdown",
   "id": "8266068e",
   "metadata": {},
   "source": [
    "We will use the farmers_market database on Codeup's SQL server.\n",
    "\n",
    "We will run the following query:\n",
    "\n",
    "SELECT *  \n",
    "\n",
    "FROM customer_purchases  \n",
    "\n",
    "INNER JOIN product ON customer_purchases.product_id = product.product_id"
   ]
  },
  {
   "cell_type": "code",
   "execution_count": 51,
   "id": "816dacef",
   "metadata": {},
   "outputs": [
    {
     "name": "stdout",
     "output_type": "stream",
     "text": [
      "<class 'pandas.core.frame.DataFrame'>\n",
      "RangeIndex: 4221 entries, 0 to 4220\n",
      "Data columns (total 12 columns):\n",
      " #   Column                    Non-Null Count  Dtype          \n",
      "---  ------                    --------------  -----          \n",
      " 0   product_id                4221 non-null   int64          \n",
      " 1   vendor_id                 4221 non-null   int64          \n",
      " 2   market_date               4221 non-null   object         \n",
      " 3   customer_id               4221 non-null   int64          \n",
      " 4   quantity                  4221 non-null   float64        \n",
      " 5   cost_to_customer_per_qty  4221 non-null   float64        \n",
      " 6   transaction_time          4221 non-null   timedelta64[ns]\n",
      " 7   product_id                4221 non-null   int64          \n",
      " 8   product_name              4221 non-null   object         \n",
      " 9   product_size              4221 non-null   object         \n",
      " 10  product_category_id       4221 non-null   int64          \n",
      " 11  product_qty_type          4221 non-null   object         \n",
      "dtypes: float64(2), int64(5), object(4), timedelta64[ns](1)\n",
      "memory usage: 395.8+ KB\n"
     ]
    }
   ],
   "source": [
    "df.info()\n",
    "\n",
    "\n"
   ]
  },
  {
   "cell_type": "markdown",
   "id": "16eee736",
   "metadata": {},
   "source": [
    "Boolean masking will not make a triumphant return but it's still relevant!\n",
    "\n",
    "We can subset our dataframe using .loc and .iloc:\n",
    "- .loc will use labels to access specific rows/columns\n",
    "- .iloc will use index positions to access specific rows/columns"
   ]
  },
  {
   "cell_type": "code",
   "execution_count": 52,
   "id": "69f57e82",
   "metadata": {},
   "outputs": [
    {
     "data": {
      "text/html": [
       "<div>\n",
       "<style scoped>\n",
       "    .dataframe tbody tr th:only-of-type {\n",
       "        vertical-align: middle;\n",
       "    }\n",
       "\n",
       "    .dataframe tbody tr th {\n",
       "        vertical-align: top;\n",
       "    }\n",
       "\n",
       "    .dataframe thead th {\n",
       "        text-align: right;\n",
       "    }\n",
       "</style>\n",
       "<table border=\"1\" class=\"dataframe\">\n",
       "  <thead>\n",
       "    <tr style=\"text-align: right;\">\n",
       "      <th></th>\n",
       "      <th>vendor_id</th>\n",
       "      <th>market_date</th>\n",
       "      <th>customer_id</th>\n",
       "      <th>quantity</th>\n",
       "      <th>cost_to_customer_per_qty</th>\n",
       "      <th>transaction_time</th>\n",
       "    </tr>\n",
       "  </thead>\n",
       "  <tbody>\n",
       "    <tr>\n",
       "      <th>0</th>\n",
       "      <td>7</td>\n",
       "      <td>2019-07-03</td>\n",
       "      <td>14</td>\n",
       "      <td>0.99</td>\n",
       "      <td>6.99</td>\n",
       "      <td>0 days 17:32:00</td>\n",
       "    </tr>\n",
       "    <tr>\n",
       "      <th>1</th>\n",
       "      <td>7</td>\n",
       "      <td>2019-07-03</td>\n",
       "      <td>14</td>\n",
       "      <td>2.18</td>\n",
       "      <td>6.99</td>\n",
       "      <td>0 days 18:23:00</td>\n",
       "    </tr>\n",
       "    <tr>\n",
       "      <th>2</th>\n",
       "      <td>7</td>\n",
       "      <td>2019-07-03</td>\n",
       "      <td>15</td>\n",
       "      <td>1.53</td>\n",
       "      <td>6.99</td>\n",
       "      <td>0 days 18:41:00</td>\n",
       "    </tr>\n",
       "    <tr>\n",
       "      <th>3</th>\n",
       "      <td>7</td>\n",
       "      <td>2019-07-03</td>\n",
       "      <td>16</td>\n",
       "      <td>2.02</td>\n",
       "      <td>6.99</td>\n",
       "      <td>0 days 18:18:00</td>\n",
       "    </tr>\n",
       "    <tr>\n",
       "      <th>4</th>\n",
       "      <td>7</td>\n",
       "      <td>2019-07-03</td>\n",
       "      <td>22</td>\n",
       "      <td>0.66</td>\n",
       "      <td>6.99</td>\n",
       "      <td>0 days 17:34:00</td>\n",
       "    </tr>\n",
       "  </tbody>\n",
       "</table>\n",
       "</div>"
      ],
      "text/plain": [
       "   vendor_id market_date  customer_id  quantity  cost_to_customer_per_qty  \\\n",
       "0          7  2019-07-03           14      0.99                      6.99   \n",
       "1          7  2019-07-03           14      2.18                      6.99   \n",
       "2          7  2019-07-03           15      1.53                      6.99   \n",
       "3          7  2019-07-03           16      2.02                      6.99   \n",
       "4          7  2019-07-03           22      0.66                      6.99   \n",
       "\n",
       "  transaction_time  \n",
       "0  0 days 17:32:00  \n",
       "1  0 days 18:23:00  \n",
       "2  0 days 18:41:00  \n",
       "3  0 days 18:18:00  \n",
       "4  0 days 17:34:00  "
      ]
     },
     "execution_count": 52,
     "metadata": {},
     "output_type": "execute_result"
    }
   ],
   "source": [
    "df.loc[:, 'vendor_id': 'transaction_time'].head() #the colon first represent give me all rows\n",
    "\n",
    "\n"
   ]
  },
  {
   "cell_type": "code",
   "execution_count": null,
   "id": "537b7654",
   "metadata": {},
   "outputs": [],
   "source": [
    "df.iloc[:5, 3:8]  #iloc first colon talks about the rows, second colon\n",
    "#talks about the column"
   ]
  },
  {
   "cell_type": "code",
   "execution_count": 53,
   "id": "4113d4d7",
   "metadata": {},
   "outputs": [
    {
     "data": {
      "text/plain": [
       "(4221, 12)"
      ]
     },
     "execution_count": 53,
     "metadata": {},
     "output_type": "execute_result"
    }
   ],
   "source": [
    "df.shape"
   ]
  },
  {
   "cell_type": "markdown",
   "id": "c50d4fe5",
   "metadata": {},
   "source": [
    "We can use the .agg() method to perform a specified aggregate function on one column!\n",
    "\n",
    "We can pass in a list of columns to aggregate and/or perform a list of aggregate functions!"
   ]
  },
  {
   "cell_type": "code",
   "execution_count": null,
   "id": "c660c475",
   "metadata": {},
   "outputs": [],
   "source": [
    "df.head()\n",
    "\n"
   ]
  },
  {
   "cell_type": "code",
   "execution_count": 54,
   "id": "bfa147e5",
   "metadata": {},
   "outputs": [
    {
     "data": {
      "text/html": [
       "<div>\n",
       "<style scoped>\n",
       "    .dataframe tbody tr th:only-of-type {\n",
       "        vertical-align: middle;\n",
       "    }\n",
       "\n",
       "    .dataframe tbody tr th {\n",
       "        vertical-align: top;\n",
       "    }\n",
       "\n",
       "    .dataframe thead th {\n",
       "        text-align: right;\n",
       "    }\n",
       "</style>\n",
       "<table border=\"1\" class=\"dataframe\">\n",
       "  <thead>\n",
       "    <tr style=\"text-align: right;\">\n",
       "      <th></th>\n",
       "      <th>product_id</th>\n",
       "      <th>vendor_id</th>\n",
       "      <th>market_date</th>\n",
       "      <th>customer_id</th>\n",
       "      <th>quantity</th>\n",
       "      <th>cost_to_customer_per_qty</th>\n",
       "      <th>transaction_time</th>\n",
       "      <th>product_id</th>\n",
       "      <th>product_name</th>\n",
       "      <th>product_size</th>\n",
       "      <th>product_category_id</th>\n",
       "      <th>product_qty_type</th>\n",
       "      <th>total_cost</th>\n",
       "    </tr>\n",
       "  </thead>\n",
       "  <tbody>\n",
       "    <tr>\n",
       "      <th>0</th>\n",
       "      <td>1</td>\n",
       "      <td>7</td>\n",
       "      <td>2019-07-03</td>\n",
       "      <td>14</td>\n",
       "      <td>0.99</td>\n",
       "      <td>6.99</td>\n",
       "      <td>0 days 17:32:00</td>\n",
       "      <td>1</td>\n",
       "      <td>Habanero Peppers - Organic</td>\n",
       "      <td>medium</td>\n",
       "      <td>1</td>\n",
       "      <td>lbs</td>\n",
       "      <td>6.9201</td>\n",
       "    </tr>\n",
       "    <tr>\n",
       "      <th>1</th>\n",
       "      <td>1</td>\n",
       "      <td>7</td>\n",
       "      <td>2019-07-03</td>\n",
       "      <td>14</td>\n",
       "      <td>2.18</td>\n",
       "      <td>6.99</td>\n",
       "      <td>0 days 18:23:00</td>\n",
       "      <td>1</td>\n",
       "      <td>Habanero Peppers - Organic</td>\n",
       "      <td>medium</td>\n",
       "      <td>1</td>\n",
       "      <td>lbs</td>\n",
       "      <td>15.2382</td>\n",
       "    </tr>\n",
       "    <tr>\n",
       "      <th>2</th>\n",
       "      <td>1</td>\n",
       "      <td>7</td>\n",
       "      <td>2019-07-03</td>\n",
       "      <td>15</td>\n",
       "      <td>1.53</td>\n",
       "      <td>6.99</td>\n",
       "      <td>0 days 18:41:00</td>\n",
       "      <td>1</td>\n",
       "      <td>Habanero Peppers - Organic</td>\n",
       "      <td>medium</td>\n",
       "      <td>1</td>\n",
       "      <td>lbs</td>\n",
       "      <td>10.6947</td>\n",
       "    </tr>\n",
       "    <tr>\n",
       "      <th>3</th>\n",
       "      <td>1</td>\n",
       "      <td>7</td>\n",
       "      <td>2019-07-03</td>\n",
       "      <td>16</td>\n",
       "      <td>2.02</td>\n",
       "      <td>6.99</td>\n",
       "      <td>0 days 18:18:00</td>\n",
       "      <td>1</td>\n",
       "      <td>Habanero Peppers - Organic</td>\n",
       "      <td>medium</td>\n",
       "      <td>1</td>\n",
       "      <td>lbs</td>\n",
       "      <td>14.1198</td>\n",
       "    </tr>\n",
       "    <tr>\n",
       "      <th>4</th>\n",
       "      <td>1</td>\n",
       "      <td>7</td>\n",
       "      <td>2019-07-03</td>\n",
       "      <td>22</td>\n",
       "      <td>0.66</td>\n",
       "      <td>6.99</td>\n",
       "      <td>0 days 17:34:00</td>\n",
       "      <td>1</td>\n",
       "      <td>Habanero Peppers - Organic</td>\n",
       "      <td>medium</td>\n",
       "      <td>1</td>\n",
       "      <td>lbs</td>\n",
       "      <td>4.6134</td>\n",
       "    </tr>\n",
       "  </tbody>\n",
       "</table>\n",
       "</div>"
      ],
      "text/plain": [
       "   product_id  vendor_id market_date  customer_id  quantity  \\\n",
       "0           1          7  2019-07-03           14      0.99   \n",
       "1           1          7  2019-07-03           14      2.18   \n",
       "2           1          7  2019-07-03           15      1.53   \n",
       "3           1          7  2019-07-03           16      2.02   \n",
       "4           1          7  2019-07-03           22      0.66   \n",
       "\n",
       "   cost_to_customer_per_qty transaction_time  product_id  \\\n",
       "0                      6.99  0 days 17:32:00           1   \n",
       "1                      6.99  0 days 18:23:00           1   \n",
       "2                      6.99  0 days 18:41:00           1   \n",
       "3                      6.99  0 days 18:18:00           1   \n",
       "4                      6.99  0 days 17:34:00           1   \n",
       "\n",
       "                 product_name product_size  product_category_id  \\\n",
       "0  Habanero Peppers - Organic       medium                    1   \n",
       "1  Habanero Peppers - Organic       medium                    1   \n",
       "2  Habanero Peppers - Organic       medium                    1   \n",
       "3  Habanero Peppers - Organic       medium                    1   \n",
       "4  Habanero Peppers - Organic       medium                    1   \n",
       "\n",
       "  product_qty_type  total_cost  \n",
       "0              lbs      6.9201  \n",
       "1              lbs     15.2382  \n",
       "2              lbs     10.6947  \n",
       "3              lbs     14.1198  \n",
       "4              lbs      4.6134  "
      ]
     },
     "execution_count": 54,
     "metadata": {},
     "output_type": "execute_result"
    }
   ],
   "source": [
    "df = df.assign(total_cost = df.quantity * df.cost_to_customer_per_qty)\n",
    "df.head()"
   ]
  },
  {
   "cell_type": "code",
   "execution_count": 55,
   "id": "1124e53a",
   "metadata": {},
   "outputs": [
    {
     "data": {
      "text/plain": [
       "mean     16.400648\n",
       "max     144.000000\n",
       "min       0.069800\n",
       "Name: total_cost, dtype: float64"
      ]
     },
     "execution_count": 55,
     "metadata": {},
     "output_type": "execute_result"
    }
   ],
   "source": [
    "df.total_cost.agg(['mean', 'max', 'min'])   #benefit of aggregation is you can use multiple \n",
    "#operation on it"
   ]
  },
  {
   "cell_type": "code",
   "execution_count": 56,
   "id": "e1889079",
   "metadata": {},
   "outputs": [
    {
     "data": {
      "text/plain": [
       "Index(['product_id', 'vendor_id', 'market_date', 'customer_id', 'quantity',\n",
       "       'cost_to_customer_per_qty', 'transaction_time', 'product_id',\n",
       "       'product_name', 'product_size', 'product_category_id',\n",
       "       'product_qty_type', 'total_cost'],\n",
       "      dtype='object')"
      ]
     },
     "execution_count": 56,
     "metadata": {},
     "output_type": "execute_result"
    }
   ],
   "source": [
    "df.columns"
   ]
  },
  {
   "cell_type": "code",
   "execution_count": 57,
   "id": "d784c015",
   "metadata": {},
   "outputs": [
    {
     "data": {
      "text/html": [
       "<div>\n",
       "<style scoped>\n",
       "    .dataframe tbody tr th:only-of-type {\n",
       "        vertical-align: middle;\n",
       "    }\n",
       "\n",
       "    .dataframe tbody tr th {\n",
       "        vertical-align: top;\n",
       "    }\n",
       "\n",
       "    .dataframe thead th {\n",
       "        text-align: right;\n",
       "    }\n",
       "</style>\n",
       "<table border=\"1\" class=\"dataframe\">\n",
       "  <thead>\n",
       "    <tr style=\"text-align: right;\">\n",
       "      <th></th>\n",
       "      <th>quantity</th>\n",
       "      <th>total_cost</th>\n",
       "    </tr>\n",
       "  </thead>\n",
       "  <tbody>\n",
       "    <tr>\n",
       "      <th>mean</th>\n",
       "      <td>2.858112</td>\n",
       "      <td>16.400648</td>\n",
       "    </tr>\n",
       "    <tr>\n",
       "      <th>max</th>\n",
       "      <td>20.000000</td>\n",
       "      <td>144.000000</td>\n",
       "    </tr>\n",
       "    <tr>\n",
       "      <th>min</th>\n",
       "      <td>0.020000</td>\n",
       "      <td>0.069800</td>\n",
       "    </tr>\n",
       "  </tbody>\n",
       "</table>\n",
       "</div>"
      ],
      "text/plain": [
       "       quantity  total_cost\n",
       "mean   2.858112   16.400648\n",
       "max   20.000000  144.000000\n",
       "min    0.020000    0.069800"
      ]
     },
     "execution_count": 57,
     "metadata": {},
     "output_type": "execute_result"
    }
   ],
   "source": [
    "df[['quantity', 'total_cost']].agg(['mean', 'max', 'min'])"
   ]
  },
  {
   "cell_type": "markdown",
   "id": "a4e66b44",
   "metadata": {},
   "source": [
    "We can use the .groupby() method to consider the unique values in a column.\n",
    "\n",
    "We then specify a second column on which to perform some aggregate calculations!"
   ]
  },
  {
   "cell_type": "code",
   "execution_count": 60,
   "id": "0c633e10",
   "metadata": {},
   "outputs": [
    {
     "data": {
      "text/plain": [
       "2.54063829787234"
      ]
     },
     "execution_count": 60,
     "metadata": {},
     "output_type": "execute_result"
    }
   ],
   "source": [
    "df.groupby('product_name').total_cost.agg('mean').loc['Sweet Corn']\n",
    "\n",
    "\n"
   ]
  },
  {
   "cell_type": "code",
   "execution_count": 59,
   "id": "90ed4e7e",
   "metadata": {},
   "outputs": [
    {
     "data": {
      "text/plain": [
       "product_name       total_cost\n",
       "Apple Pie          18.0          287\n",
       "                   36.0          172\n",
       "                   54.0           85\n",
       "                   72.0           16\n",
       "                   90.0            7\n",
       "                                ... \n",
       "Whole Wheat Bread  19.5          109\n",
       "                   32.5           84\n",
       "                   39.0            5\n",
       "                   45.5            4\n",
       "                   52.0            1\n",
       "Name: total_cost, Length: 435, dtype: int64"
      ]
     },
     "execution_count": 59,
     "metadata": {},
     "output_type": "execute_result"
    }
   ],
   "source": [
    "df.groupby('product_name').total_cost.value_counts()"
   ]
  },
  {
   "cell_type": "code",
   "execution_count": null,
   "id": "015807cb",
   "metadata": {},
   "outputs": [],
   "source": [
    "df['avg_prod_cost'] = round(df.groupby('product_name').total_cost.transform('mean'), 2)\n"
   ]
  },
  {
   "cell_type": "markdown",
   "id": "c949f1bb",
   "metadata": {},
   "source": [
    "The .transform() method returns an aggregate calculation, where the result is the same length as the dataframe!"
   ]
  },
  {
   "cell_type": "code",
   "execution_count": null,
   "id": "bc8b34bb",
   "metadata": {},
   "outputs": [],
   "source": [
    "#we can use np.where()to assign values based on a condition!"
   ]
  },
  {
   "cell_type": "code",
   "execution_count": 63,
   "id": "5f0e9598",
   "metadata": {},
   "outputs": [
    {
     "data": {
      "text/html": [
       "<div>\n",
       "<style scoped>\n",
       "    .dataframe tbody tr th:only-of-type {\n",
       "        vertical-align: middle;\n",
       "    }\n",
       "\n",
       "    .dataframe tbody tr th {\n",
       "        vertical-align: top;\n",
       "    }\n",
       "\n",
       "    .dataframe thead th {\n",
       "        text-align: right;\n",
       "    }\n",
       "</style>\n",
       "<table border=\"1\" class=\"dataframe\">\n",
       "  <thead>\n",
       "    <tr style=\"text-align: right;\">\n",
       "      <th></th>\n",
       "      <th>product_id</th>\n",
       "      <th>vendor_id</th>\n",
       "      <th>market_date</th>\n",
       "      <th>customer_id</th>\n",
       "      <th>quantity</th>\n",
       "      <th>cost_to_customer_per_qty</th>\n",
       "      <th>transaction_time</th>\n",
       "      <th>product_id</th>\n",
       "      <th>product_name</th>\n",
       "      <th>product_size</th>\n",
       "      <th>product_category_id</th>\n",
       "      <th>product_qty_type</th>\n",
       "      <th>total_cost</th>\n",
       "      <th>person</th>\n",
       "    </tr>\n",
       "  </thead>\n",
       "  <tbody>\n",
       "    <tr>\n",
       "      <th>0</th>\n",
       "      <td>1</td>\n",
       "      <td>7</td>\n",
       "      <td>2019-07-03</td>\n",
       "      <td>14</td>\n",
       "      <td>0.99</td>\n",
       "      <td>6.99</td>\n",
       "      <td>0 days 17:32:00</td>\n",
       "      <td>1</td>\n",
       "      <td>Habanero Peppers - Organic</td>\n",
       "      <td>medium</td>\n",
       "      <td>1</td>\n",
       "      <td>lbs</td>\n",
       "      <td>6.9201</td>\n",
       "      <td>normal person</td>\n",
       "    </tr>\n",
       "    <tr>\n",
       "      <th>1</th>\n",
       "      <td>1</td>\n",
       "      <td>7</td>\n",
       "      <td>2019-07-03</td>\n",
       "      <td>14</td>\n",
       "      <td>2.18</td>\n",
       "      <td>6.99</td>\n",
       "      <td>0 days 18:23:00</td>\n",
       "      <td>1</td>\n",
       "      <td>Habanero Peppers - Organic</td>\n",
       "      <td>medium</td>\n",
       "      <td>1</td>\n",
       "      <td>lbs</td>\n",
       "      <td>15.2382</td>\n",
       "      <td>normal person</td>\n",
       "    </tr>\n",
       "    <tr>\n",
       "      <th>2</th>\n",
       "      <td>1</td>\n",
       "      <td>7</td>\n",
       "      <td>2019-07-03</td>\n",
       "      <td>15</td>\n",
       "      <td>1.53</td>\n",
       "      <td>6.99</td>\n",
       "      <td>0 days 18:41:00</td>\n",
       "      <td>1</td>\n",
       "      <td>Habanero Peppers - Organic</td>\n",
       "      <td>medium</td>\n",
       "      <td>1</td>\n",
       "      <td>lbs</td>\n",
       "      <td>10.6947</td>\n",
       "      <td>normal person</td>\n",
       "    </tr>\n",
       "    <tr>\n",
       "      <th>3</th>\n",
       "      <td>1</td>\n",
       "      <td>7</td>\n",
       "      <td>2019-07-03</td>\n",
       "      <td>16</td>\n",
       "      <td>2.02</td>\n",
       "      <td>6.99</td>\n",
       "      <td>0 days 18:18:00</td>\n",
       "      <td>1</td>\n",
       "      <td>Habanero Peppers - Organic</td>\n",
       "      <td>medium</td>\n",
       "      <td>1</td>\n",
       "      <td>lbs</td>\n",
       "      <td>14.1198</td>\n",
       "      <td>normal person</td>\n",
       "    </tr>\n",
       "    <tr>\n",
       "      <th>4</th>\n",
       "      <td>1</td>\n",
       "      <td>7</td>\n",
       "      <td>2019-07-03</td>\n",
       "      <td>22</td>\n",
       "      <td>0.66</td>\n",
       "      <td>6.99</td>\n",
       "      <td>0 days 17:34:00</td>\n",
       "      <td>1</td>\n",
       "      <td>Habanero Peppers - Organic</td>\n",
       "      <td>medium</td>\n",
       "      <td>1</td>\n",
       "      <td>lbs</td>\n",
       "      <td>4.6134</td>\n",
       "      <td>normal person</td>\n",
       "    </tr>\n",
       "  </tbody>\n",
       "</table>\n",
       "</div>"
      ],
      "text/plain": [
       "   product_id  vendor_id market_date  customer_id  quantity  \\\n",
       "0           1          7  2019-07-03           14      0.99   \n",
       "1           1          7  2019-07-03           14      2.18   \n",
       "2           1          7  2019-07-03           15      1.53   \n",
       "3           1          7  2019-07-03           16      2.02   \n",
       "4           1          7  2019-07-03           22      0.66   \n",
       "\n",
       "   cost_to_customer_per_qty transaction_time  product_id  \\\n",
       "0                      6.99  0 days 17:32:00           1   \n",
       "1                      6.99  0 days 18:23:00           1   \n",
       "2                      6.99  0 days 18:41:00           1   \n",
       "3                      6.99  0 days 18:18:00           1   \n",
       "4                      6.99  0 days 17:34:00           1   \n",
       "\n",
       "                 product_name product_size  product_category_id  \\\n",
       "0  Habanero Peppers - Organic       medium                    1   \n",
       "1  Habanero Peppers - Organic       medium                    1   \n",
       "2  Habanero Peppers - Organic       medium                    1   \n",
       "3  Habanero Peppers - Organic       medium                    1   \n",
       "4  Habanero Peppers - Organic       medium                    1   \n",
       "\n",
       "  product_qty_type  total_cost         person  \n",
       "0              lbs      6.9201  normal person  \n",
       "1              lbs     15.2382  normal person  \n",
       "2              lbs     10.6947  normal person  \n",
       "3              lbs     14.1198  normal person  \n",
       "4              lbs      4.6134  normal person  "
      ]
     },
     "execution_count": 63,
     "metadata": {},
     "output_type": "execute_result"
    }
   ],
   "source": [
    "df['person'] = np.where(df.total_cost > 100, 'big_spender', 'normal person')\n",
    "df.head()\n",
    "\n"
   ]
  },
  {
   "cell_type": "code",
   "execution_count": 64,
   "id": "823820d7",
   "metadata": {},
   "outputs": [
    {
     "data": {
      "text/plain": [
       "normal person    4218\n",
       "big_spender         3\n",
       "Name: person, dtype: int64"
      ]
     },
     "execution_count": 64,
     "metadata": {},
     "output_type": "execute_result"
    }
   ],
   "source": [
    "df.person.value_counts()\n",
    "\n"
   ]
  },
  {
   "cell_type": "code",
   "execution_count": 65,
   "id": "8dc69b5a",
   "metadata": {},
   "outputs": [
    {
     "data": {
      "text/html": [
       "<div>\n",
       "<style scoped>\n",
       "    .dataframe tbody tr th:only-of-type {\n",
       "        vertical-align: middle;\n",
       "    }\n",
       "\n",
       "    .dataframe tbody tr th {\n",
       "        vertical-align: top;\n",
       "    }\n",
       "\n",
       "    .dataframe thead th {\n",
       "        text-align: right;\n",
       "    }\n",
       "</style>\n",
       "<table border=\"1\" class=\"dataframe\">\n",
       "  <thead>\n",
       "    <tr style=\"text-align: right;\">\n",
       "      <th></th>\n",
       "      <th>product_id</th>\n",
       "      <th>vendor_id</th>\n",
       "      <th>market_date</th>\n",
       "      <th>customer_id</th>\n",
       "      <th>quantity</th>\n",
       "      <th>cost_to_customer_per_qty</th>\n",
       "      <th>transaction_time</th>\n",
       "      <th>product_id</th>\n",
       "      <th>product_name</th>\n",
       "      <th>product_size</th>\n",
       "      <th>product_category_id</th>\n",
       "      <th>product_qty_type</th>\n",
       "      <th>total_cost</th>\n",
       "      <th>person</th>\n",
       "    </tr>\n",
       "  </thead>\n",
       "  <tbody>\n",
       "    <tr>\n",
       "      <th>3017</th>\n",
       "      <td>7</td>\n",
       "      <td>8</td>\n",
       "      <td>2020-05-02</td>\n",
       "      <td>21</td>\n",
       "      <td>6.0</td>\n",
       "      <td>18.0</td>\n",
       "      <td>0 days 11:02:00</td>\n",
       "      <td>7</td>\n",
       "      <td>Apple Pie</td>\n",
       "      <td>10\"</td>\n",
       "      <td>3</td>\n",
       "      <td>unit</td>\n",
       "      <td>108.0</td>\n",
       "      <td>big_spender</td>\n",
       "    </tr>\n",
       "    <tr>\n",
       "      <th>3486</th>\n",
       "      <td>8</td>\n",
       "      <td>8</td>\n",
       "      <td>2019-12-18</td>\n",
       "      <td>22</td>\n",
       "      <td>8.0</td>\n",
       "      <td>18.0</td>\n",
       "      <td>0 days 18:15:00</td>\n",
       "      <td>8</td>\n",
       "      <td>Cherry Pie</td>\n",
       "      <td>10\"</td>\n",
       "      <td>3</td>\n",
       "      <td>unit</td>\n",
       "      <td>144.0</td>\n",
       "      <td>big_spender</td>\n",
       "    </tr>\n",
       "    <tr>\n",
       "      <th>3503</th>\n",
       "      <td>8</td>\n",
       "      <td>8</td>\n",
       "      <td>2019-12-25</td>\n",
       "      <td>24</td>\n",
       "      <td>6.0</td>\n",
       "      <td>18.0</td>\n",
       "      <td>0 days 17:52:00</td>\n",
       "      <td>8</td>\n",
       "      <td>Cherry Pie</td>\n",
       "      <td>10\"</td>\n",
       "      <td>3</td>\n",
       "      <td>unit</td>\n",
       "      <td>108.0</td>\n",
       "      <td>big_spender</td>\n",
       "    </tr>\n",
       "  </tbody>\n",
       "</table>\n",
       "</div>"
      ],
      "text/plain": [
       "      product_id  vendor_id market_date  customer_id  quantity  \\\n",
       "3017           7          8  2020-05-02           21       6.0   \n",
       "3486           8          8  2019-12-18           22       8.0   \n",
       "3503           8          8  2019-12-25           24       6.0   \n",
       "\n",
       "      cost_to_customer_per_qty transaction_time  product_id product_name  \\\n",
       "3017                      18.0  0 days 11:02:00           7    Apple Pie   \n",
       "3486                      18.0  0 days 18:15:00           8   Cherry Pie   \n",
       "3503                      18.0  0 days 17:52:00           8   Cherry Pie   \n",
       "\n",
       "     product_size  product_category_id product_qty_type  total_cost  \\\n",
       "3017          10\"                    3             unit       108.0   \n",
       "3486          10\"                    3             unit       144.0   \n",
       "3503          10\"                    3             unit       108.0   \n",
       "\n",
       "           person  \n",
       "3017  big_spender  \n",
       "3486  big_spender  \n",
       "3503  big_spender  "
      ]
     },
     "execution_count": 65,
     "metadata": {},
     "output_type": "execute_result"
    }
   ],
   "source": [
    "df[df.person == 'big_spender']\n",
    "# we can associate why they are big spender\n"
   ]
  },
  {
   "cell_type": "code",
   "execution_count": null,
   "id": "f16ed5f6",
   "metadata": {},
   "outputs": [],
   "source": []
  }
 ],
 "metadata": {
  "kernelspec": {
   "display_name": "Python 3 (ipykernel)",
   "language": "python",
   "name": "python3"
  },
  "language_info": {
   "codemirror_mode": {
    "name": "ipython",
    "version": 3
   },
   "file_extension": ".py",
   "mimetype": "text/x-python",
   "name": "python",
   "nbconvert_exporter": "python",
   "pygments_lexer": "ipython3",
   "version": "3.10.9"
  }
 },
 "nbformat": 4,
 "nbformat_minor": 5
}
