{
 "cells": [
  {
   "cell_type": "markdown",
   "id": "efdecbe2",
   "metadata": {},
   "source": [
    "Building a notebook from scratch"
   ]
  },
  {
   "cell_type": "code",
   "execution_count": 1,
   "id": "ac4148b2",
   "metadata": {},
   "outputs": [
    {
     "name": "stderr",
     "output_type": "stream",
     "text": [
      "UsageError: %autosave requires an integer, got ''\n"
     ]
    }
   ],
   "source": [
    "%autosave 0"
   ]
  },
  {
   "cell_type": "code",
   "execution_count": 2,
   "id": "54c8095e",
   "metadata": {},
   "outputs": [],
   "source": [
    "#imports\n",
    "import pandas as pd\n",
    "import matplotlib.pyplot as plt\n",
    "from scipy import stats\n",
    "from pydataset import data"
   ]
  },
  {
   "cell_type": "code",
   "execution_count": 3,
   "id": "5018c0ea",
   "metadata": {},
   "outputs": [
    {
     "data": {
      "text/html": [
       "<div>\n",
       "<style scoped>\n",
       "    .dataframe tbody tr th:only-of-type {\n",
       "        vertical-align: middle;\n",
       "    }\n",
       "\n",
       "    .dataframe tbody tr th {\n",
       "        vertical-align: top;\n",
       "    }\n",
       "\n",
       "    .dataframe thead th {\n",
       "        text-align: right;\n",
       "    }\n",
       "</style>\n",
       "<table border=\"1\" class=\"dataframe\">\n",
       "  <thead>\n",
       "    <tr style=\"text-align: right;\">\n",
       "      <th></th>\n",
       "      <th>total_bill</th>\n",
       "      <th>tip</th>\n",
       "      <th>sex</th>\n",
       "      <th>smoker</th>\n",
       "      <th>day</th>\n",
       "      <th>time</th>\n",
       "      <th>size</th>\n",
       "    </tr>\n",
       "  </thead>\n",
       "  <tbody>\n",
       "    <tr>\n",
       "      <th>1</th>\n",
       "      <td>16.99</td>\n",
       "      <td>1.01</td>\n",
       "      <td>Female</td>\n",
       "      <td>No</td>\n",
       "      <td>Sun</td>\n",
       "      <td>Dinner</td>\n",
       "      <td>2</td>\n",
       "    </tr>\n",
       "    <tr>\n",
       "      <th>2</th>\n",
       "      <td>10.34</td>\n",
       "      <td>1.66</td>\n",
       "      <td>Male</td>\n",
       "      <td>No</td>\n",
       "      <td>Sun</td>\n",
       "      <td>Dinner</td>\n",
       "      <td>3</td>\n",
       "    </tr>\n",
       "    <tr>\n",
       "      <th>3</th>\n",
       "      <td>21.01</td>\n",
       "      <td>3.50</td>\n",
       "      <td>Male</td>\n",
       "      <td>No</td>\n",
       "      <td>Sun</td>\n",
       "      <td>Dinner</td>\n",
       "      <td>3</td>\n",
       "    </tr>\n",
       "    <tr>\n",
       "      <th>4</th>\n",
       "      <td>23.68</td>\n",
       "      <td>3.31</td>\n",
       "      <td>Male</td>\n",
       "      <td>No</td>\n",
       "      <td>Sun</td>\n",
       "      <td>Dinner</td>\n",
       "      <td>2</td>\n",
       "    </tr>\n",
       "    <tr>\n",
       "      <th>5</th>\n",
       "      <td>24.59</td>\n",
       "      <td>3.61</td>\n",
       "      <td>Female</td>\n",
       "      <td>No</td>\n",
       "      <td>Sun</td>\n",
       "      <td>Dinner</td>\n",
       "      <td>4</td>\n",
       "    </tr>\n",
       "  </tbody>\n",
       "</table>\n",
       "</div>"
      ],
      "text/plain": [
       "   total_bill   tip     sex smoker  day    time  size\n",
       "1       16.99  1.01  Female     No  Sun  Dinner     2\n",
       "2       10.34  1.66    Male     No  Sun  Dinner     3\n",
       "3       21.01  3.50    Male     No  Sun  Dinner     3\n",
       "4       23.68  3.31    Male     No  Sun  Dinner     2\n",
       "5       24.59  3.61  Female     No  Sun  Dinner     4"
      ]
     },
     "execution_count": 3,
     "metadata": {},
     "output_type": "execute_result"
    }
   ],
   "source": [
    "#this will be a one sample ttest\n",
    "df = data('tips')\n",
    "df.head()"
   ]
  },
  {
   "cell_type": "markdown",
   "id": "12784c1c",
   "metadata": {},
   "source": [
    "if the size of the party influence how much you tip\n",
    "\n",
    "Null: size 2 party tip the same amount as any party in my dataset  #this is a one tail test\n",
    "\n",
    "Alternative: size 2 parties tip a different amount from any party in my dataset. #this is a two tail test"
   ]
  },
  {
   "cell_type": "code",
   "execution_count": 11,
   "id": "d6fa09dd",
   "metadata": {},
   "outputs": [],
   "source": [
    "#define population mean\n",
    "overall_tip = df.tip.mean()"
   ]
  },
  {
   "cell_type": "code",
   "execution_count": 32,
   "id": "123f45d9",
   "metadata": {},
   "outputs": [],
   "source": [
    "#find my sample , we are looking for size 2 parties to define sample distribution\n",
    "tip_for_two = df[df['size']== 2].tip    #this will give you a distribution of value for one sample for the \n",
    "#ttest and a population mean"
   ]
  },
  {
   "cell_type": "code",
   "execution_count": 33,
   "id": "3ca74833",
   "metadata": {},
   "outputs": [
    {
     "data": {
      "text/plain": [
       "(-5.271912239283316, 4.4632473980137726e-07)"
      ]
     },
     "execution_count": 33,
     "metadata": {},
     "output_type": "execute_result"
    }
   ],
   "source": [
    "t_two, p_two = stats.ttest_1samp(tip_for_two, overall_tip)\n",
    "t_two, p_two\n",
    "#want to compare sample distribution to the mean so put in distribution first"
   ]
  },
  {
   "cell_type": "code",
   "execution_count": 34,
   "id": "df1ca72b",
   "metadata": {},
   "outputs": [
    {
     "data": {
      "image/png": "[encoded data removed]",
      "text/plain": [
       "<Figure size 640x480 with 1 Axes>"
      ]
     },
     "metadata": {},
     "output_type": "display_data"
    }
   ],
   "source": [
    "plt.hist(df.tip, label = 'population')\n",
    "plt.hist(tip_for_two, label = 'party of two')\n",
    "plt.vlines(overall_tip, 0, 80, color = 'firebrick')   #with this red line, we see there is a negative t-value\n",
    "plt.xlabel('tip amount')\n",
    "plt.ylabel('frequency')\n",
    "plt.legend()\n",
    "plt.show()"
   ]
  },
  {
   "cell_type": "code",
   "execution_count": 29,
   "id": "7210d30b",
   "metadata": {},
   "outputs": [
    {
     "name": "stdout",
     "output_type": "stream",
     "text": [
      "we fail to reject the null hypothesis\n"
     ]
    }
   ],
   "source": [
    "a = 0.05\n",
    "if p_two < a:\n",
    "    print('we reject the null hypothesis.')\n",
    "else:\n",
    "    print('we fail to reject the null hypothesis')"
   ]
  },
  {
   "cell_type": "code",
   "execution_count": null,
   "id": "cc984f17",
   "metadata": {},
   "outputs": [],
   "source": []
  },
  {
   "cell_type": "code",
   "execution_count": null,
   "id": "33056495",
   "metadata": {},
   "outputs": [],
   "source": []
  },
  {
   "cell_type": "markdown",
   "id": "f1e341d8",
   "metadata": {},
   "source": [
    "#New test\n",
    "\n",
    "Null: guests for dinner pay less than or the same amount as guests for lunch\n",
    "\n",
    "Alternative: Guests for dinner pay more than guests for lunch \n",
    "    \n",
    "#This will be a 2-sampl, 1-tailed t-test"
   ]
  },
  {
   "cell_type": "code",
   "execution_count": 35,
   "id": "bdf228ca",
   "metadata": {},
   "outputs": [
    {
     "data": {
      "text/plain": [
       "Index(['total_bill', 'tip', 'sex', 'smoker', 'day', 'time', 'size'], dtype='object')"
      ]
     },
     "execution_count": 35,
     "metadata": {},
     "output_type": "execute_result"
    }
   ],
   "source": [
    "df.columns"
   ]
  },
  {
   "cell_type": "code",
   "execution_count": 36,
   "id": "24af1699",
   "metadata": {},
   "outputs": [
    {
     "data": {
      "text/plain": [
       "array(['Dinner', 'Lunch'], dtype=object)"
      ]
     },
     "execution_count": 36,
     "metadata": {},
     "output_type": "execute_result"
    }
   ],
   "source": [
    "#im interested in the total bill and the time column\n",
    "df.time.unique()"
   ]
  },
  {
   "cell_type": "code",
   "execution_count": 43,
   "id": "8e9ddd08",
   "metadata": {},
   "outputs": [],
   "source": [
    "#set up boolean mass to create distribution for data. get a dataframe return. use total_bill for distribution\n",
    "lunch_bills = df[df.time == 'Lunch'].total_bill\n",
    "#store this as a variable in order to create a comparison"
   ]
  },
  {
   "cell_type": "code",
   "execution_count": 44,
   "id": "10dff40f",
   "metadata": {},
   "outputs": [],
   "source": [
    "#since this is a 2 sample t-test, you need another sample\n",
    "dinner_bills = df[df.time == 'Dinner'].total_bill"
   ]
  },
  {
   "cell_type": "code",
   "execution_count": 47,
   "id": "a6fcbd4c",
   "metadata": {},
   "outputs": [
    {
     "data": {
      "image/png": "[encoded data removed]",
      "text/plain": [
       "<Figure size 640x480 with 1 Axes>"
      ]
     },
     "metadata": {},
     "output_type": "display_data"
    }
   ],
   "source": [
    "plt.hist(lunch_bills, label = 'Lunch Bills')\n",
    "plt.hist(dinner_bills, label = 'Dinner Bills', alpha = 0.2)   #use alpha to make things all distribution visible\n",
    "plt.legend()\n",
    "plt.show()"
   ]
  },
  {
   "cell_type": "code",
   "execution_count": 48,
   "id": "f7b247d8",
   "metadata": {},
   "outputs": [
    {
     "data": {
      "text/plain": [
       "(2.8976375218366424, 0.004104621407595676)"
      ]
     },
     "execution_count": 48,
     "metadata": {},
     "output_type": "execute_result"
    }
   ],
   "source": [
    "t_time, p_time = stats.ttest_ind(dinner_bills, lunch_bills)\n",
    "t_time, p_time\n",
    "#it appears that dinner bills are bigger "
   ]
  },
  {
   "cell_type": "code",
   "execution_count": 53,
   "id": "9a1198aa",
   "metadata": {},
   "outputs": [
    {
     "name": "stdout",
     "output_type": "stream",
     "text": [
      "We reject the null hypothesis.\n"
     ]
    }
   ],
   "source": [
    "a = 0.05\n",
    "if (t_time > 0) and(p_time / 2 < a):   #we are dividing it by two because \n",
    "    print('We reject the null hypothesis.')\n",
    "else:\n",
    "    print('We fail to reject the null hypothesis.')"
   ]
  },
  {
   "cell_type": "code",
   "execution_count": 54,
   "id": "8630eab9",
   "metadata": {},
   "outputs": [
    {
     "data": {
      "text/plain": [
       "Ttest_indResult(statistic=-2.8976375218366424, pvalue=0.004104621407595676)"
      ]
     },
     "execution_count": 54,
     "metadata": {},
     "output_type": "execute_result"
    }
   ],
   "source": [
    "stats.ttest_ind(lunch_bills, dinner_bills)\n",
    "# you can see the statistic is negative intead of positive due to the placement of the comparison"
   ]
  },
  {
   "cell_type": "code",
   "execution_count": null,
   "id": "714e0165",
   "metadata": {},
   "outputs": [],
   "source": []
  },
  {
   "cell_type": "code",
   "execution_count": null,
   "id": "2be619f7",
   "metadata": {},
   "outputs": [],
   "source": []
  },
  {
   "cell_type": "code",
   "execution_count": null,
   "id": "c97c76b0",
   "metadata": {},
   "outputs": [],
   "source": []
  }
 ],
 "metadata": {
  "kernelspec": {
   "display_name": "Python 3 (ipykernel)",
   "language": "python",
   "name": "python3"
  },
  "language_info": {
   "codemirror_mode": {
    "name": "ipython",
    "version": 3
   },
   "file_extension": ".py",
   "mimetype": "text/x-python",
   "name": "python",
   "nbconvert_exporter": "python",
   "pygments_lexer": "ipython3",
   "version": "3.10.9"
  }
 },
 "nbformat": 4,
 "nbformat_minor": 5
}
