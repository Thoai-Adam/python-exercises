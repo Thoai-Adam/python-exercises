{
 "cells": [
  {
   "cell_type": "code",
   "execution_count": 2,
   "id": "2b95dafc",
   "metadata": {},
   "outputs": [],
   "source": [
    "import numpy as np"
   ]
  },
  {
   "cell_type": "code",
   "execution_count": 3,
   "id": "b87f1579",
   "metadata": {},
   "outputs": [],
   "source": [
    "a = np.array([4, 10, 12, 23, -2, -1,0, 0, -6, 3, -7])"
   ]
  },
  {
   "cell_type": "code",
   "execution_count": 13,
   "id": "640906fe",
   "metadata": {},
   "outputs": [
    {
     "data": {
      "text/plain": [
       "4"
      ]
     },
     "execution_count": 13,
     "metadata": {},
     "output_type": "execute_result"
    }
   ],
   "source": [
    "#how many negative numbers are there?\n",
    "\n",
    "a < 0\n",
    "sum(a<0)\n",
    "#len(a(a<0))"
   ]
  },
  {
   "cell_type": "code",
   "execution_count": 14,
   "id": "3a20bbc5",
   "metadata": {},
   "outputs": [
    {
     "data": {
      "text/plain": [
       "5"
      ]
     },
     "execution_count": 14,
     "metadata": {},
     "output_type": "execute_result"
    }
   ],
   "source": [
    "#how many positive numbers are there?\n",
    "a > 0\n",
    "sum(a>0)\n",
    "#len(a(a>0))"
   ]
  },
  {
   "cell_type": "code",
   "execution_count": 39,
   "id": "3d887539",
   "metadata": {},
   "outputs": [
    {
     "data": {
      "text/plain": [
       "3"
      ]
     },
     "execution_count": 39,
     "metadata": {},
     "output_type": "execute_result"
    }
   ],
   "source": [
    "#how many even positive numbers are there?  use the and symbol and not the \"and \" word\n",
    "positive_even = (a > 0) & (a % 2 == 0)\n",
    "sum (positive_even)\n",
    "#len(a[a>0 and a % 2 = 0])"
   ]
  },
  {
   "cell_type": "code",
   "execution_count": 44,
   "id": "353e3620",
   "metadata": {},
   "outputs": [
    {
     "data": {
      "text/plain": [
       "9"
      ]
     },
     "execution_count": 44,
     "metadata": {},
     "output_type": "execute_result"
    }
   ],
   "source": [
    "#if you were to add 3 to each data point, \n",
    "#how many positive numbers would there be?\n",
    "(a + 3)>0\n",
    "sum((a + 3)>0)"
   ]
  },
  {
   "cell_type": "code",
   "execution_count": 49,
   "id": "ee262527",
   "metadata": {},
   "outputs": [
    {
     "data": {
      "text/plain": [
       "array([ 7, 13, 15, 26,  1,  2,  3,  3, -3,  6, -4])"
      ]
     },
     "execution_count": 49,
     "metadata": {},
     "output_type": "execute_result"
    }
   ],
   "source": [
    "a+3 "
   ]
  },
  {
   "cell_type": "code",
   "execution_count": 59,
   "id": "7621f3bb",
   "metadata": {},
   "outputs": [
    {
     "data": {
      "text/plain": [
       "array([ 16, 100, 144, 529,   4,   1,   0,   0,  36,   9,  49])"
      ]
     },
     "execution_count": 59,
     "metadata": {},
     "output_type": "execute_result"
    }
   ],
   "source": [
    "#if you squared each number, \n",
    "#what would the new mean and standard deviation be?\n",
    "a**2\n",
    "#(a ** 2).mean()"
   ]
  },
  {
   "cell_type": "code",
   "execution_count": 70,
   "id": "637d6a05",
   "metadata": {},
   "outputs": [
    {
     "data": {
      "text/plain": [
       "80.72727272727273"
      ]
     },
     "execution_count": 70,
     "metadata": {},
     "output_type": "execute_result"
    }
   ],
   "source": [
    "new_mean = a**2\n",
    "new_mean.mean()"
   ]
  },
  {
   "cell_type": "code",
   "execution_count": 72,
   "id": "7a489090",
   "metadata": {},
   "outputs": [
    {
     "data": {
      "text/plain": [
       "148.61242509481494"
      ]
     },
     "execution_count": 72,
     "metadata": {},
     "output_type": "execute_result"
    }
   ],
   "source": [
    "new_mean.std()     #good example of a method call"
   ]
  },
  {
   "cell_type": "code",
   "execution_count": 75,
   "id": "1cf1a9a0",
   "metadata": {},
   "outputs": [
    {
     "data": {
      "text/plain": [
       "array([ 0.08691546,  0.80396797,  1.04298547,  2.35758175, -0.63013706,\n",
       "       -0.5106283 , -0.39111955, -0.39111955, -1.10817207, -0.0325933 ,\n",
       "       -1.22768082])"
      ]
     },
     "execution_count": 75,
     "metadata": {},
     "output_type": "execute_result"
    }
   ],
   "source": [
    "#A common statistical operation on a dataset is centering.\n",
    "#This means to adjust the data such that the mean of the data is 0.\n",
    "#this is done by subtracting the mean from each data point. \n",
    "#center the data set. \n",
    "#calculate the z score for each data point. recall that the z-score \n",
    "#is given by formula:\n",
    "# z_scores = (data - np.mean(data)) / np.std(data)\n",
    "z_scores = (a -np.mean(a))/np.std(a)\n",
    "z_scores\n"
   ]
  },
  {
   "cell_type": "code",
   "execution_count": null,
   "id": "57a18bb4",
   "metadata": {},
   "outputs": [],
   "source": [
    "#Copy the setup and exercise directions from More Numpy Practice into your\n",
    "#numpy_exercises.py and add your solutions.\n"
   ]
  },
  {
   "cell_type": "code",
   "execution_count": 77,
   "id": "0ecdb451",
   "metadata": {},
   "outputs": [],
   "source": [
    "import numpy as np\n",
    "# Life w/o numpy to life with numpy"
   ]
  },
  {
   "cell_type": "code",
   "execution_count": 81,
   "id": "9fa191d6",
   "metadata": {},
   "outputs": [
    {
     "data": {
      "text/plain": [
       "55"
      ]
     },
     "execution_count": 81,
     "metadata": {},
     "output_type": "execute_result"
    }
   ],
   "source": [
    "\n",
    "## Setup 1\n",
    "a = [1, 2, 3, 4, 5, 6, 7, 8, 9, 10]\n",
    "\n",
    "# Use python's built in functionality/operators to determine the following:\n",
    "# Exercise 1 - Make a variable called sum_of_a to hold the sum of all the numbers in above list\n",
    "sum_of_a = sum(a)"
   ]
  },
  {
   "cell_type": "code",
   "execution_count": 82,
   "id": "d588d1f6",
   "metadata": {},
   "outputs": [
    {
     "data": {
      "text/plain": [
       "1"
      ]
     },
     "execution_count": 82,
     "metadata": {},
     "output_type": "execute_result"
    }
   ],
   "source": [
    "# Exercise 2 - Make a variable named min_of_a to hold the minimum of all the numbers in the above list\n",
    "min_of_a = min(a)"
   ]
  },
  {
   "cell_type": "code",
   "execution_count": 83,
   "id": "bb6bed97",
   "metadata": {},
   "outputs": [
    {
     "data": {
      "text/plain": [
       "10"
      ]
     },
     "execution_count": 83,
     "metadata": {},
     "output_type": "execute_result"
    }
   ],
   "source": [
    "# Exercise 3 - Make a variable named max_of_a to hold the max number of all the numbers in the above list\n",
    "max_of_a = max(a)"
   ]
  },
  {
   "cell_type": "code",
   "execution_count": 91,
   "id": "e37ba342",
   "metadata": {},
   "outputs": [
    {
     "data": {
      "text/plain": [
       "5.5"
      ]
     },
     "execution_count": 91,
     "metadata": {},
     "output_type": "execute_result"
    }
   ],
   "source": [
    "# Exercise 4 - Make a variable named mean_of_a to hold the average of all the numbers in the above list\n",
    "\n",
    "\n",
    "mean_of_a = ((sum(a))/10)\n",
    "mean_of_a"
   ]
  },
  {
   "cell_type": "code",
   "execution_count": 92,
   "id": "ec32e39e",
   "metadata": {},
   "outputs": [
    {
     "data": {
      "text/plain": [
       "3628800"
      ]
     },
     "execution_count": 92,
     "metadata": {},
     "output_type": "execute_result"
    }
   ],
   "source": [
    "# Exercise 5 - Make a variable named product_of_a to hold the product of multiplying all the numbers in the above list together\n",
    "\n",
    "product_of_a = np.prod(a)\n",
    "product_of_a"
   ]
  },
  {
   "cell_type": "code",
   "execution_count": 97,
   "id": "46cafd82",
   "metadata": {},
   "outputs": [
    {
     "data": {
      "text/plain": [
       "array([  1,   4,   9,  16,  25,  36,  49,  64,  81, 100])"
      ]
     },
     "execution_count": 97,
     "metadata": {},
     "output_type": "execute_result"
    }
   ],
   "source": [
    "# Exercise 6 - Make a variable named squares_of_a. It should hold each number in a squared like [1, 4, 9, 16, 25...]\n",
    "squares_of_a = np.square(a)\n",
    "squares_of_a"
   ]
  },
  {
   "cell_type": "code",
   "execution_count": 134,
   "id": "85bc7dfc",
   "metadata": {},
   "outputs": [
    {
     "data": {
      "text/plain": [
       "[1, 3, 5, 7, 9]"
      ]
     },
     "execution_count": 134,
     "metadata": {},
     "output_type": "execute_result"
    }
   ],
   "source": [
    "# Exercise 7 - Make a variable named odds_in_a. It should hold only the odd numbers\n",
    "odds_in_a = []\n",
    "for odd in a:\n",
    "    if (odd % 2 != 0):\n",
    "        odds_in_a.append(odd)\n",
    "odds_in_a        "
   ]
  },
  {
   "cell_type": "code",
   "execution_count": 138,
   "id": "312d88e7",
   "metadata": {},
   "outputs": [
    {
     "data": {
      "text/plain": [
       "[2, 4, 6, 8, 10]"
      ]
     },
     "execution_count": 138,
     "metadata": {},
     "output_type": "execute_result"
    }
   ],
   "source": [
    "# Exercise 8 - Make a variable named evens_in_a. It should hold only the evens.\n",
    "evens_in_a = []\n",
    "for even in a: \n",
    "    if (even % 2 == 0):\n",
    "        evens_in_a.append(even)\n",
    "evens_in_a"
   ]
  },
  {
   "cell_type": "code",
   "execution_count": null,
   "id": "7b17ebe9",
   "metadata": {},
   "outputs": [],
   "source": [
    "## What about life in two dimensions? A list of lists is matrix, a table, a spreadsheet, a chessboard...\n",
    "## Setup 2: Consider what it would take to find the sum, min, max, average, sum, product, and list of squares for this list of two lists.\n",
    "b = [\n",
    "    [3, 4, 5],\n",
    "    [6, 7, 8]\n",
    "]"
   ]
  },
  {
   "cell_type": "code",
   "execution_count": 142,
   "id": "87249713",
   "metadata": {},
   "outputs": [
    {
     "name": "stdout",
     "output_type": "stream",
     "text": [
      "54\n"
     ]
    }
   ],
   "source": [
    "\n",
    "# Exercise 1 - refactor the following to use numpy. Use sum_of_b as the variable. \n",
    "#**Hint, you'll first need to make sure that the \"b\" variable is a numpy array**\n",
    "sum_of_b = 0\n",
    "for row in b:\n",
    "    sum_of_b += sum(row)\n",
    "\n",
    "sum_of_b += sum(row)\n",
    "print(sum_of_b)"
   ]
  },
  {
   "cell_type": "code",
   "execution_count": 141,
   "id": "9dbdaa3b",
   "metadata": {},
   "outputs": [],
   "source": [
    "\n",
    "# Exercise 2 - refactor the following to use numpy. \n",
    "min_of_b = min(b[0]) if min(b[0]) <= min(b[1]) else min(b[1])  "
   ]
  },
  {
   "cell_type": "code",
   "execution_count": null,
   "id": "50773eb3",
   "metadata": {},
   "outputs": [],
   "source": [
    "\n",
    "# Exercise 3 - refactor the following maximum calculation to find the answer with numpy.\n",
    "max_of_b = max(b[0]) if max(b[0]) >= max(b[1]) else max(b[1])\n",
    "max_of_b = max(b[0]) if max(b[0]) >= max(b[1]) else max(b[1])\n",
    "\n",
    "max_of_b = np.max(b)\n",
    "print(max_of_bd)"
   ]
  },
  {
   "cell_type": "code",
   "execution_count": 143,
   "id": "4bc91480",
   "metadata": {},
   "outputs": [
    {
     "name": "stdout",
     "output_type": "stream",
     "text": [
      "5.5\n"
     ]
    }
   ],
   "source": [
    "\n",
    "# Exercise 4 - refactor the following using numpy to find the mean of b\n",
    "mean_of_b = (sum(b[0]) + sum(b[1])) / (len(b[0]) + len(b[1]))\n",
    "\n",
    "mean_of_b= np.mean(b)\n",
    "print(mean_of_b)\n",
    "\n"
   ]
  },
  {
   "cell_type": "code",
   "execution_count": null,
   "id": "a48f5baa",
   "metadata": {},
   "outputs": [],
   "source": [
    "# Exercise 5 - refactor the following to use numpy for calculating the product of all numbers multiplied together.\n",
    "product_of_b = 1\n",
    "for row in b:\n",
    "    for number in row:\n",
    "        product_of_b *= number\n",
    "        \n",
    "product_of_b = np.product(b)\n",
    "print(product_of_b)"
   ]
  },
  {
   "cell_type": "code",
   "execution_count": 144,
   "id": "003f5e90",
   "metadata": {},
   "outputs": [
    {
     "name": "stdout",
     "output_type": "stream",
     "text": [
      "[ 9 16 25 36 49 64]\n"
     ]
    }
   ],
   "source": [
    "# Exercise 6 - refactor the following to use numpy to find the list of squares \n",
    "squares_of_b = []\n",
    "for row in b:\n",
    "    for number in row:\n",
    "        squares_of_b.append(number**2)\n",
    "    \n",
    "squares_of_b = np.square(b)\n",
    "print(np.reshape(squares_of_b, 6))"
   ]
  },
  {
   "cell_type": "code",
   "execution_count": null,
   "id": "15c31618",
   "metadata": {},
   "outputs": [],
   "source": [
    "# Exercise 7 - refactor using numpy to determine the odds_in_b\n",
    "odds_in_b = []\n",
    "for row in b:\n",
    "    for number in row:\n",
    "        if(number % 2 != 0):\n",
    "            odds_in_b.append(number)\n",
    "            \n",
    "            \n",
    "            \n"
   ]
  },
  {
   "cell_type": "code",
   "execution_count": null,
   "id": "355cf5d6",
   "metadata": {},
   "outputs": [],
   "source": [
    "\n",
    "# Exercise 8 - refactor the following to use numpy to filter only the even numbers\n",
    "evens_in_b = []\n",
    "for row in b:\n",
    "    for number in row:\n",
    "        if(number % 2 == 0):\n",
    "            evens_in_b.append(number)\n",
    "            \n",
    "            \n",
    "evens_in_b = b[b %2 == 0]\n",
    "print(evens_in_b)"
   ]
  },
  {
   "cell_type": "code",
   "execution_count": null,
   "id": "6873f54e",
   "metadata": {},
   "outputs": [],
   "source": [
    "# Exercise 9 - print out the shape of the array b.\n",
    "print(np.shape(b))\n",
    "print(b.shape)\n",
    "\n"
   ]
  },
  {
   "cell_type": "code",
   "execution_count": null,
   "id": "71392dda",
   "metadata": {},
   "outputs": [],
   "source": [
    "# Exercise 10 - transpose the array b.\n",
    "print(b)\n",
    "print(np.transpose(b))\n"
   ]
  },
  {
   "cell_type": "code",
   "execution_count": null,
   "id": "25b80a27",
   "metadata": {},
   "outputs": [],
   "source": [
    "# Exercise 11 - reshape the array b to be a single list of 6 numbers. \n",
    "#(1 x 6)\n",
    "print(np.transpose(b).reshape(1,6))\n",
    "\n"
   ]
  },
  {
   "cell_type": "code",
   "execution_count": null,
   "id": "29cde99b",
   "metadata": {},
   "outputs": [],
   "source": [
    "# Exercise 12 - reshape the array b to be a list of 6 lists, \n",
    "#each containing only 1 number (6 x 1)\n",
    "print(np.reshape(6,1))\n",
    "\n",
    "\n"
   ]
  },
  {
   "cell_type": "code",
   "execution_count": null,
   "id": "812d746b",
   "metadata": {},
   "outputs": [],
   "source": [
    "## Setup 3\n",
    "c = [\n",
    "    [1, 2, 3],\n",
    "    [4, 5, 6],\n",
    "    [7, 8, 9]\n",
    "]\n",
    "\n",
    "# HINT, you'll first need to make sure that the \"c\" variable is a numpy array prior to using numpy array methods.\n",
    "# Exercise 1 - Find the min, max, sum, and product of c.\n",
    "print(np.min(c))\n",
    "\n"
   ]
  },
  {
   "cell_type": "code",
   "execution_count": null,
   "id": "200e255c",
   "metadata": {},
   "outputs": [],
   "source": [
    "# Exercise 2 - Determine the standard deviation of c.\n",
    "print(np.std(c))\n"
   ]
  },
  {
   "cell_type": "code",
   "execution_count": null,
   "id": "0f7af417",
   "metadata": {},
   "outputs": [],
   "source": [
    "# Exercise 3 - Determine the variance of c.\n",
    "print(np.var(c))\n"
   ]
  },
  {
   "cell_type": "code",
   "execution_count": null,
   "id": "01061b8b",
   "metadata": {},
   "outputs": [],
   "source": [
    "# Exercise 4 - Print out the shape of the array c\n",
    "print(c.shape)\n"
   ]
  },
  {
   "cell_type": "code",
   "execution_count": null,
   "id": "127f47d5",
   "metadata": {},
   "outputs": [],
   "source": [
    "# Exercise 5 - Transpose c and print out transposed result.\n",
    "print(c)\n",
    "print(np,transpose(c))\n"
   ]
  },
  {
   "cell_type": "code",
   "execution_count": null,
   "id": "495769a7",
   "metadata": {},
   "outputs": [],
   "source": [
    "# Exercise 6 - Get the dot product of the array c with c. \n",
    "print(np.dot(c, c))\n"
   ]
  },
  {
   "cell_type": "code",
   "execution_count": null,
   "id": "42d88125",
   "metadata": {},
   "outputs": [],
   "source": [
    "# Exercise 7 - Write the code necessary to sum up the result of c \n",
    "#times c transposed. Answer should be 261\n",
    "print(np.sum(np.multiply(c,(np.tranpose(c)))))"
   ]
  },
  {
   "cell_type": "code",
   "execution_count": null,
   "id": "bd02b9a6",
   "metadata": {},
   "outputs": [],
   "source": [
    "# Exercise 8 - Write the code necessary to determine the \n",
    "#product of c times c transposed. Answer should be 131681894400.\n",
    "print(np.product(np.multiply(c,(np.transpose(c)))))"
   ]
  },
  {
   "cell_type": "code",
   "execution_count": null,
   "id": "dbf75617",
   "metadata": {},
   "outputs": [],
   "source": [
    "## Setup 4\n",
    "d = [\n",
    "    [90, 30, 45, 0, 120, 180],\n",
    "    [45, -90, -30, 270, 90, 0],\n",
    "    [60, 45, -45, 90, -45, 180]\n",
    "]\n",
    "\n",
    "# Exercise 1 - Find the sine of all the numbers in d\n",
    "\n",
    "\n"
   ]
  },
  {
   "cell_type": "code",
   "execution_count": null,
   "id": "fc7e55ae",
   "metadata": {},
   "outputs": [],
   "source": [
    "\n",
    "# Exercise 2 - Find the cosine of all the numbers in d\n",
    "\n"
   ]
  },
  {
   "cell_type": "code",
   "execution_count": null,
   "id": "68930192",
   "metadata": {},
   "outputs": [],
   "source": [
    "# Exercise 3 - Find the tangent of all the numbers in d\n",
    "\n"
   ]
  },
  {
   "cell_type": "code",
   "execution_count": null,
   "id": "14b76a13",
   "metadata": {},
   "outputs": [],
   "source": [
    "# Exercise 4 - Find all the negative numbers in d\n",
    "\n",
    "\n"
   ]
  },
  {
   "cell_type": "code",
   "execution_count": null,
   "id": "608d8d68",
   "metadata": {},
   "outputs": [],
   "source": [
    "# Exercise 5 - Find all the positive numbers in d\n",
    "\n",
    "\n"
   ]
  },
  {
   "cell_type": "code",
   "execution_count": null,
   "id": "6529ffd0",
   "metadata": {},
   "outputs": [],
   "source": [
    "# Exercise 6 - Return an array of only the unique numbers in d.\n",
    "\n",
    "\n"
   ]
  },
  {
   "cell_type": "code",
   "execution_count": null,
   "id": "eab485b2",
   "metadata": {},
   "outputs": [],
   "source": [
    "# Exercise 7 - Determine how many unique numbers there are in d.\n",
    "\n",
    "\n"
   ]
  },
  {
   "cell_type": "code",
   "execution_count": null,
   "id": "5c96492d",
   "metadata": {},
   "outputs": [],
   "source": [
    "# Exercise 8 - Print out the shape of d.\n",
    "\n",
    "\n"
   ]
  },
  {
   "cell_type": "code",
   "execution_count": null,
   "id": "56b24b71",
   "metadata": {},
   "outputs": [],
   "source": [
    "# Exercise 9 - Transpose and then print out the shape of d.\n",
    "\n",
    "\n"
   ]
  },
  {
   "cell_type": "code",
   "execution_count": 122,
   "id": "a19f9651",
   "metadata": {},
   "outputs": [],
   "source": [
    "# Exercise 10 - Reshape d into an array of 9 x 2\n",
    "\n"
   ]
  },
  {
   "cell_type": "code",
   "execution_count": null,
   "id": "fd49e701",
   "metadata": {},
   "outputs": [],
   "source": []
  }
 ],
 "metadata": {
  "kernelspec": {
   "display_name": "Python 3 (ipykernel)",
   "language": "python",
   "name": "python3"
  },
  "language_info": {
   "codemirror_mode": {
    "name": "ipython",
    "version": 3
   },
   "file_extension": ".py",
   "mimetype": "text/x-python",
   "name": "python",
   "nbconvert_exporter": "python",
   "pygments_lexer": "ipython3",
   "version": "3.10.9"
  }
 },
 "nbformat": 4,
 "nbformat_minor": 5
}
