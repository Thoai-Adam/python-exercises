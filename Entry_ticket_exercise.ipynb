{
 "cells": [
  {
   "cell_type": "code",
   "execution_count": 14,
   "id": "3bf2a4e2",
   "metadata": {},
   "outputs": [],
   "source": [
    "%matplotlib inline\n",
    "import numpy as np\n",
    "import pandas as pd\n",
    "\n",
    "np.random.seed(29)"
   ]
  },
  {
   "cell_type": "markdown",
   "id": "feee89ca",
   "metadata": {},
   "source": [
    "Rolling two dice. what is the probability of rolling 2 even numberes?"
   ]
  },
  {
   "cell_type": "code",
   "execution_count": 10,
   "id": "076c7cb0",
   "metadata": {},
   "outputs": [
    {
     "name": "stdout",
     "output_type": "stream",
     "text": [
      "0.25\n"
     ]
    }
   ],
   "source": [
    "def probability_of_even():\n",
    "    two_dice = 36\n",
    "    even_two_dice = 9\n",
    "    prob = even_two_dice/two_dice\n",
    "    return prob\n",
    "print(probability_of_even())\n"
   ]
  },
  {
   "cell_type": "markdown",
   "id": "23e536d1",
   "metadata": {},
   "source": [
    "Calculate this probability exactly and using simulation"
   ]
  },
  {
   "cell_type": "markdown",
   "id": "c547f165",
   "metadata": {},
   "source": [
    "#Adam's way"
   ]
  },
  {
   "cell_type": "code",
   "execution_count": 54,
   "id": "f9c6f7b6",
   "metadata": {},
   "outputs": [],
   "source": [
    "rng = np.random.default_rng(seed = 42)\n"
   ]
  },
  {
   "cell_type": "code",
   "execution_count": 50,
   "id": "9af7ca9a",
   "metadata": {},
   "outputs": [
    {
     "data": {
      "text/plain": [
       "array([[4, 6],\n",
       "       [5, 5],\n",
       "       [5, 1],\n",
       "       [2, 5],\n",
       "       [3, 6]])"
      ]
     },
     "execution_count": 50,
     "metadata": {},
     "output_type": "execute_result"
    }
   ],
   "source": [
    "my_array = rng.integers(1,7, (10_000, 2))\n",
    "my_array[:5]"
   ]
  },
  {
   "cell_type": "code",
   "execution_count": 51,
   "id": "e1daaeec",
   "metadata": {},
   "outputs": [
    {
     "data": {
      "text/plain": [
       "array([[ True,  True],\n",
       "       [False, False],\n",
       "       [False, False],\n",
       "       ...,\n",
       "       [ True,  True],\n",
       "       [ True, False],\n",
       "       [False,  True]])"
      ]
     },
     "execution_count": 51,
     "metadata": {},
     "output_type": "execute_result"
    }
   ],
   "source": [
    "my_array % 2 == 0"
   ]
  },
  {
   "cell_type": "code",
   "execution_count": 52,
   "id": "108b30e4",
   "metadata": {},
   "outputs": [
    {
     "data": {
      "text/plain": [
       "array([2, 0, 0, 1, 1])"
      ]
     },
     "execution_count": 52,
     "metadata": {},
     "output_type": "execute_result"
    }
   ],
   "source": [
    "num_evens = (my_array % 2 == 0).sum(axis = 1)\n",
    "num_evens[:5]"
   ]
  },
  {
   "cell_type": "code",
   "execution_count": 53,
   "id": "ed8d2a38",
   "metadata": {},
   "outputs": [
    {
     "data": {
      "text/plain": [
       "0.2476"
      ]
     },
     "execution_count": 53,
     "metadata": {},
     "output_type": "execute_result"
    }
   ],
   "source": [
    "(num_evens == 2).mean()"
   ]
  },
  {
   "cell_type": "code",
   "execution_count": null,
   "id": "113f5e39",
   "metadata": {},
   "outputs": [],
   "source": []
  }
 ],
 "metadata": {
  "kernelspec": {
   "display_name": "Python 3 (ipykernel)",
   "language": "python",
   "name": "python3"
  },
  "language_info": {
   "codemirror_mode": {
    "name": "ipython",
    "version": 3
   },
   "file_extension": ".py",
   "mimetype": "text/x-python",
   "name": "python",
   "nbconvert_exporter": "python",
   "pygments_lexer": "ipython3",
   "version": "3.10.9"
  }
 },
 "nbformat": 4,
 "nbformat_minor": 5
}
