{
 "cells": [
  {
   "cell_type": "code",
   "execution_count": 1,
   "id": "f1835244",
   "metadata": {},
   "outputs": [
    {
     "name": "stdout",
     "output_type": "stream",
     "text": [
      "value <class 'float'>\n",
      "value <class 'str'>\n",
      "value <class 'bool'>\n",
      "value <class 'str'>\n",
      "value <class 'bool'>\n",
      "value <class 'str'>\n",
      "value <class 'list'>\n",
      "value <class 'dict'>\n"
     ]
    }
   ],
   "source": [
    "# Exercise 1\n",
    "\n",
    "var1 = 99.9\n",
    "print(\"value\", type(var1))\n",
    "var2 = \"False\"\n",
    "print(\"value\", type(var2))\n",
    "var3 = False\n",
    "print(\"value\", type(var3))\n",
    "var4 = '0'\n",
    "print(\"value\", type(var4))\n",
    "var5 = True\n",
    "print(\"value\", type(var5))\n",
    "var6 = 'True'\n",
    "print(\"value\", type(var6))\n",
    "var7 = [{}]\n",
    "print(\"value\", type(var7))\n",
    "var8 = {'a':[]}\n",
    "print(\"value\", type(var8))\n",
    "\n",
    "#could be written as type(99.9), type(\"False\"), type(False)   this make the output into a tuple\n"
   ]
  },
  {
   "cell_type": "code",
   "execution_count": null,
   "id": "b3d35929",
   "metadata": {},
   "outputs": [],
   "source": [
    "What data type would best represent the following?\n",
    "\n",
    "A term or phrase typed into a search box                       string\n",
    "Whether or not a user is logged in                             boolean\n",
    "A discount amount to apply to a user's shopping cart           float\n",
    "Whether or not a coupon code is valid                          boolean\n",
    "An email address typed into a registration form                string\n",
    "The price of a product                                         float\n",
    "The email addresses collected from a registration form         list\n",
    "Information about applicants to Codeup's data science program  dictionary\n"
   ]
  },
  {
   "cell_type": "code",
   "execution_count": null,
   "id": "d7d7a32e",
   "metadata": {},
   "outputs": [],
   "source": [
    "For each of the following code blocks:\n",
    "Read the expression and predict the evaluated results\n",
    "Execute the expression in a Python REPL.\n",
    "\n",
    "\n",
    "'1' + 2   wont be able to concatenante string and int\n",
    "\n",
    "6 % 4  remainer will be 2\n",
    "\n",
    "type(6 % 4) remainder will be 2 therefore the type will be int\n",
    "\n",
    "type(type(6 % 4))  output will be type\n",
    "\n",
    "'3 + 4 is ' + 3 + 4      can't concatenate\n",
    "\n",
    "0 < 0     False\n",
    "\n",
    "'False' == False      False\n",
    "\n",
    "True == 'True'       False\n",
    "\n",
    "5 >= -5     True\n",
    "\n",
    "True or \"42\"     True\n",
    "\n",
    "6 % 5             1\n",
    "\n",
    "5 < 4 and 1 == 1      False\n",
    "\n",
    "'codeup' == 'codeup' and 'codeup' == 'Codeup'   False\n",
    "\n",
    "4 >= 0 and 1 !== '1'       True\n",
    "\n",
    "6 % 3 == 0   True\n",
    "\n",
    "5 % 2 != 0   True\n",
    "\n",
    "[1] + 2    TypeError from concatinating list with int\n",
    "\n",
    "[1] + [2]    [1,2]\n",
    "\n",
    "[1] * 2   [1,1]\n",
    "\n",
    "[1] * [2]   TypeError\n",
    "\n",
    "[] + [] == []     True\n",
    "\n",
    "{} + {}      Cant concatenate dictionaries\n"
   ]
  },
  {
   "cell_type": "code",
   "execution_count": 7,
   "id": "e36a2d5d",
   "metadata": {},
   "outputs": [
    {
     "name": "stdout",
     "output_type": "stream",
     "text": [
      "27\n"
     ]
    }
   ],
   "source": [
    "#4. Describe the following scenarios. You will need to create and assign variables \n",
    "#and use operators.\n",
    "\n",
    "#5. You have rented some movies for your kids:\n",
    "\n",
    "#The Little Mermaid for 3 days\n",
    "#Brother Bear for 5 days\n",
    "#Hercules for 1 day\n",
    "\n",
    "#If the daily fee to rent a movie is 3 dollars, how much will you have to pay?\n",
    "\n",
    "movie1 = 3\n",
    "movie2 = 5\n",
    "movie3 = 1\n",
    "\n",
    "total_rent = movie1 + movie2 + movie3\n",
    "cost_per_day = 3\n",
    "rent_cost = total_rent * cost_per_day\n",
    "print(rent_cost)\n",
    "\n",
    "\n",
    "#could be written as total_cost = (mermaid +bbear +hercules) * daily_fee       print(total_cost)\n"
   ]
  },
  {
   "cell_type": "code",
   "execution_count": 9,
   "id": "631c03f3",
   "metadata": {},
   "outputs": [
    {
     "name": "stdout",
     "output_type": "stream",
     "text": [
      "7420\n"
     ]
    }
   ],
   "source": [
    "#6. Suppose you're working as a contractor for 3 companies: Google, Amazon and Facebook.\n",
    "\n",
    "#They pay you the following hourly rates:\n",
    "\n",
    "#Google: 400 dollars\n",
    "#Amazon: 380 dollars\n",
    "#Facebook: 350 dollars\n",
    "#This week you worked: 10 hours for Facebook, 6 hours for Google and 4 hours for Amazon.\n",
    "\n",
    "#How much will you receive in payment for this week?\n",
    "\n",
    "google = 400\n",
    "amazon = 380\n",
    "facebook = 350\n",
    "google_hr = 6\n",
    "facebook_hr = 10\n",
    "amazon_hr = 4\n",
    "\n",
    "compensation = (google*google_hr) + (facebook*facebook_hr) + (amazon*amazon_hr)\n",
    "print(compensation)\n",
    "\n",
    "\n",
    "#could be written as payment = 10 * facebook + 6 * google + 4 * amazon\n"
   ]
  },
  {
   "cell_type": "code",
   "execution_count": 17,
   "id": "d3ba565f",
   "metadata": {},
   "outputs": [
    {
     "name": "stdout",
     "output_type": "stream",
     "text": [
      "True\n"
     ]
    }
   ],
   "source": [
    "#7. A student can be enrolled to a class only if the class is not full \n",
    "#and the class schedule does not conflict with her current schedule.\n",
    "\n",
    "\n",
    "class_not_full = True\n",
    "no_conflict = True\n",
    "\n",
    "can_enroll = class_not_full and no_conflict\n",
    "print(can_enroll)"
   ]
  },
  {
   "cell_type": "code",
   "execution_count": 20,
   "id": "edb7cbf0",
   "metadata": {},
   "outputs": [
    {
     "name": "stdout",
     "output_type": "stream",
     "text": [
      "True\n"
     ]
    }
   ],
   "source": [
    "#8. A product offer can be applied only if people buys more than 2 items, \n",
    "#and the offer has not expired. Premium members do not need to buy a specific amount of products.\n",
    "\n",
    "items_purchased = 3\n",
    "not_expired = True\n",
    "premium_member = False\n",
    "\n",
    "product_offer = (items_purchased > 2 or premium_member) and not_expired \n",
    "print(product_offer)\n"
   ]
  },
  {
   "cell_type": "code",
   "execution_count": null,
   "id": "3e4ab1a5",
   "metadata": {},
   "outputs": [],
   "source": [
    "#9. Continue working in the data_types_and_variables.py file. \n",
    "#Use the following code to follow the instructions below:\n",
    "\n",
    "\n",
    "username = 'codeup'\n",
    "password = 'notastrongpassword'\n",
    "Create a variable that holds a boolean value for each of the following conditions:\n",
    "\n",
    "The password must be at least 5 characters\n",
    "The username must be no more than 20 characters\n",
    "The password must not be the same as the username\n",
    "Bonus Neither the username or password can start or end with whitespace"
   ]
  },
  {
   "cell_type": "code",
   "execution_count": 5,
   "id": "aea31d90",
   "metadata": {},
   "outputs": [
    {
     "data": {
      "text/plain": [
       "1"
      ]
     },
     "execution_count": 5,
     "metadata": {},
     "output_type": "execute_result"
    }
   ],
   "source": [
    "THE END"
   ]
  },
  {
   "cell_type": "code",
   "execution_count": null,
   "id": "10f58694",
   "metadata": {},
   "outputs": [],
   "source": []
  }
 ],
 "metadata": {
  "kernelspec": {
   "display_name": "Python 3 (ipykernel)",
   "language": "python",
   "name": "python3"
  },
  "language_info": {
   "codemirror_mode": {
    "name": "ipython",
    "version": 3
   },
   "file_extension": ".py",
   "mimetype": "text/x-python",
   "name": "python",
   "nbconvert_exporter": "python",
   "pygments_lexer": "ipython3",
   "version": "3.10.9"
  }
 },
 "nbformat": 4,
 "nbformat_minor": 5
}
