{
 "cells": [
  {
   "cell_type": "code",
   "execution_count": 4,
   "id": "34913eb9",
   "metadata": {},
   "outputs": [
    {
     "data": {
      "application/javascript": [
       "IPython.notebook.set_autosave_interval(0)"
      ]
     },
     "metadata": {},
     "output_type": "display_data"
    },
    {
     "name": "stdout",
     "output_type": "stream",
     "text": [
      "Autosave disabled\n"
     ]
    }
   ],
   "source": [
    "%autosave 0"
   ]
  },
  {
   "cell_type": "code",
   "execution_count": 76,
   "id": "424084ec",
   "metadata": {},
   "outputs": [],
   "source": [
    "import pandas as pd"
   ]
  },
  {
   "cell_type": "code",
   "execution_count": 77,
   "id": "ef60879c",
   "metadata": {},
   "outputs": [],
   "source": [
    "import numpy as np"
   ]
  },
  {
   "cell_type": "code",
   "execution_count": 78,
   "id": "fe896637",
   "metadata": {},
   "outputs": [],
   "source": [
    "fruits = pd.Series([\"kiwi\", \"mango\", \"strawberry\", \"pineapple\", \"gala apple\", \"honeycrisp apple\", \"tomato\",\n",
    "                    \"watermelon\", \"honeydew\", \"kiwi\", \"kiwi\", \"kiwi\", \"mango\", \"blueberry\", \"blackberry\",\n",
    "                    \"gooseberry\", \"papaya\"])"
   ]
  },
  {
   "cell_type": "code",
   "execution_count": 79,
   "id": "7a29f296",
   "metadata": {
    "scrolled": true
   },
   "outputs": [
    {
     "name": "stdout",
     "output_type": "stream",
     "text": [
      "Number of elements in fruits: 17\n"
     ]
    }
   ],
   "source": [
    "# Determine the number of elements in fruits\n",
    "num_elements = len(fruits)\n",
    "print(\"Number of elements in fruits:\", num_elements)"
   ]
  },
  {
   "cell_type": "code",
   "execution_count": 80,
   "id": "088fd880",
   "metadata": {},
   "outputs": [
    {
     "name": "stdout",
     "output_type": "stream",
     "text": [
      "Index values: RangeIndex(start=0, stop=17, step=1)\n"
     ]
    }
   ],
   "source": [
    "# Output only the index from fruits\n",
    "index_values = fruits.index\n",
    "print(\"Index values:\", index_values)"
   ]
  },
  {
   "cell_type": "code",
   "execution_count": 81,
   "id": "365c6d47",
   "metadata": {},
   "outputs": [
    {
     "name": "stdout",
     "output_type": "stream",
     "text": [
      "['kiwi' 'mango' 'strawberry' 'pineapple' 'gala apple' 'honeycrisp apple'\n",
      " 'tomato' 'watermelon' 'honeydew' 'kiwi' 'kiwi' 'kiwi' 'mango' 'blueberry'\n",
      " 'blackberry' 'gooseberry' 'papaya']\n"
     ]
    }
   ],
   "source": [
    "# Output only the values from fruits\n",
    "output_value = fruits.values\n",
    "print(output_value)"
   ]
  },
  {
   "cell_type": "code",
   "execution_count": 82,
   "id": "c89af8f1",
   "metadata": {},
   "outputs": [
    {
     "name": "stdout",
     "output_type": "stream",
     "text": [
      "object\n"
     ]
    }
   ],
   "source": [
    "# Confirm the data type of the values in fruits\n",
    "data_type = fruits.dtype\n",
    "print(data_type)"
   ]
  },
  {
   "cell_type": "code",
   "execution_count": 83,
   "id": "41fb40db",
   "metadata": {},
   "outputs": [
    {
     "data": {
      "text/plain": [
       "0                 kiwi\n",
       "1                mango\n",
       "2           strawberry\n",
       "3            pineapple\n",
       "4           gala apple\n",
       "5     honeycrisp apple\n",
       "6               tomato\n",
       "7           watermelon\n",
       "8             honeydew\n",
       "9                 kiwi\n",
       "10                kiwi\n",
       "11                kiwi\n",
       "12               mango\n",
       "13           blueberry\n",
       "14          blackberry\n",
       "15          gooseberry\n",
       "16              papaya\n",
       "dtype: object"
      ]
     },
     "execution_count": 83,
     "metadata": {},
     "output_type": "execute_result"
    }
   ],
   "source": [
    "fruits"
   ]
  },
  {
   "cell_type": "code",
   "execution_count": 84,
   "id": "d628be27",
   "metadata": {},
   "outputs": [
    {
     "data": {
      "text/plain": [
       "Series([], dtype: object)"
      ]
     },
     "execution_count": 84,
     "metadata": {},
     "output_type": "execute_result"
    }
   ],
   "source": [
    "# output only the first values from fruits\n",
    "fruits.head(0)\n"
   ]
  },
  {
   "cell_type": "code",
   "execution_count": 85,
   "id": "1a52457e",
   "metadata": {},
   "outputs": [
    {
     "data": {
      "text/plain": [
       "1                mango\n",
       "2           strawberry\n",
       "3            pineapple\n",
       "4           gala apple\n",
       "5     honeycrisp apple\n",
       "6               tomato\n",
       "7           watermelon\n",
       "8             honeydew\n",
       "9                 kiwi\n",
       "10                kiwi\n",
       "11                kiwi\n",
       "12               mango\n",
       "13           blueberry\n",
       "14          blackberry\n",
       "15          gooseberry\n",
       "16              papaya\n",
       "dtype: object"
      ]
     },
     "execution_count": 85,
     "metadata": {},
     "output_type": "execute_result"
    }
   ],
   "source": [
    "#output the last three values\n",
    "fruits.tail(-1)"
   ]
  },
  {
   "cell_type": "code",
   "execution_count": 86,
   "id": "eaf564d9",
   "metadata": {},
   "outputs": [
    {
     "data": {
      "text/plain": [
       "3      pineapple\n",
       "14    blackberry\n",
       "dtype: object"
      ]
     },
     "execution_count": 86,
     "metadata": {},
     "output_type": "execute_result"
    }
   ],
   "source": [
    "#output two random values from fruits\n",
    "fruits.sample(2)"
   ]
  },
  {
   "cell_type": "code",
   "execution_count": 87,
   "id": "f2d0091b",
   "metadata": {},
   "outputs": [
    {
     "data": {
      "text/plain": [
       "count       17\n",
       "unique      13\n",
       "top       kiwi\n",
       "freq         4\n",
       "dtype: object"
      ]
     },
     "execution_count": 87,
     "metadata": {},
     "output_type": "execute_result"
    }
   ],
   "source": [
    "# Run the .describe() on fruits to see what information\n",
    "# it returns when called on a Series with string values\n",
    "fruits.describe()"
   ]
  },
  {
   "cell_type": "code",
   "execution_count": 88,
   "id": "8172931f",
   "metadata": {},
   "outputs": [
    {
     "name": "stdout",
     "output_type": "stream",
     "text": [
      "['kiwi' 'mango' 'strawberry' 'pineapple' 'gala apple' 'honeycrisp apple'\n",
      " 'tomato' 'watermelon' 'honeydew' 'blueberry' 'blackberry' 'gooseberry'\n",
      " 'papaya']\n"
     ]
    }
   ],
   "source": [
    "#run the code necessary to produce only the unique \n",
    "#string values from fruits.\n",
    "unique_fruits = fruits.unique()\n",
    "print(unique_fruits)"
   ]
  },
  {
   "cell_type": "code",
   "execution_count": 89,
   "id": "672fa5a4",
   "metadata": {},
   "outputs": [
    {
     "name": "stdout",
     "output_type": "stream",
     "text": [
      "kiwi                4\n",
      "mango               2\n",
      "strawberry          1\n",
      "pineapple           1\n",
      "gala apple          1\n",
      "honeycrisp apple    1\n",
      "tomato              1\n",
      "watermelon          1\n",
      "honeydew            1\n",
      "blueberry           1\n",
      "blackberry          1\n",
      "gooseberry          1\n",
      "papaya              1\n",
      "dtype: int64\n"
     ]
    }
   ],
   "source": [
    "#Determine how many times each unique string value\n",
    "#occurs in fruits\n",
    "fruits_repeat = fruits.value_counts()\n",
    "print(fruits_repeat)"
   ]
  },
  {
   "cell_type": "code",
   "execution_count": 90,
   "id": "9367c159",
   "metadata": {},
   "outputs": [
    {
     "name": "stdout",
     "output_type": "stream",
     "text": [
      "watermelon\n"
     ]
    }
   ],
   "source": [
    "#Determine the string value that occurs most frequently\n",
    "#in fruits\n",
    "most_frequent = fruits.max()\n",
    "print(most_frequent)"
   ]
  },
  {
   "cell_type": "code",
   "execution_count": 91,
   "id": "6a7cd2c2",
   "metadata": {},
   "outputs": [
    {
     "name": "stdout",
     "output_type": "stream",
     "text": [
      "blackberry\n"
     ]
    }
   ],
   "source": [
    "#Determine the string value that occurs least frequently\n",
    "#in fruits\n",
    "least_frequently = fruits.min()\n",
    "print(least_frequently)"
   ]
  },
  {
   "cell_type": "code",
   "execution_count": 92,
   "id": "e62db8fd",
   "metadata": {},
   "outputs": [
    {
     "name": "stdout",
     "output_type": "stream",
     "text": [
      "0                 KIWI\n",
      "1                MANGO\n",
      "2           STRAWBERRY\n",
      "3            PINEAPPLE\n",
      "4           GALA APPLE\n",
      "5     HONEYCRISP APPLE\n",
      "6               TOMATO\n",
      "7           WATERMELON\n",
      "8             HONEYDEW\n",
      "9                 KIWI\n",
      "10                KIWI\n",
      "11                KIWI\n",
      "12               MANGO\n",
      "13           BLUEBERRY\n",
      "14          BLACKBERRY\n",
      "15          GOOSEBERRY\n",
      "16              PAPAYA\n",
      "dtype: object\n"
     ]
    }
   ],
   "source": [
    "#Capitalize all the string values in fruits.\n",
    "fruits_cap = fruits.str.upper()\n",
    "print(fruits_cap)"
   ]
  },
  {
   "cell_type": "code",
   "execution_count": 93,
   "id": "fbff4d17",
   "metadata": {},
   "outputs": [
    {
     "data": {
      "text/plain": [
       "0     0\n",
       "1     1\n",
       "2     1\n",
       "3     1\n",
       "4     3\n",
       "5     1\n",
       "6     1\n",
       "7     1\n",
       "8     0\n",
       "9     0\n",
       "10    0\n",
       "11    0\n",
       "12    1\n",
       "13    0\n",
       "14    1\n",
       "15    0\n",
       "16    3\n",
       "dtype: int64"
      ]
     },
     "execution_count": 93,
     "metadata": {},
     "output_type": "execute_result"
    }
   ],
   "source": [
    "#Count the letter \"a\" in all the string values (use string vectorization).\n",
    "fruits.str.count(\"a\")\n"
   ]
  },
  {
   "cell_type": "code",
   "execution_count": 94,
   "id": "09d5f4f6",
   "metadata": {},
   "outputs": [
    {
     "name": "stdout",
     "output_type": "stream",
     "text": [
      "0     2\n",
      "1     2\n",
      "2     2\n",
      "3     4\n",
      "4     4\n",
      "5     5\n",
      "6     3\n",
      "7     4\n",
      "8     3\n",
      "9     2\n",
      "10    2\n",
      "11    2\n",
      "12    2\n",
      "13    3\n",
      "14    2\n",
      "15    4\n",
      "16    3\n",
      "dtype: int64\n"
     ]
    }
   ],
   "source": [
    "#Output the number of vowels in each and every string value.\n",
    "vowels = 'aeoiu'\n",
    "fruits_vowels = fruits.str.count('['+ vowels +']')\n",
    "print(fruits_vowels)"
   ]
  },
  {
   "cell_type": "code",
   "execution_count": 95,
   "id": "b1ace062",
   "metadata": {},
   "outputs": [
    {
     "data": {
      "text/plain": [
       "16"
      ]
     },
     "execution_count": 95,
     "metadata": {},
     "output_type": "execute_result"
    }
   ],
   "source": [
    "#Write the code to get the longest string value from fruits.\n",
    "fruits.str.len().max()"
   ]
  },
  {
   "cell_type": "code",
   "execution_count": 96,
   "id": "55a62879",
   "metadata": {},
   "outputs": [
    {
     "data": {
      "text/plain": [
       "0     False\n",
       "1      True\n",
       "2      True\n",
       "3      True\n",
       "4      True\n",
       "5      True\n",
       "6      True\n",
       "7      True\n",
       "8      True\n",
       "9     False\n",
       "10    False\n",
       "11    False\n",
       "12     True\n",
       "13     True\n",
       "14     True\n",
       "15     True\n",
       "16     True\n",
       "dtype: bool"
      ]
     },
     "execution_count": 96,
     "metadata": {},
     "output_type": "execute_result"
    }
   ],
   "source": [
    "#Write the code to get the string values with 5 or more letters in the name.\n",
    "fruits.str.len() >= 5"
   ]
  },
  {
   "cell_type": "code",
   "execution_count": 97,
   "id": "13780347",
   "metadata": {},
   "outputs": [
    {
     "data": {
      "text/plain": [
       "0     0\n",
       "1     0\n",
       "2     0\n",
       "3     0\n",
       "4     0\n",
       "5     0\n",
       "6     0\n",
       "7     0\n",
       "8     0\n",
       "9     0\n",
       "10    0\n",
       "11    0\n",
       "12    0\n",
       "13    0\n",
       "14    0\n",
       "15    1\n",
       "16    0\n",
       "dtype: int64"
      ]
     },
     "execution_count": 97,
     "metadata": {},
     "output_type": "execute_result"
    }
   ],
   "source": [
    "#Find the fruit(s) containing the letter \"o\" two or more times.\n",
    "fruits.str.count('o' * 2)"
   ]
  },
  {
   "cell_type": "code",
   "execution_count": 98,
   "id": "69e5c764",
   "metadata": {},
   "outputs": [
    {
     "data": {
      "text/plain": [
       "0     0\n",
       "1     0\n",
       "2     1\n",
       "3     0\n",
       "4     0\n",
       "5     0\n",
       "6     0\n",
       "7     0\n",
       "8     0\n",
       "9     0\n",
       "10    0\n",
       "11    0\n",
       "12    0\n",
       "13    1\n",
       "14    1\n",
       "15    1\n",
       "16    0\n",
       "dtype: int64"
      ]
     },
     "execution_count": 98,
     "metadata": {},
     "output_type": "execute_result"
    }
   ],
   "source": [
    "#Write the code to get only the string values containing the substring \"berry\".\n",
    "fruits.str.count(\"berry\")"
   ]
  },
  {
   "cell_type": "code",
   "execution_count": 99,
   "id": "cadca2fc",
   "metadata": {},
   "outputs": [
    {
     "data": {
      "text/plain": [
       "0     0\n",
       "1     0\n",
       "2     0\n",
       "3     1\n",
       "4     1\n",
       "5     1\n",
       "6     0\n",
       "7     0\n",
       "8     0\n",
       "9     0\n",
       "10    0\n",
       "11    0\n",
       "12    0\n",
       "13    0\n",
       "14    0\n",
       "15    0\n",
       "16    0\n",
       "dtype: int64"
      ]
     },
     "execution_count": 99,
     "metadata": {},
     "output_type": "execute_result"
    }
   ],
   "source": [
    "#Write the code to get only the string values containing the substring \"apple\".\n",
    "fruits.str.count(\"apple\")\n"
   ]
  },
  {
   "cell_type": "code",
   "execution_count": 110,
   "id": "133c6a01",
   "metadata": {},
   "outputs": [
    {
     "ename": "AttributeError",
     "evalue": "'StringMethods' object has no attribute 'max'",
     "output_type": "error",
     "traceback": [
      "\u001b[0;31m---------------------------------------------------------------------------\u001b[0m",
      "\u001b[0;31mAttributeError\u001b[0m                            Traceback (most recent call last)",
      "Cell \u001b[0;32mIn[110], line 2\u001b[0m\n\u001b[1;32m      1\u001b[0m \u001b[38;5;66;03m#Which string value contains the most vowels?\u001b[39;00m\n\u001b[0;32m----> 2\u001b[0m \u001b[43mfruits\u001b[49m\u001b[38;5;241;43m.\u001b[39;49m\u001b[43mstr\u001b[49m\u001b[38;5;241;43m.\u001b[39;49m\u001b[43mmax\u001b[49m([vowels])\n",
      "\u001b[0;31mAttributeError\u001b[0m: 'StringMethods' object has no attribute 'max'"
     ]
    }
   ],
   "source": [
    "#Which string value contains the most vowels?\n",
    "fruits.str.max([vowels])\n"
   ]
  },
  {
   "cell_type": "code",
   "execution_count": null,
   "id": "ff511176",
   "metadata": {},
   "outputs": [],
   "source": []
  },
  {
   "cell_type": "code",
   "execution_count": null,
   "id": "63fbfe76",
   "metadata": {},
   "outputs": [],
   "source": []
  },
  {
   "cell_type": "code",
   "execution_count": null,
   "id": "66f79f7a",
   "metadata": {},
   "outputs": [],
   "source": []
  }
 ],
 "metadata": {
  "kernelspec": {
   "display_name": "Python 3 (ipykernel)",
   "language": "python",
   "name": "python3"
  },
  "language_info": {
   "codemirror_mode": {
    "name": "ipython",
    "version": 3
   },
   "file_extension": ".py",
   "mimetype": "text/x-python",
   "name": "python",
   "nbconvert_exporter": "python",
   "pygments_lexer": "ipython3",
   "version": "3.10.9"
  }
 },
 "nbformat": 4,
 "nbformat_minor": 5
}
