{
 "cells": [
  {
   "cell_type": "code",
   "execution_count": 3,
   "id": "79dbb6a8",
   "metadata": {},
   "outputs": [
    {
     "name": "stdout",
     "output_type": "stream",
     "text": [
      "enter day here now: lkj\n",
      "false alarm...\n"
     ]
    }
   ],
   "source": [
    "#Exercise 1 Conditional Basics\n",
    "\n",
    "#Prompt the user for a day of the week, print out whether the day is Monday or not\n",
    "day_of_the_week = input('enter day here now: ')\n",
    "if day_of_the_week == 'monday':\n",
    "    print(\"it's monday yo\")\n",
    "else:\n",
    "    print(\"false alarm...\")\n",
    "\n",
    "    \n",
    "    "
   ]
  },
  {
   "cell_type": "code",
   "execution_count": 6,
   "id": "5b53ac47",
   "metadata": {},
   "outputs": [
    {
     "name": "stdout",
     "output_type": "stream",
     "text": [
      "enter day here now: tuesday\n",
      "weekday\n"
     ]
    }
   ],
   "source": [
    "#Prompt the user for a day of the week, print out whether the day is a weekday or a weekend\n",
    "day_of_the_week = input('enter day here now: ')\n",
    "if day_of_the_week in ['monday','tuesday','wednesday','thursday','friday']:\n",
    "    print('weekday')\n",
    "else:\n",
    "    print('weekend')"
   ]
  },
  {
   "cell_type": "code",
   "execution_count": 28,
   "id": "41c9038b",
   "metadata": {},
   "outputs": [
    {
     "name": "stdout",
     "output_type": "stream",
     "text": [
      "hours worked: 45\n",
      "hourly pay: 7.25\n",
      "344.375\n"
     ]
    }
   ],
   "source": [
    "#Calculate a weekly paycheck, accounting for overtime pay. Create variables and make up values for:\n",
    "\n",
    "#The number of hours worked in one week\n",
    "#The hourly rate\n",
    "#For calculating pay:\n",
    "\n",
    "#For working 40 hours or less, each hour is paid at the hourly rate\n",
    "#For working more than 40 hours\n",
    "\n",
    "#the first 40 hours are paid at the hourly rate\n",
    "\n",
    "#each hour after 40 is paid at time and a half (hourly rate * 1.5)\n",
    "\n",
    "hours_worked = float(input('hours worked: '))\n",
    "hourly_rate = float(input('hourly pay: '))\n",
    "\n",
    "if hours_worked <= 40:\n",
    "    print(hours_worked*hourly_rate)\n",
    "    \n",
    "else:\n",
    "    print((40*hourly_rate)+((hours_worked-40)*(1.5*hourly_rate)))\n",
    "\n",
    "#print(((hours work -40 )*1.5hour_rate)+ 40*rate)\n",
    "    \n",
    "  "
   ]
  },
  {
   "cell_type": "code",
   "execution_count": 23,
   "id": "819f9320",
   "metadata": {},
   "outputs": [
    {
     "name": "stdout",
     "output_type": "stream",
     "text": [
      "5\n",
      "6\n",
      "7\n",
      "8\n",
      "9\n",
      "10\n",
      "11\n",
      "12\n",
      "13\n",
      "14\n",
      "15\n"
     ]
    }
   ],
   "source": [
    "#Exercise 2 Loop Basics\n",
    "\n",
    "#While\n",
    "\n",
    "#Create an integer variable i with a value of 5. \n",
    "#Create a while loop that runs so long as i is less than or equal to 15. \n",
    "#Each loop iteration, output the current value of i, then increment i by one.\n",
    "\n",
    "i = 5\n",
    "while i <= 15:\n",
    "    print (i)\n",
    "    i+= 1"
   ]
  },
  {
   "cell_type": "code",
   "execution_count": 4,
   "id": "558b4b00",
   "metadata": {},
   "outputs": [
    {
     "name": "stdout",
     "output_type": "stream",
     "text": [
      "0\n",
      "2\n",
      "4\n",
      "6\n",
      "8\n",
      "10\n",
      "12\n",
      "14\n",
      "16\n",
      "18\n",
      "20\n",
      "22\n",
      "24\n",
      "26\n",
      "28\n",
      "30\n",
      "32\n",
      "34\n",
      "36\n",
      "38\n",
      "40\n",
      "42\n",
      "44\n",
      "46\n",
      "48\n",
      "50\n",
      "52\n",
      "54\n",
      "56\n",
      "58\n",
      "60\n",
      "62\n",
      "64\n",
      "66\n",
      "68\n",
      "70\n",
      "72\n",
      "74\n",
      "76\n",
      "78\n",
      "80\n",
      "82\n",
      "84\n",
      "86\n",
      "88\n",
      "90\n",
      "92\n",
      "94\n",
      "96\n",
      "98\n",
      "100\n"
     ]
    }
   ],
   "source": [
    "#Create a while loop that will count by 2's starting with 0 and ending at 100. \n",
    "#Follow each number with a new line.\n",
    "i = 0\n",
    "while i <= 100:\n",
    "    print(i)\n",
    "    i += 2\n"
   ]
  },
  {
   "cell_type": "code",
   "execution_count": 11,
   "id": "68fb4636",
   "metadata": {},
   "outputs": [
    {
     "name": "stdout",
     "output_type": "stream",
     "text": [
      "2\n",
      "4\n",
      "16\n",
      "256\n",
      "65536\n"
     ]
    }
   ],
   "source": [
    "\n",
    "#Create a while loop that starts at 2, \n",
    "#and displays the number squared on each line while the number is less than 1,000,000. \n",
    "\n",
    "i = 2\n",
    "while i < 1000000:\n",
    "    print (i)\n",
    "    i = i ** 2"
   ]
  },
  {
   "cell_type": "code",
   "execution_count": 28,
   "id": "6951f9eb",
   "metadata": {},
   "outputs": [
    {
     "name": "stdout",
     "output_type": "stream",
     "text": [
      "100\n",
      "95\n",
      "90\n",
      "85\n",
      "80\n",
      "75\n",
      "70\n",
      "65\n",
      "60\n",
      "55\n",
      "50\n",
      "45\n",
      "40\n",
      "35\n",
      "30\n",
      "25\n",
      "20\n",
      "15\n",
      "10\n",
      "5\n"
     ]
    }
   ],
   "source": [
    "#Write a while loop that uses print to create the output shown below.\n",
    "i = 100\n",
    "\n",
    "while i >= 5:\n",
    "    print (i)\n",
    "    i -= 5"
   ]
  },
  {
   "cell_type": "code",
   "execution_count": 40,
   "id": "679f991a",
   "metadata": {},
   "outputs": [
    {
     "name": "stdout",
     "output_type": "stream",
     "text": [
      "put in yo numba!5\n",
      "5 x 1 = 5\n",
      "5 x 2 = 10\n",
      "5 x 3 = 15\n",
      "5 x 4 = 20\n",
      "5 x 5 = 25\n",
      "5 x 6 = 30\n",
      "5 x 7 = 35\n",
      "5 x 8 = 40\n",
      "5 x 9 = 45\n",
      "5 x 10 = 50\n"
     ]
    }
   ],
   "source": [
    "#For Loops\n",
    "\n",
    "#Write some code using a for loop that prompts the user for a number, \n",
    "#then shows a multiplication table up through 10 for that number.\n",
    "\n",
    "num = int(input('put in yo numba!'))\n",
    "\n",
    "for i in range (1,11):\n",
    "    result = num * i\n",
    "    print (f'{num} x {i} = {result}')\n",
    "\n",
    "    \n"
   ]
  },
  {
   "cell_type": "code",
   "execution_count": 50,
   "id": "28a1f287",
   "metadata": {},
   "outputs": [
    {
     "name": "stdout",
     "output_type": "stream",
     "text": [
      "1\n",
      "22\n",
      "333\n",
      "4444\n",
      "55555\n",
      "666666\n",
      "7777777\n",
      "88888888\n",
      "999999999\n"
     ]
    }
   ],
   "source": [
    "#Create a for loop that uses print to create the output shown below.\n",
    "\n",
    "for i in range (1,10):\n",
    "    print (f'{i}'* (i))"
   ]
  },
  {
   "cell_type": "code",
   "execution_count": 51,
   "id": "db434cd2",
   "metadata": {},
   "outputs": [
    {
     "name": "stdout",
     "output_type": "stream",
     "text": [
      "please enter a positive number10\n",
      "10\n",
      "9\n",
      "8\n",
      "7\n",
      "6\n",
      "5\n",
      "4\n",
      "3\n",
      "2\n",
      "1\n"
     ]
    }
   ],
   "source": [
    "#break and continue\n",
    "\n",
    "#Write a program that prompts the user for a positive integer. \n",
    "#Next write a loop that prints out the numbers from the number the user entered down to 1.\n",
    "pos_int = int(input('please enter a positive number'))\n",
    "while pos_int >= 1:\n",
    "    print(pos_int)\n",
    "    pos_int -= 1\n",
    "#The input function can be used to prompt for input and use that input in your python code. \n",
    "#Prompt the user to enter a positive number and write a loop that counts from 0 to that number. \n",
    "#(Hints: note that the input function returns a string, so you'll need to convert this to a numeric type.)\n",
    "\n",
    "#Prompt the user for an odd number between 1 and 50. \n",
    "# Use a loop and a break statement to continue prompting the user if they enter invalid input. \n",
    "# (Hint: use the is digit method on strings to determine this). \n",
    "# Use a loop and the continue statement to output all the odd numbers between 1 and 50, \n",
    "# except for the number the user entered.\n",
    "while True:\n",
    "    user_input = input(\"Enter an odd number between 1 and 50: \")\n",
    "    \n",
    "    if user_input.isdigit():\n",
    "        number = int(user_input)\n",
    "        \n",
    "        if 1 <= number <= 50 and number % 2 != 0:\n",
    "            break\n",
    "    \n",
    "    print(\"Invalid input. Please try again.\")\n",
    "\n",
    "print(f\"Odd numbers between 1 and 50, except for {number}:\")\n",
    "for i in range(1, 51):\n",
    "    if i == number:\n",
    "        continue\n",
    "    \n",
    "    if i % 2 != 0:\n",
    "        print(i)\n",
    "\n",
    "\n"
   ]
  },
  {
   "cell_type": "code",
   "execution_count": 24,
   "id": "8d529e7e",
   "metadata": {},
   "outputs": [
    {
     "name": "stdout",
     "output_type": "stream",
     "text": [
      "1\n",
      "2\n",
      "Fizz\n",
      "4\n",
      "Buzz\n",
      "Fizz\n",
      "7\n",
      "8\n",
      "Fizz\n",
      "Buzz\n",
      "11\n",
      "Fizz\n",
      "13\n",
      "14\n",
      "FizzBuzz\n",
      "16\n",
      "17\n",
      "Fizz\n",
      "19\n",
      "Buzz\n",
      "Fizz\n",
      "22\n",
      "23\n",
      "Fizz\n",
      "Buzz\n",
      "26\n",
      "Fizz\n",
      "28\n",
      "29\n",
      "FizzBuzz\n",
      "31\n",
      "32\n",
      "Fizz\n",
      "34\n",
      "Buzz\n",
      "Fizz\n",
      "37\n",
      "38\n",
      "Fizz\n",
      "Buzz\n",
      "41\n",
      "Fizz\n",
      "43\n",
      "44\n",
      "FizzBuzz\n",
      "46\n",
      "47\n",
      "Fizz\n",
      "49\n",
      "Buzz\n",
      "Fizz\n",
      "52\n",
      "53\n",
      "Fizz\n",
      "Buzz\n",
      "56\n",
      "Fizz\n",
      "58\n",
      "59\n",
      "FizzBuzz\n",
      "61\n",
      "62\n",
      "Fizz\n",
      "64\n",
      "Buzz\n",
      "Fizz\n",
      "67\n",
      "68\n",
      "Fizz\n",
      "Buzz\n",
      "71\n",
      "Fizz\n",
      "73\n",
      "74\n",
      "FizzBuzz\n",
      "76\n",
      "77\n",
      "Fizz\n",
      "79\n",
      "Buzz\n",
      "Fizz\n",
      "82\n",
      "83\n",
      "Fizz\n",
      "Buzz\n",
      "86\n",
      "Fizz\n",
      "88\n",
      "89\n",
      "FizzBuzz\n",
      "91\n",
      "92\n",
      "Fizz\n",
      "94\n",
      "Buzz\n",
      "Fizz\n",
      "97\n",
      "98\n",
      "Fizz\n",
      "Buzz\n"
     ]
    }
   ],
   "source": [
    "#Fizzbuzz\n",
    "\n",
    "#One of the most common interview questions for entry-level programmers is the FizzBuzz test. \n",
    "#Developed by Imran Ghory, the test is designed to test basic looping and conditional logic skills.\n",
    "\n",
    "#Write a program that prints the numbers from 1 to 100.\n",
    "#For multiples of three print \"Fizz\" instead of the number\n",
    "#For the multiples of five print \"Buzz\".\n",
    "#For numbers which are multiples of both three and five print \"FizzBuzz\".\n",
    "\n",
    "for i in range(1,101):\n",
    "    if i % 3 == 0 and i % 5 == 0:\n",
    "        print (\"FizzBuzz\")\n",
    "    elif i % 3 == 0:\n",
    "        print (\"Fizz\")\n",
    "    elif i % 5 == 0:\n",
    "        print (\"Buzz\")\n",
    "    else:\n",
    "        print( i )"
   ]
  },
  {
   "cell_type": "code",
   "execution_count": null,
   "id": "8ec9a632",
   "metadata": {},
   "outputs": [],
   "source": [
    "#Display a table of powers.\n",
    "\n",
    "#Prompt the user to enter an integer\n",
    "#Display a table of squares and cubes from 1 to the value entered\n",
    "#Ask if the user wants to continue\n",
    "#Assume that the user will enter valid data\n",
    "#Only continue if the user agrees to\n",
    "\n",
    "while True:\n",
    "    \n",
    "    number = int(input(\"Enter an integer: \"))\n",
    "       (\"Number\\tSquare\\tCube\")\n",
    "    for i in range(1, number + 1):\n",
    "        square = i ** 2\n",
    "        cube = i ** 3\n",
    "        print(f\"{i}\\t{square}\\t{cube}\")\n",
    "    choice = input(\"Do you want to continue? (yes/no): \")\n",
    "    if choice.lower() != \"yes\":\n",
    "        break\n"
   ]
  },
  {
   "cell_type": "code",
   "execution_count": null,
   "id": "6abfbf98",
   "metadata": {},
   "outputs": [],
   "source": [
    "#Convert given number grades into letter grades.\n",
    "\n",
    "#Prompt the user for a numerical grade from 0 to 100\n",
    "#Display the corresponding letter grade\n",
    "#Prompt the user to continue\n",
    "#Assume that the user will enter valid integers for the grades\n",
    "#The application should only continue if the user agrees to\n",
    "#Grade Ranges:\n",
    "\n",
    "#A : 100 - 88\n",
    "#B : 87 - 80\n",
    "#C : 79 - 67\n",
    "#D : 66 - 60\n",
    "#F : 59 - 0\n",
    "\n"
   ]
  },
  {
   "cell_type": "code",
   "execution_count": null,
   "id": "f9435b59",
   "metadata": {},
   "outputs": [],
   "source": [
    "#Create a list of dictionaries where each dictionary represents a book that you have read. \n",
    "#Each dictionary in the list should have the keys title, author, and genre. \n",
    "#Loop through the list and print out information about each book.\n",
    "\n",
    "#Prompt the user to enter a genre, \n",
    "#then loop through your books list and print out the titles of all the books in that genre."
   ]
  }
 ],
 "metadata": {
  "kernelspec": {
   "display_name": "Python 3 (ipykernel)",
   "language": "python",
   "name": "python3"
  },
  "language_info": {
   "codemirror_mode": {
    "name": "ipython",
    "version": 3
   },
   "file_extension": ".py",
   "mimetype": "text/x-python",
   "name": "python",
   "nbconvert_exporter": "python",
   "pygments_lexer": "ipython3",
   "version": "3.10.9"
  }
 },
 "nbformat": 4,
 "nbformat_minor": 5
}
