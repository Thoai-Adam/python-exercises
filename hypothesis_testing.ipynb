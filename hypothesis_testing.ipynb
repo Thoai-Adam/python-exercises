{
 "cells": [
  {
   "cell_type": "markdown",
   "id": "6c45d2c6",
   "metadata": {},
   "source": [
    "Do your work for this exercise in a jupyter notebook named hypothesis_testing.ipynb.\n",
    "\n",
    "For each of the following questions, formulate a null and alternative hypothesis (be as specific as you can be), then give an example of what a true positive, true negative, type I and type II errors would look like. Note that some of the questions are intentionally phrased in a vague way. It is your job to reword these as more precise questions that could be tested.\n",
    "\n",
    "Has the network latency gone up since we switched internet service providers?\n",
    "\n",
    "\n"
   ]
  },
  {
   "cell_type": "markdown",
   "id": "2988fe17",
   "metadata": {},
   "source": [
    "Null hypothesis (H0): The network latency has not have any difference since we switched internet service providers.\n",
    "\n",
    "Alternative hypothesis (Ha): The network latency has gone up since we switched internet service providers.\n",
    "\n",
    "True Positive: Occurs when the network latency has indeed gone up since switching internet service providers, and the test correctly detects this increase in latency.\n",
    "True Negative: Occurs when the network latency has not gone up since switching internet service providers, and the test correctly identifies that there is no increase in latency.No relationship, but we fail to reject\n",
    "\n",
    "Type I Error (False Positive): Occurs when the network latency has not gone up since switching internet service providers, but the test incorrectly detects an increase in latency and falsely concludes that the latency has increased.\n",
    "Type II Error (False Negative): Occurs when the network latency has gone up since switching internet service providers, but the test fails to detect this increase and incorrectly concludes that the latency has not increased."
   ]
  },
  {
   "cell_type": "markdown",
   "id": "8827f401",
   "metadata": {},
   "source": [
    "Is the website redesign any good?"
   ]
  },
  {
   "cell_type": "markdown",
   "id": "218f0470",
   "metadata": {},
   "source": [
    "Null H0: website redesign does not do any good\n",
    "Alternative Ha: website redesign boost online sale by 50% by convenient click to buy\n",
    "    \n",
    "True Positive: Occurs when the redesign increases sales 1 month after it was released online, and test correctly detect when there are high click to buy rate\n",
    "True Negative: Occurs when the sales does not increase nor decrease 1 month after the release of a redesigned webpage even with the high click to buy\n",
    "    \n",
    "Type I False Positive: Occurs when sales does not increase with website redesign and test incorrectly detect that the sales increased and falsely concludes that the redesign was responsible\n",
    "Type II error False Negative: Test fails to detect an increase in sales, even though sales has increase within 1 month of deploying new web design"
   ]
  },
  {
   "cell_type": "markdown",
   "id": "f6e69a54",
   "metadata": {},
   "source": [
    "Is our television ad driving more sales?"
   ]
  },
  {
   "cell_type": "markdown",
   "id": "fe87f526",
   "metadata": {},
   "source": [
    "Null: Television ad does not drive more sales because there are more streaming audience than TV audience\n",
    "Alternative: Television ad does drive up sales because it still expose product to what is left of TV audience\n",
    "    \n",
    "True Positive: Test correctly detect higher sales when TV ad were deploy 1 month\n",
    "True Negative: Test correctly detect there are no changes in sales after 1 month of ad deployment\n",
    "    \n",
    "Type I: False Positive: Test incorrectly detect increase of sales even though sales does not increase after 1 month of ad deployment\n",
    "Type II: False Negative: Test incorrectly detect no increase in sales even though sales does increase after 1 month of ad deployment.    \n",
    "    "
   ]
  },
  {
   "cell_type": "markdown",
   "id": "4fc46b05",
   "metadata": {},
   "source": [
    "Exercises\n",
    "Continue working in your hypothesis_testing notebook.\n",
    "\n",
    "Use the following contingency table to help answer the question of whether using a macbook and being a codeup student are independent of each other.\n",
    "\n",
    " \t              Codeup Student\tNot Codeup Student\n",
    "Uses a Macbook\t        49\t               20\n",
    "Doesn't Use A Macbook\t1\t               30\n",
    "Choose another 2 categorical variables from the mpg dataset.\n",
    "\n",
    "State your null and alternative hypotheses.\n",
    "State your alpha.\n",
    "Perform a chi2 test of indepedence.\n",
    "State your conclusion\n"
   ]
  },
  {
   "cell_type": "markdown",
   "id": "bf3c3af1",
   "metadata": {},
   "source": [
    "Null: no relationship between codeup vs noncodeupstudent\n",
    "Alternative: CodeUp student tend to use Macbook\n",
    "    "
   ]
  },
  {
   "cell_type": "code",
   "execution_count": null,
   "id": "b0c912f3",
   "metadata": {},
   "outputs": [],
   "source": []
  },
  {
   "cell_type": "code",
   "execution_count": null,
   "id": "c1682075",
   "metadata": {},
   "outputs": [],
   "source": []
  },
  {
   "cell_type": "code",
   "execution_count": 3,
   "id": "96d2815c",
   "metadata": {},
   "outputs": [],
   "source": [
    "import numpy as np\n",
    "import pandas as pd\n",
    "from scipy import stats\n",
    "from pydataset import data\n",
    "\n",
    "\n",
    "data_one = np.array([[49, 20],\n",
    "                 [1, 30]])\n",
    "contingency_table = pd.DataFrame(data_one, index=['Use Macbook', 'No a Macbook'], columns=['Codeup Student', 'Not Codeup Student'])\n",
    "\n",
    "\n",
    "chi2, p_value, dof, expected = stats.chi2_contingency(contingency_table)\n",
    "\n",
    "\n"
   ]
  },
  {
   "cell_type": "code",
   "execution_count": 4,
   "id": "f7135a20",
   "metadata": {},
   "outputs": [
    {
     "data": {
      "text/plain": [
       "36.65264142122487"
      ]
     },
     "execution_count": 4,
     "metadata": {},
     "output_type": "execute_result"
    }
   ],
   "source": [
    "chi2"
   ]
  },
  {
   "cell_type": "code",
   "execution_count": 5,
   "id": "1a3835ec",
   "metadata": {},
   "outputs": [
    {
     "data": {
      "text/plain": [
       "1.4116760526193828e-09"
      ]
     },
     "execution_count": 5,
     "metadata": {},
     "output_type": "execute_result"
    }
   ],
   "source": [
    "p_value"
   ]
  },
  {
   "cell_type": "code",
   "execution_count": 6,
   "id": "cb8b86e7",
   "metadata": {},
   "outputs": [
    {
     "data": {
      "text/plain": [
       "1"
      ]
     },
     "execution_count": 6,
     "metadata": {},
     "output_type": "execute_result"
    }
   ],
   "source": [
    "dof"
   ]
  },
  {
   "cell_type": "code",
   "execution_count": 7,
   "id": "181e94ee",
   "metadata": {},
   "outputs": [
    {
     "data": {
      "text/plain": [
       "array([[34.5, 34.5],\n",
       "       [15.5, 15.5]])"
      ]
     },
     "execution_count": 7,
     "metadata": {},
     "output_type": "execute_result"
    }
   ],
   "source": [
    "expected"
   ]
  },
  {
   "cell_type": "code",
   "execution_count": 8,
   "id": "c7ad02c2",
   "metadata": {},
   "outputs": [
    {
     "name": "stdout",
     "output_type": "stream",
     "text": [
      "rejected Null\n"
     ]
    }
   ],
   "source": [
    "a = 0.05\n",
    "if p_value < a:\n",
    "    print('rejected Null')\n",
    "else:\n",
    "    print('failed to reject Null')\n",
    "    \n",
    "#CodeUp student will be using Macbook"
   ]
  },
  {
   "cell_type": "markdown",
   "id": "94ffa5b4",
   "metadata": {},
   "source": [
    "This is now became True negative. We rejected Null and test shows the p_value is below alpha"
   ]
  },
  {
   "cell_type": "code",
   "execution_count": null,
   "id": "6c25effa",
   "metadata": {},
   "outputs": [],
   "source": []
  },
  {
   "cell_type": "code",
   "execution_count": null,
   "id": "14635c1e",
   "metadata": {},
   "outputs": [],
   "source": []
  },
  {
   "cell_type": "code",
   "execution_count": null,
   "id": "800e8c25",
   "metadata": {},
   "outputs": [],
   "source": [
    "from env import get_connection\n",
    "from sqlalchemy import create_engine, text\n",
    "def get_db_url(database):\n",
    "    return get_connection(database)"
   ]
  },
  {
   "cell_type": "code",
   "execution_count": 4,
   "id": "b606501f",
   "metadata": {},
   "outputs": [
    {
     "ename": "NameError",
     "evalue": "name 'get_db_url' is not defined",
     "output_type": "error",
     "traceback": [
      "\u001b[0;31m---------------------------------------------------------------------------\u001b[0m",
      "\u001b[0;31mNameError\u001b[0m                                 Traceback (most recent call last)",
      "Cell \u001b[0;32mIn[4], line 1\u001b[0m\n\u001b[0;32m----> 1\u001b[0m url \u001b[38;5;241m=\u001b[39m \u001b[43mget_db_url\u001b[49m(\u001b[38;5;124m'\u001b[39m\u001b[38;5;124memployees\u001b[39m\u001b[38;5;124m'\u001b[39m)\n\u001b[1;32m      2\u001b[0m query \u001b[38;5;241m=\u001b[39m text(\u001b[38;5;124m\"\u001b[39m\u001b[38;5;124mselect emp_no, gender, dept_name from employees join dept_emp using (emp_no) join departments using (dept_no) where to_date = \u001b[39m\u001b[38;5;124m'\u001b[39m\u001b[38;5;124m9999-01-01\u001b[39m\u001b[38;5;124m'\u001b[39m\u001b[38;5;124m and dept_name in (\u001b[39m\u001b[38;5;124m'\u001b[39m\u001b[38;5;124mMarketing\u001b[39m\u001b[38;5;124m'\u001b[39m\u001b[38;5;124m, \u001b[39m\u001b[38;5;124m'\u001b[39m\u001b[38;5;124mSales\u001b[39m\u001b[38;5;124m'\u001b[39m\u001b[38;5;124m)\u001b[39m\u001b[38;5;124m\"\u001b[39m)\n\u001b[1;32m      3\u001b[0m engine \u001b[38;5;241m=\u001b[39m create_engine(url)\n",
      "\u001b[0;31mNameError\u001b[0m: name 'get_db_url' is not defined"
     ]
    }
   ],
   "source": [
    "url = get_db_url('employees')\n",
    "query = text(\"select emp_no, gender, dept_name from employees join dept_emp using (emp_no) join departments using (dept_no) where to_date = '9999-01-01' and dept_name in ('Marketing', 'Sales')\")\n",
    "engine = create_engine(url)\n",
    "df=pd.read_sql(query,engine.connect())\n",
    "df"
   ]
  },
  {
   "cell_type": "code",
   "execution_count": null,
   "id": "0d68df3e",
   "metadata": {},
   "outputs": [],
   "source": []
  },
  {
   "cell_type": "code",
   "execution_count": null,
   "id": "7cd98a64",
   "metadata": {},
   "outputs": [],
   "source": []
  },
  {
   "cell_type": "markdown",
   "id": "fe1b2439",
   "metadata": {},
   "source": [
    "Choose another 2 categorical variables from the mpg dataset. \n",
    "State your null and alternative hypotheses. \n",
    "State your alpha. \n",
    "Perform a chi2 test of independence. \n",
    "State your conclusion"
   ]
  },
  {
   "cell_type": "code",
   "execution_count": 2,
   "id": "d24c4ad1",
   "metadata": {},
   "outputs": [
    {
     "ename": "NameError",
     "evalue": "name 'data' is not defined",
     "output_type": "error",
     "traceback": [
      "\u001b[0;31m---------------------------------------------------------------------------\u001b[0m",
      "\u001b[0;31mNameError\u001b[0m                                 Traceback (most recent call last)",
      "Cell \u001b[0;32mIn[2], line 2\u001b[0m\n\u001b[1;32m      1\u001b[0m \u001b[38;5;66;03m#import data from pydataset\u001b[39;00m\n\u001b[0;32m----> 2\u001b[0m df\u001b[38;5;241m=\u001b[39m\u001b[43mdata\u001b[49m(\u001b[38;5;124m'\u001b[39m\u001b[38;5;124mmpg\u001b[39m\u001b[38;5;124m'\u001b[39m)\n\u001b[1;32m      3\u001b[0m df\n",
      "\u001b[0;31mNameError\u001b[0m: name 'data' is not defined"
     ]
    }
   ],
   "source": [
    "#import data from pydataset\n",
    "df=data('mpg')\n",
    "df"
   ]
  },
  {
   "cell_type": "code",
   "execution_count": null,
   "id": "12a759a9",
   "metadata": {},
   "outputs": [],
   "source": [
    "df.info()"
   ]
  },
  {
   "cell_type": "code",
   "execution_count": null,
   "id": "c7ac146a",
   "metadata": {},
   "outputs": [],
   "source": [
    "df.nunique()"
   ]
  },
  {
   "cell_type": "code",
   "execution_count": null,
   "id": "78cee73c",
   "metadata": {},
   "outputs": [],
   "source": [
    "df.year.value_counts()"
   ]
  },
  {
   "cell_type": "code",
   "execution_count": null,
   "id": "be5ce2c6",
   "metadata": {},
   "outputs": [],
   "source": [
    "df.cyl.value_counts()"
   ]
  },
  {
   "cell_type": "markdown",
   "id": "f2343083",
   "metadata": {},
   "source": [
    "Null: There are no association b/w car year and cylinder\n",
    "Alternative:There are correlation"
   ]
  },
  {
   "cell_type": "code",
   "execution_count": 3,
   "id": "93dd6cc6",
   "metadata": {},
   "outputs": [
    {
     "ename": "NameError",
     "evalue": "name 'pd' is not defined",
     "output_type": "error",
     "traceback": [
      "\u001b[0;31m---------------------------------------------------------------------------\u001b[0m",
      "\u001b[0;31mNameError\u001b[0m                                 Traceback (most recent call last)",
      "Cell \u001b[0;32mIn[3], line 1\u001b[0m\n\u001b[0;32m----> 1\u001b[0m observed \u001b[38;5;241m=\u001b[39m \u001b[43mpd\u001b[49m\u001b[38;5;241m.\u001b[39mcrosstab(df\u001b[38;5;241m.\u001b[39myear, df\u001b[38;5;241m.\u001b[39mcyl)\n\u001b[1;32m      2\u001b[0m observed\n",
      "\u001b[0;31mNameError\u001b[0m: name 'pd' is not defined"
     ]
    }
   ],
   "source": [
    "observed = pd.crosstab(df.year, df.cyl)\n",
    "observed"
   ]
  },
  {
   "cell_type": "code",
   "execution_count": null,
   "id": "4240bb95",
   "metadata": {},
   "outputs": [],
   "source": [
    "chi2, p, dof, expected = stats.chi2_contingency(observed)"
   ]
  },
  {
   "cell_type": "code",
   "execution_count": null,
   "id": "de0b741f",
   "metadata": {},
   "outputs": [],
   "source": [
    "chi2"
   ]
  },
  {
   "cell_type": "code",
   "execution_count": null,
   "id": "d3a49d36",
   "metadata": {},
   "outputs": [],
   "source": [
    "p"
   ]
  },
  {
   "cell_type": "code",
   "execution_count": null,
   "id": "691b187c",
   "metadata": {},
   "outputs": [],
   "source": [
    "dof"
   ]
  },
  {
   "cell_type": "code",
   "execution_count": null,
   "id": "75d58b99",
   "metadata": {},
   "outputs": [],
   "source": [
    "expected"
   ]
  },
  {
   "cell_type": "code",
   "execution_count": null,
   "id": "0c810395",
   "metadata": {},
   "outputs": [],
   "source": []
  },
  {
   "cell_type": "code",
   "execution_count": null,
   "id": "87051f3f",
   "metadata": {},
   "outputs": [],
   "source": []
  },
  {
   "cell_type": "markdown",
   "id": "0f710961",
   "metadata": {},
   "source": [
    "Use the data from the employees database to answer these questions:\n",
    "Is an employee's gender independent of whether an employee works in sales or marketing? (only look at current employees) Is an employee's gender independent of whether or not they are or have been a manager?\n"
   ]
  },
  {
   "cell_type": "code",
   "execution_count": 12,
   "id": "49546657",
   "metadata": {},
   "outputs": [],
   "source": [
    "observed = pd.crosstab(df.gender, df)"
   ]
  },
  {
   "cell_type": "code",
   "execution_count": 13,
   "id": "415af963",
   "metadata": {},
   "outputs": [],
   "source": []
  },
  {
   "cell_type": "code",
   "execution_count": 1,
   "id": "b6cb8659",
   "metadata": {},
   "outputs": [
    {
     "ename": "NameError",
     "evalue": "name 'get_db_url' is not defined",
     "output_type": "error",
     "traceback": [
      "\u001b[0;31m---------------------------------------------------------------------------\u001b[0m",
      "\u001b[0;31mNameError\u001b[0m                                 Traceback (most recent call last)",
      "Cell \u001b[0;32mIn[1], line 1\u001b[0m\n\u001b[0;32m----> 1\u001b[0m url \u001b[38;5;241m=\u001b[39m \u001b[43mget_db_url\u001b[49m(\u001b[38;5;124m'\u001b[39m\u001b[38;5;124memployees\u001b[39m\u001b[38;5;124m'\u001b[39m)\n\u001b[1;32m      2\u001b[0m query \u001b[38;5;241m=\u001b[39m text(\u001b[38;5;124m\"\u001b[39m\u001b[38;5;124mselect emp_no, gender, dept_name from employees join dept_emp using (emp_no) join departments using (dept_no) where to_date = \u001b[39m\u001b[38;5;124m'\u001b[39m\u001b[38;5;124m9999-01-01\u001b[39m\u001b[38;5;124m'\u001b[39m\u001b[38;5;124m and dept_name in (\u001b[39m\u001b[38;5;124m'\u001b[39m\u001b[38;5;124mMarketing\u001b[39m\u001b[38;5;124m'\u001b[39m\u001b[38;5;124m, \u001b[39m\u001b[38;5;124m'\u001b[39m\u001b[38;5;124mSales\u001b[39m\u001b[38;5;124m'\u001b[39m\u001b[38;5;124m)\u001b[39m\u001b[38;5;124m\"\u001b[39m)\n\u001b[1;32m      3\u001b[0m engine \u001b[38;5;241m=\u001b[39m create_engine(url)\n",
      "\u001b[0;31mNameError\u001b[0m: name 'get_db_url' is not defined"
     ]
    }
   ],
   "source": [
    "if p < alpha:\n",
    "    print('we reject the null hypothesis')\n",
    "else:\n",
    "    print('we accept the null hypothesis')"
   ]
  },
  {
   "cell_type": "code",
   "execution_count": null,
   "id": "d6903843",
   "metadata": {},
   "outputs": [],
   "source": []
  },
  {
   "cell_type": "code",
   "execution_count": null,
   "id": "59b4a907",
   "metadata": {},
   "outputs": [],
   "source": []
  },
  {
   "cell_type": "code",
   "execution_count": null,
   "id": "480e0387",
   "metadata": {},
   "outputs": [],
   "source": []
  },
  {
   "cell_type": "code",
   "execution_count": null,
   "id": "ec2c3843",
   "metadata": {},
   "outputs": [],
   "source": []
  },
  {
   "cell_type": "code",
   "execution_count": null,
   "id": "22631baf",
   "metadata": {},
   "outputs": [],
   "source": []
  },
  {
   "cell_type": "markdown",
   "id": "b59a231d",
   "metadata": {},
   "source": [
    "Use the data from the employees database to answer these questions:\n",
    "\n",
    "is an employee's gender independent of whether an employeeworks in sales or marketing?\n",
    "\n",
    "is an employee's gender independent of whether or not they areor have been a manager?"
   ]
  },
  {
   "cell_type": "code",
   "execution_count": null,
   "id": "61936bc1",
   "metadata": {},
   "outputs": [],
   "source": []
  },
  {
   "cell_type": "code",
   "execution_count": null,
   "id": "1b7dcb89",
   "metadata": {},
   "outputs": [],
   "source": []
  },
  {
   "cell_type": "code",
   "execution_count": null,
   "id": "33f7f2dd",
   "metadata": {},
   "outputs": [],
   "source": [
    "mpg = data('mpg')\n",
    "mpg['transmission'] = mpg.trans.str[:-4] \n",
    "mpg.head()"
   ]
  },
  {
   "cell_type": "markdown",
   "id": "88b522eb",
   "metadata": {},
   "source": [
    "We will calculate the values we would expect to see if the two groups are independent.\n",
    "For each subgroup, we calculate the proportion of the total that it is, then multiply each subgroup's proportion by the proportion from every other subgroup to determine the expected values"
   ]
  },
  {
   "cell_type": "code",
   "execution_count": null,
   "id": "d88650a0",
   "metadata": {},
   "outputs": [],
   "source": [
    "n = mpg.shape[0]\n",
    "transmission_proportions = mpg.transmission.value_counts()/n\n",
    "transmission_proportions"
   ]
  },
  {
   "cell_type": "code",
   "execution_count": null,
   "id": "8ce84073",
   "metadata": {},
   "outputs": [],
   "source": [
    "drive_proportions = mpg.drv.value_counts()/n\n",
    "drive_proportions"
   ]
  },
  {
   "cell_type": "code",
   "execution_count": null,
   "id": "6ded9f1f",
   "metadata": {},
   "outputs": [],
   "source": [
    "expected = pd.DataFrame()\n",
    "for transmission_group, t_prop in transmission_proportions.items():\n",
    "    for drive_group, d_prop in drive_proportions.items():\n",
    "        expected.loc[drive_group, transmission_group] = t_prop * d_prop\n",
    "        \n",
    "expected.sort_index(inplace=True)\n",
    "expected"
   ]
  },
  {
   "cell_type": "code",
   "execution_count": null,
   "id": "ff8bd321",
   "metadata": {},
   "outputs": [],
   "source": [
    "expected *= n\n",
    "expected\n"
   ]
  },
  {
   "cell_type": "code",
   "execution_count": null,
   "id": "808fda74",
   "metadata": {},
   "outputs": [],
   "source": [
    "observed = pd.crosstab(mpg.drv, mpg.transmission)\n",
    "observed"
   ]
  },
  {
   "cell_type": "code",
   "execution_count": null,
   "id": "1697e994",
   "metadata": {},
   "outputs": [],
   "source": [
    "chi2 = ((observed - expected)**2 / expected).values.sum()\n",
    "chi2"
   ]
  },
  {
   "cell_type": "code",
   "execution_count": null,
   "id": "d15ebfd0",
   "metadata": {},
   "outputs": [],
   "source": [
    "nrows, ncols = observed.shape\n",
    "dof= (nrows - 1) * (ncols - 1)"
   ]
  },
  {
   "cell_type": "code",
   "execution_count": null,
   "id": "02d759bf",
   "metadata": {},
   "outputs": [],
   "source": [
    "stats.chi2(dof).sf(chi2)"
   ]
  },
  {
   "cell_type": "code",
   "execution_count": null,
   "id": "5f85c093",
   "metadata": {},
   "outputs": [],
   "source": []
  }
 ],
 "metadata": {
  "kernelspec": {
   "display_name": "Python 3 (ipykernel)",
   "language": "python",
   "name": "python3"
  },
  "language_info": {
   "codemirror_mode": {
    "name": "ipython",
    "version": 3
   },
   "file_extension": ".py",
   "mimetype": "text/x-python",
   "name": "python",
   "nbconvert_exporter": "python",
   "pygments_lexer": "ipython3",
   "version": "3.10.9"
  }
 },
 "nbformat": 4,
 "nbformat_minor": 5
}
