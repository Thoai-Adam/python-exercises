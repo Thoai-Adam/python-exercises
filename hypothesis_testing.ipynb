{
 "cells": [
  {
   "cell_type": "markdown",
   "id": "6c45d2c6",
   "metadata": {},
   "source": [
    "Do your work for this exercise in a jupyter notebook named hypothesis_testing.ipynb.\n",
    "\n",
    "For each of the following questions, formulate a null and alternative hypothesis (be as specific as you can be), then give an example of what a true positive, true negative, type I and type II errors would look like. Note that some of the questions are intentionally phrased in a vague way. It is your job to reword these as more precise questions that could be tested.\n",
    "\n",
    "Has the network latency gone up since we switched internet service providers?\n",
    "\n",
    "\n"
   ]
  },
  {
   "cell_type": "markdown",
   "id": "2988fe17",
   "metadata": {},
   "source": [
    "Null hypothesis (H0): The network latency has not have any difference since we switched internet service providers.\n",
    "\n",
    "Alternative hypothesis (Ha): The network latency has gone up since we switched internet service providers.\n",
    "\n",
    "True Positive: Occurs when the network latency has indeed gone up since switching internet service providers, and the test correctly detects this increase in latency.\n",
    "True Negative: Occurs when the network latency has not gone up since switching internet service providers, and the test correctly identifies that there is no increase in latency.No relationship, but we fail to reject\n",
    "\n",
    "Type I Error (False Positive): Occurs when the network latency has not gone up since switching internet service providers, but the test incorrectly detects an increase in latency and falsely concludes that the latency has increased.\n",
    "Type II Error (False Negative): Occurs when the network latency has gone up since switching internet service providers, but the test fails to detect this increase and incorrectly concludes that the latency has not increased."
   ]
  },
  {
   "cell_type": "markdown",
   "id": "8827f401",
   "metadata": {},
   "source": [
    "Is the website redesign any good?"
   ]
  },
  {
   "cell_type": "markdown",
   "id": "218f0470",
   "metadata": {},
   "source": [
    "Null H0: website redesign does not do any good\n",
    "Alternative Ha: website redesign boost online sale by 50% by convenient click to buy\n",
    "    \n",
    "True Positive: Occurs when the redesign increases sales 1 month after it was released online, and test correctly detect when there are high click to buy rate\n",
    "True Negative: Occurs when the sales does not increase nor decrease 1 month after the release of a redesigned webpage even with the high click to buy\n",
    "    \n",
    "Type I False Positive: Occurs when sales does not increase with website redesign and test incorrectly detect that the sales increased and falsely concludes that the redesign was responsible\n",
    "Type II error False Negative: Test fails to detect an increase in sales, even though sales has increase within 1 month of deploying new web design"
   ]
  },
  {
   "cell_type": "markdown",
   "id": "f6e69a54",
   "metadata": {},
   "source": [
    "Is our television ad driving more sales?"
   ]
  },
  {
   "cell_type": "markdown",
   "id": "fe87f526",
   "metadata": {},
   "source": [
    "Null: Television ad does not drive more sales because there are more streaming audience than TV audience\n",
    "Alternative: Television ad does drive up sales because it still expose product to what is left of TV audience\n",
    "    \n",
    "True Positive: Test correctly detect higher sales when TV ad were deploy 1 month\n",
    "True Negative: Test correctly detect there are no changes in sales after 1 month of ad deployment\n",
    "    \n",
    "Type I: False Positive: Test incorrectly detect increase of sales even though sales does not increase after 1 month of ad deployment\n",
    "Type II: False Negative: Test incorrectly detect no increase in sales even though sales does increase after 1 month of ad deployment.    \n",
    "    "
   ]
  },
  {
   "cell_type": "markdown",
   "id": "4fc46b05",
   "metadata": {},
   "source": [
    "Exercises\n",
    "Continue working in your hypothesis_testing notebook.\n",
    "\n",
    "Use the following contingency table to help answer the question of whether using a macbook and being a codeup student are independent of each other.\n",
    "\n",
    " \t              Codeup Student\tNot Codeup Student\n",
    "Uses a Macbook\t        49\t               20\n",
    "Doesn't Use A Macbook\t1\t               30\n",
    "Choose another 2 categorical variables from the mpg dataset.\n",
    "\n",
    "State your null and alternative hypotheses.\n",
    "State your alpha.\n",
    "Perform a chi2 test of indepedence.\n",
    "State your conclusion\n"
   ]
  },
  {
   "cell_type": "markdown",
   "id": "bf3c3af1",
   "metadata": {},
   "source": [
    "Null: no relationship between codeup vs noncodeupstudent\n",
    "Alternative: CodeUp student tend to use Macbook\n",
    "    "
   ]
  },
  {
   "cell_type": "code",
   "execution_count": null,
   "id": "b0c912f3",
   "metadata": {},
   "outputs": [],
   "source": []
  },
  {
   "cell_type": "code",
   "execution_count": null,
   "id": "c1682075",
   "metadata": {},
   "outputs": [],
   "source": []
  },
  {
   "cell_type": "code",
   "execution_count": 3,
   "id": "96d2815c",
   "metadata": {},
   "outputs": [],
   "source": [
    "import numpy as np\n",
    "import pandas as pd\n",
    "from scipy import stats\n",
    "from pydataset import data\n",
    "\n",
    "\n",
    "data_one = np.array([[49, 20],\n",
    "                 [1, 30]])\n",
    "contingency_table = pd.DataFrame(data_one, index=['Use Macbook', 'No a Macbook'], columns=['Codeup Student', 'Not Codeup Student'])\n",
    "\n",
    "\n",
    "chi2, p_value, dof, expected = stats.chi2_contingency(contingency_table)\n",
    "\n",
    "\n"
   ]
  },
  {
   "cell_type": "code",
   "execution_count": 4,
   "id": "f7135a20",
   "metadata": {},
   "outputs": [
    {
     "data": {
      "text/plain": [
       "36.65264142122487"
      ]
     },
     "execution_count": 4,
     "metadata": {},
     "output_type": "execute_result"
    }
   ],
   "source": [
    "chi2"
   ]
  },
  {
   "cell_type": "code",
   "execution_count": 5,
   "id": "1a3835ec",
   "metadata": {},
   "outputs": [
    {
     "data": {
      "text/plain": [
       "1.4116760526193828e-09"
      ]
     },
     "execution_count": 5,
     "metadata": {},
     "output_type": "execute_result"
    }
   ],
   "source": [
    "p_value"
   ]
  },
  {
   "cell_type": "code",
   "execution_count": 6,
   "id": "cb8b86e7",
   "metadata": {},
   "outputs": [
    {
     "data": {
      "text/plain": [
       "1"
      ]
     },
     "execution_count": 6,
     "metadata": {},
     "output_type": "execute_result"
    }
   ],
   "source": [
    "dof"
   ]
  },
  {
   "cell_type": "code",
   "execution_count": 7,
   "id": "181e94ee",
   "metadata": {},
   "outputs": [
    {
     "data": {
      "text/plain": [
       "array([[34.5, 34.5],\n",
       "       [15.5, 15.5]])"
      ]
     },
     "execution_count": 7,
     "metadata": {},
     "output_type": "execute_result"
    }
   ],
   "source": [
    "expected"
   ]
  },
  {
   "cell_type": "code",
   "execution_count": 8,
   "id": "c7ad02c2",
   "metadata": {},
   "outputs": [
    {
     "name": "stdout",
     "output_type": "stream",
     "text": [
      "rejected Null\n"
     ]
    }
   ],
   "source": [
    "a = 0.05\n",
    "if p_value < a:\n",
    "    print('rejected Null')\n",
    "else:\n",
    "    print('failed to reject Null')\n",
    "    \n",
    "#CodeUp student will be using Macbook"
   ]
  },
  {
   "cell_type": "markdown",
   "id": "94ffa5b4",
   "metadata": {},
   "source": [
    "This is now became True negative. We rejected Null and test shows the p_value is below alpha"
   ]
  },
  {
   "cell_type": "markdown",
   "id": "765163b3",
   "metadata": {},
   "source": [
    "Choose another 2 categorical variables from the mpg dataset and perform a chi2 contingency table test with them. Be sure to state your null and alternative hypotheses."
   ]
  },
  {
   "cell_type": "code",
   "execution_count": 9,
   "id": "2363ca77",
   "metadata": {},
   "outputs": [
    {
     "data": {
      "text/html": [
       "<div>\n",
       "<style scoped>\n",
       "    .dataframe tbody tr th:only-of-type {\n",
       "        vertical-align: middle;\n",
       "    }\n",
       "\n",
       "    .dataframe tbody tr th {\n",
       "        vertical-align: top;\n",
       "    }\n",
       "\n",
       "    .dataframe thead th {\n",
       "        text-align: right;\n",
       "    }\n",
       "</style>\n",
       "<table border=\"1\" class=\"dataframe\">\n",
       "  <thead>\n",
       "    <tr style=\"text-align: right;\">\n",
       "      <th></th>\n",
       "      <th>manufacturer</th>\n",
       "      <th>model</th>\n",
       "      <th>displ</th>\n",
       "      <th>year</th>\n",
       "      <th>cyl</th>\n",
       "      <th>trans</th>\n",
       "      <th>drv</th>\n",
       "      <th>cty</th>\n",
       "      <th>hwy</th>\n",
       "      <th>fl</th>\n",
       "      <th>class</th>\n",
       "    </tr>\n",
       "  </thead>\n",
       "  <tbody>\n",
       "    <tr>\n",
       "      <th>1</th>\n",
       "      <td>audi</td>\n",
       "      <td>a4</td>\n",
       "      <td>1.8</td>\n",
       "      <td>1999</td>\n",
       "      <td>4</td>\n",
       "      <td>auto(l5)</td>\n",
       "      <td>f</td>\n",
       "      <td>18</td>\n",
       "      <td>29</td>\n",
       "      <td>p</td>\n",
       "      <td>compact</td>\n",
       "    </tr>\n",
       "    <tr>\n",
       "      <th>2</th>\n",
       "      <td>audi</td>\n",
       "      <td>a4</td>\n",
       "      <td>1.8</td>\n",
       "      <td>1999</td>\n",
       "      <td>4</td>\n",
       "      <td>manual(m5)</td>\n",
       "      <td>f</td>\n",
       "      <td>21</td>\n",
       "      <td>29</td>\n",
       "      <td>p</td>\n",
       "      <td>compact</td>\n",
       "    </tr>\n",
       "    <tr>\n",
       "      <th>3</th>\n",
       "      <td>audi</td>\n",
       "      <td>a4</td>\n",
       "      <td>2.0</td>\n",
       "      <td>2008</td>\n",
       "      <td>4</td>\n",
       "      <td>manual(m6)</td>\n",
       "      <td>f</td>\n",
       "      <td>20</td>\n",
       "      <td>31</td>\n",
       "      <td>p</td>\n",
       "      <td>compact</td>\n",
       "    </tr>\n",
       "    <tr>\n",
       "      <th>4</th>\n",
       "      <td>audi</td>\n",
       "      <td>a4</td>\n",
       "      <td>2.0</td>\n",
       "      <td>2008</td>\n",
       "      <td>4</td>\n",
       "      <td>auto(av)</td>\n",
       "      <td>f</td>\n",
       "      <td>21</td>\n",
       "      <td>30</td>\n",
       "      <td>p</td>\n",
       "      <td>compact</td>\n",
       "    </tr>\n",
       "    <tr>\n",
       "      <th>5</th>\n",
       "      <td>audi</td>\n",
       "      <td>a4</td>\n",
       "      <td>2.8</td>\n",
       "      <td>1999</td>\n",
       "      <td>6</td>\n",
       "      <td>auto(l5)</td>\n",
       "      <td>f</td>\n",
       "      <td>16</td>\n",
       "      <td>26</td>\n",
       "      <td>p</td>\n",
       "      <td>compact</td>\n",
       "    </tr>\n",
       "    <tr>\n",
       "      <th>...</th>\n",
       "      <td>...</td>\n",
       "      <td>...</td>\n",
       "      <td>...</td>\n",
       "      <td>...</td>\n",
       "      <td>...</td>\n",
       "      <td>...</td>\n",
       "      <td>...</td>\n",
       "      <td>...</td>\n",
       "      <td>...</td>\n",
       "      <td>...</td>\n",
       "      <td>...</td>\n",
       "    </tr>\n",
       "    <tr>\n",
       "      <th>230</th>\n",
       "      <td>volkswagen</td>\n",
       "      <td>passat</td>\n",
       "      <td>2.0</td>\n",
       "      <td>2008</td>\n",
       "      <td>4</td>\n",
       "      <td>auto(s6)</td>\n",
       "      <td>f</td>\n",
       "      <td>19</td>\n",
       "      <td>28</td>\n",
       "      <td>p</td>\n",
       "      <td>midsize</td>\n",
       "    </tr>\n",
       "    <tr>\n",
       "      <th>231</th>\n",
       "      <td>volkswagen</td>\n",
       "      <td>passat</td>\n",
       "      <td>2.0</td>\n",
       "      <td>2008</td>\n",
       "      <td>4</td>\n",
       "      <td>manual(m6)</td>\n",
       "      <td>f</td>\n",
       "      <td>21</td>\n",
       "      <td>29</td>\n",
       "      <td>p</td>\n",
       "      <td>midsize</td>\n",
       "    </tr>\n",
       "    <tr>\n",
       "      <th>232</th>\n",
       "      <td>volkswagen</td>\n",
       "      <td>passat</td>\n",
       "      <td>2.8</td>\n",
       "      <td>1999</td>\n",
       "      <td>6</td>\n",
       "      <td>auto(l5)</td>\n",
       "      <td>f</td>\n",
       "      <td>16</td>\n",
       "      <td>26</td>\n",
       "      <td>p</td>\n",
       "      <td>midsize</td>\n",
       "    </tr>\n",
       "    <tr>\n",
       "      <th>233</th>\n",
       "      <td>volkswagen</td>\n",
       "      <td>passat</td>\n",
       "      <td>2.8</td>\n",
       "      <td>1999</td>\n",
       "      <td>6</td>\n",
       "      <td>manual(m5)</td>\n",
       "      <td>f</td>\n",
       "      <td>18</td>\n",
       "      <td>26</td>\n",
       "      <td>p</td>\n",
       "      <td>midsize</td>\n",
       "    </tr>\n",
       "    <tr>\n",
       "      <th>234</th>\n",
       "      <td>volkswagen</td>\n",
       "      <td>passat</td>\n",
       "      <td>3.6</td>\n",
       "      <td>2008</td>\n",
       "      <td>6</td>\n",
       "      <td>auto(s6)</td>\n",
       "      <td>f</td>\n",
       "      <td>17</td>\n",
       "      <td>26</td>\n",
       "      <td>p</td>\n",
       "      <td>midsize</td>\n",
       "    </tr>\n",
       "  </tbody>\n",
       "</table>\n",
       "<p>234 rows × 11 columns</p>\n",
       "</div>"
      ],
      "text/plain": [
       "    manufacturer   model  displ  year  cyl       trans drv  cty  hwy fl  \\\n",
       "1           audi      a4    1.8  1999    4    auto(l5)   f   18   29  p   \n",
       "2           audi      a4    1.8  1999    4  manual(m5)   f   21   29  p   \n",
       "3           audi      a4    2.0  2008    4  manual(m6)   f   20   31  p   \n",
       "4           audi      a4    2.0  2008    4    auto(av)   f   21   30  p   \n",
       "5           audi      a4    2.8  1999    6    auto(l5)   f   16   26  p   \n",
       "..           ...     ...    ...   ...  ...         ...  ..  ...  ... ..   \n",
       "230   volkswagen  passat    2.0  2008    4    auto(s6)   f   19   28  p   \n",
       "231   volkswagen  passat    2.0  2008    4  manual(m6)   f   21   29  p   \n",
       "232   volkswagen  passat    2.8  1999    6    auto(l5)   f   16   26  p   \n",
       "233   volkswagen  passat    2.8  1999    6  manual(m5)   f   18   26  p   \n",
       "234   volkswagen  passat    3.6  2008    6    auto(s6)   f   17   26  p   \n",
       "\n",
       "       class  \n",
       "1    compact  \n",
       "2    compact  \n",
       "3    compact  \n",
       "4    compact  \n",
       "5    compact  \n",
       "..       ...  \n",
       "230  midsize  \n",
       "231  midsize  \n",
       "232  midsize  \n",
       "233  midsize  \n",
       "234  midsize  \n",
       "\n",
       "[234 rows x 11 columns]"
      ]
     },
     "execution_count": 9,
     "metadata": {},
     "output_type": "execute_result"
    }
   ],
   "source": [
    "#import data from pydataset\n",
    "df = data('mpg')\n",
    "df"
   ]
  },
  {
   "cell_type": "code",
   "execution_count": 10,
   "id": "800e8c25",
   "metadata": {},
   "outputs": [
    {
     "name": "stdout",
     "output_type": "stream",
     "text": [
      "<class 'pandas.core.frame.DataFrame'>\n",
      "Int64Index: 234 entries, 1 to 234\n",
      "Data columns (total 11 columns):\n",
      " #   Column        Non-Null Count  Dtype  \n",
      "---  ------        --------------  -----  \n",
      " 0   manufacturer  234 non-null    object \n",
      " 1   model         234 non-null    object \n",
      " 2   displ         234 non-null    float64\n",
      " 3   year          234 non-null    int64  \n",
      " 4   cyl           234 non-null    int64  \n",
      " 5   trans         234 non-null    object \n",
      " 6   drv           234 non-null    object \n",
      " 7   cty           234 non-null    int64  \n",
      " 8   hwy           234 non-null    int64  \n",
      " 9   fl            234 non-null    object \n",
      " 10  class         234 non-null    object \n",
      "dtypes: float64(1), int64(4), object(6)\n",
      "memory usage: 21.9+ KB\n"
     ]
    }
   ],
   "source": [
    "#look at info\n",
    "df.info()"
   ]
  },
  {
   "cell_type": "code",
   "execution_count": 11,
   "id": "0d68df3e",
   "metadata": {},
   "outputs": [
    {
     "data": {
      "text/plain": [
       "manufacturer    15\n",
       "model           38\n",
       "displ           35\n",
       "year             2\n",
       "cyl              4\n",
       "trans           10\n",
       "drv              3\n",
       "cty             21\n",
       "hwy             27\n",
       "fl               5\n",
       "class            7\n",
       "dtype: int64"
      ]
     },
     "execution_count": 11,
     "metadata": {},
     "output_type": "execute_result"
    }
   ],
   "source": [
    "#use .nunique to see which columns have categorical variables\n",
    "df.nunique()"
   ]
  },
  {
   "cell_type": "code",
   "execution_count": 12,
   "id": "7cd98a64",
   "metadata": {},
   "outputs": [
    {
     "data": {
      "text/plain": [
       "1999    117\n",
       "2008    117\n",
       "Name: year, dtype: int64"
      ]
     },
     "execution_count": 12,
     "metadata": {},
     "output_type": "execute_result"
    }
   ],
   "source": [
    "#look at year data\n",
    "df.year.value_counts()"
   ]
  },
  {
   "cell_type": "code",
   "execution_count": 13,
   "id": "61936bc1",
   "metadata": {},
   "outputs": [
    {
     "data": {
      "text/plain": [
       "4    81\n",
       "6    79\n",
       "8    70\n",
       "5     4\n",
       "Name: cyl, dtype: int64"
      ]
     },
     "execution_count": 13,
     "metadata": {},
     "output_type": "execute_result"
    }
   ],
   "source": [
    "#look at cyl data\n",
    "df.cyl.value_counts()"
   ]
  },
  {
   "cell_type": "code",
   "execution_count": 14,
   "id": "77231667",
   "metadata": {},
   "outputs": [
    {
     "data": {
      "text/html": [
       "<div>\n",
       "<style scoped>\n",
       "    .dataframe tbody tr th:only-of-type {\n",
       "        vertical-align: middle;\n",
       "    }\n",
       "\n",
       "    .dataframe tbody tr th {\n",
       "        vertical-align: top;\n",
       "    }\n",
       "\n",
       "    .dataframe thead th {\n",
       "        text-align: right;\n",
       "    }\n",
       "</style>\n",
       "<table border=\"1\" class=\"dataframe\">\n",
       "  <thead>\n",
       "    <tr style=\"text-align: right;\">\n",
       "      <th>cyl</th>\n",
       "      <th>4</th>\n",
       "      <th>5</th>\n",
       "      <th>6</th>\n",
       "      <th>8</th>\n",
       "    </tr>\n",
       "    <tr>\n",
       "      <th>year</th>\n",
       "      <th></th>\n",
       "      <th></th>\n",
       "      <th></th>\n",
       "      <th></th>\n",
       "    </tr>\n",
       "  </thead>\n",
       "  <tbody>\n",
       "    <tr>\n",
       "      <th>1999</th>\n",
       "      <td>45</td>\n",
       "      <td>0</td>\n",
       "      <td>45</td>\n",
       "      <td>27</td>\n",
       "    </tr>\n",
       "    <tr>\n",
       "      <th>2008</th>\n",
       "      <td>36</td>\n",
       "      <td>4</td>\n",
       "      <td>34</td>\n",
       "      <td>43</td>\n",
       "    </tr>\n",
       "  </tbody>\n",
       "</table>\n",
       "</div>"
      ],
      "text/plain": [
       "cyl    4  5   6   8\n",
       "year               \n",
       "1999  45  0  45  27\n",
       "2008  36  4  34  43"
      ]
     },
     "execution_count": 14,
     "metadata": {},
     "output_type": "execute_result"
    }
   ],
   "source": [
    "observed = pd.crosstab(df.year, df.cyl)\n",
    "observed"
   ]
  },
  {
   "cell_type": "markdown",
   "id": "af1b97a6",
   "metadata": {},
   "source": [
    "CALCULATE chi2 AND P-value"
   ]
  },
  {
   "cell_type": "code",
   "execution_count": 15,
   "id": "686189ec",
   "metadata": {},
   "outputs": [],
   "source": [
    "chi2, p, degf, expected = stats.chi2_contingency(observed)"
   ]
  },
  {
   "cell_type": "code",
   "execution_count": 16,
   "id": "d7796acc",
   "metadata": {},
   "outputs": [
    {
     "name": "stdout",
     "output_type": "stream",
     "text": [
      "Observed\n",
      "[[45  0 45 27]\n",
      " [36  4 34 43]]\n",
      "\n",
      "Expected\n",
      "[[40  2 39 35]\n",
      " [40  2 39 35]]\n",
      "\n",
      "----\n",
      "chi^2 = 10.1888\n",
      "p     = 0.0170\n"
     ]
    }
   ],
   "source": [
    "#output values\n",
    "print('Observed')\n",
    "print(observed.values)\n",
    "print('\\nExpected')\n",
    "print(expected.astype(int))\n",
    "print('\\n----')\n",
    "print(f'chi^2 = {chi2:.4f}')\n",
    "print(f'p     = {p:.4f}')"
   ]
  },
  {
   "cell_type": "markdown",
   "id": "e3dc7c46",
   "metadata": {},
   "source": [
    "CONCLUDE"
   ]
  },
  {
   "cell_type": "code",
   "execution_count": 17,
   "id": "201a4815",
   "metadata": {},
   "outputs": [
    {
     "ename": "NameError",
     "evalue": "name 'alpha' is not defined",
     "output_type": "error",
     "traceback": [
      "\u001b[0;31m---------------------------------------------------------------------------\u001b[0m",
      "\u001b[0;31mNameError\u001b[0m                                 Traceback (most recent call last)",
      "Cell \u001b[0;32mIn[17], line 1\u001b[0m\n\u001b[0;32m----> 1\u001b[0m \u001b[38;5;28;01mif\u001b[39;00m p \u001b[38;5;241m<\u001b[39m \u001b[43malpha\u001b[49m:\n\u001b[1;32m      2\u001b[0m     \u001b[38;5;28mprint\u001b[39m(\u001b[38;5;124m'\u001b[39m\u001b[38;5;124mWe reject the null hypothesis\u001b[39m\u001b[38;5;124m'\u001b[39m)\n\u001b[1;32m      3\u001b[0m \u001b[38;5;28;01melse\u001b[39;00m:\n",
      "\u001b[0;31mNameError\u001b[0m: name 'alpha' is not defined"
     ]
    }
   ],
   "source": [
    "if p < alpha:\n",
    "    print('We reject the null hypothesis')\n",
    "else:\n",
    "    print('We fail to reject the null hypothesis')"
   ]
  },
  {
   "cell_type": "markdown",
   "id": "f5dd9922",
   "metadata": {},
   "source": [
    "Use the data from the employees database to answer these questions:"
   ]
  },
  {
   "cell_type": "code",
   "execution_count": null,
   "id": "ca5f786b",
   "metadata": {},
   "outputs": [],
   "source": [
    "from env import get_connection\n",
    "from sqlalchemy import create_engine, text"
   ]
  },
  {
   "cell_type": "code",
   "execution_count": null,
   "id": "57e889aa",
   "metadata": {},
   "outputs": [],
   "source": [
    "def get_db_url(database):\n",
    "    return get_connection(database)"
   ]
  },
  {
   "cell_type": "code",
   "execution_count": null,
   "id": "c8899b5a",
   "metadata": {},
   "outputs": [],
   "source": [
    "#set sql query and read in data\n",
    "url = get_db_url('employees')\n",
    "query = text(\"select emp_no, gender, dept_name from employees join dept_emp using (emp_no) join departments using (dept_no) where to_date = '9999-01-01' and dept_name in ('Marketing','Sales')\")\n",
    "engine = create_engine(url)\n",
    "df = pd.read_sql(query, engine.connect())\n",
    "df"
   ]
  },
  {
   "cell_type": "code",
   "execution_count": null,
   "id": "8ffe6690",
   "metadata": {},
   "outputs": [],
   "source": [
    "#view gender data\n",
    "df.gender.value_counts()"
   ]
  },
  {
   "cell_type": "code",
   "execution_count": null,
   "id": "8a470b09",
   "metadata": {},
   "outputs": [],
   "source": [
    "#view dept_name data\n",
    "df.dept_name.value_counts()"
   ]
  },
  {
   "cell_type": "code",
   "execution_count": null,
   "id": "6c3d80c1",
   "metadata": {},
   "outputs": [],
   "source": [
    "#create contigency table\n",
    "observed = pd.crosstab(df.gender, df.dept_name)\n",
    "observed"
   ]
  },
  {
   "cell_type": "code",
   "execution_count": null,
   "id": "a5dc5ad3",
   "metadata": {},
   "outputs": [],
   "source": [
    "#calculate chi2 and p-value\n",
    "chi2, p, degf, expected = stats.chi2_contingency(observed)"
   ]
  },
  {
   "cell_type": "code",
   "execution_count": null,
   "id": "15337ac2",
   "metadata": {},
   "outputs": [],
   "source": [
    "#output values\n",
    "print('Observed')\n",
    "print(observed.values)\n",
    "print('\\nExpected')\n",
    "print(expected.astype(int))\n",
    "print('\\n----')\n",
    "print(f'chi^2 = {chi2:.4f}')\n",
    "print(f'p     = {p:.4f}')"
   ]
  },
  {
   "cell_type": "code",
   "execution_count": null,
   "id": "1d68e6c1",
   "metadata": {},
   "outputs": [],
   "source": [
    "#conclude\n",
    "if p < alpha:\n",
    "    print('We reject the null hypothesis')\n",
    "else:\n",
    "    print('We fail to reject the null hypothesis')"
   ]
  },
  {
   "cell_type": "markdown",
   "id": "7605a4a1",
   "metadata": {},
   "source": [
    "Is an employee's gender independent of whether or not they are or have been a manager?"
   ]
  },
  {
   "cell_type": "code",
   "execution_count": null,
   "id": "948b6929",
   "metadata": {},
   "outputs": [],
   "source": [
    "#set sql query and read in data\n",
    "url = get_db_url('employees')\n",
    "query = text(\"SELECT emp_no, gender, dept_no FROM employees LEFT JOIN dept_manager USING (emp_no)\")\n",
    "engine = create_engine(url)\n",
    "df = pd.read_sql(query, engine.connect())\n",
    "df"
   ]
  },
  {
   "cell_type": "code",
   "execution_count": null,
   "id": "23880e70",
   "metadata": {},
   "outputs": [],
   "source": [
    "#look at data\n",
    "df.info()"
   ]
  },
  {
   "cell_type": "code",
   "execution_count": null,
   "id": "ed7413bb",
   "metadata": {},
   "outputs": [],
   "source": [
    "#look at dept_no data\n",
    "df.dept_no.value_counts(dropna=False)"
   ]
  },
  {
   "cell_type": "code",
   "execution_count": null,
   "id": "5ae2128e",
   "metadata": {},
   "outputs": [],
   "source": [
    "#fill in nulls\n",
    "df.dept_no = df.dept_no.fillna('not manager')"
   ]
  },
  {
   "cell_type": "code",
   "execution_count": null,
   "id": "f2f7ca50",
   "metadata": {},
   "outputs": [],
   "source": [
    "df.dept_no.value_counts()"
   ]
  },
  {
   "cell_type": "code",
   "execution_count": null,
   "id": "936ba228",
   "metadata": {},
   "outputs": [],
   "source": [
    "#make new column using np.where\n",
    "# np.where( condtion, this happens when true, this happens when false)\n",
    "df.dept_no = np.where( df.dept_no != 'not manager', 'manager', 'not manager')"
   ]
  },
  {
   "cell_type": "code",
   "execution_count": null,
   "id": "09e21012",
   "metadata": {},
   "outputs": [],
   "source": [
    "df.dept_no.value_counts()"
   ]
  },
  {
   "cell_type": "code",
   "execution_count": null,
   "id": "d4198068",
   "metadata": {},
   "outputs": [],
   "source": [
    "#create contigency table\n",
    "observed = pd.crosstab(df.gender, df.dept_no)\n",
    "observed"
   ]
  },
  {
   "cell_type": "code",
   "execution_count": null,
   "id": "483d9c56",
   "metadata": {},
   "outputs": [],
   "source": [
    "#calculate chi2 and p-value\n",
    "chi2, p, degf, expected = stats.chi2_contingency(observed)"
   ]
  },
  {
   "cell_type": "code",
   "execution_count": null,
   "id": "35747016",
   "metadata": {},
   "outputs": [],
   "source": [
    "#output values\n",
    "print('Observed')\n",
    "print(observed.values)\n",
    "print('\\nExpected')\n",
    "print(expected.astype(int))\n",
    "print('\\n----')\n",
    "print(f'chi^2 = {chi2:.4f}')\n",
    "print(f'p     = {p:.4f}')"
   ]
  },
  {
   "cell_type": "code",
   "execution_count": null,
   "id": "468b894b",
   "metadata": {},
   "outputs": [],
   "source": [
    "#conclude\n",
    "if p < alpha:\n",
    "    print('We reject the null hypothesis')\n",
    "else:\n",
    "    print(\"we fail to reject the null hypothesis\")"
   ]
  },
  {
   "cell_type": "code",
   "execution_count": null,
   "id": "398e79b4",
   "metadata": {},
   "outputs": [],
   "source": []
  },
  {
   "cell_type": "code",
   "execution_count": null,
   "id": "b5d2977e",
   "metadata": {},
   "outputs": [],
   "source": []
  },
  {
   "cell_type": "code",
   "execution_count": null,
   "id": "1b61013f",
   "metadata": {},
   "outputs": [],
   "source": []
  },
  {
   "cell_type": "markdown",
   "id": "9eb5d8e1",
   "metadata": {},
   "source": [
    "BONUS!!"
   ]
  },
  {
   "cell_type": "code",
   "execution_count": null,
   "id": "33f7f2dd",
   "metadata": {},
   "outputs": [],
   "source": [
    "mpg = data('mpg')\n",
    "mpg['transmission'] = mpg.trans.str[:-4] \n",
    "mpg.head()"
   ]
  },
  {
   "cell_type": "markdown",
   "id": "88b522eb",
   "metadata": {},
   "source": [
    "We will calculate the values we would expect to see if the two groups are independent.\n",
    "For each subgroup, we calculate the proportion of the total that it is, then multiply each subgroup's proportion by the proportion from every other subgroup to determine the expected values"
   ]
  },
  {
   "cell_type": "code",
   "execution_count": null,
   "id": "d88650a0",
   "metadata": {},
   "outputs": [],
   "source": [
    "n = mpg.shape[0]\n",
    "transmission_proportions = mpg.transmission.value_counts()/n\n",
    "transmission_proportions"
   ]
  },
  {
   "cell_type": "code",
   "execution_count": null,
   "id": "8ce84073",
   "metadata": {},
   "outputs": [],
   "source": [
    "drive_proportions = mpg.drv.value_counts()/n\n",
    "drive_proportions"
   ]
  },
  {
   "cell_type": "code",
   "execution_count": null,
   "id": "6ded9f1f",
   "metadata": {},
   "outputs": [],
   "source": [
    "expected = pd.DataFrame()\n",
    "for transmission_group, t_prop in transmission_proportions.items():\n",
    "    for drive_group, d_prop in drive_proportions.items():\n",
    "        expected.loc[drive_group, transmission_group] = t_prop * d_prop\n",
    "        \n",
    "expected.sort_index(inplace=True)\n",
    "expected"
   ]
  },
  {
   "cell_type": "code",
   "execution_count": null,
   "id": "ff8bd321",
   "metadata": {},
   "outputs": [],
   "source": [
    "expected *= n\n",
    "expected\n"
   ]
  },
  {
   "cell_type": "code",
   "execution_count": null,
   "id": "808fda74",
   "metadata": {},
   "outputs": [],
   "source": [
    "observed = pd.crosstab(mpg.drv, mpg.transmission)\n",
    "observed"
   ]
  },
  {
   "cell_type": "code",
   "execution_count": null,
   "id": "1697e994",
   "metadata": {},
   "outputs": [],
   "source": [
    "chi2 = ((observed - expected)**2 / expected).values.sum()\n",
    "chi2"
   ]
  },
  {
   "cell_type": "code",
   "execution_count": null,
   "id": "d15ebfd0",
   "metadata": {},
   "outputs": [],
   "source": [
    "nrows, ncols = observed.shape\n",
    "dof= (nrows - 1) * (ncols - 1)"
   ]
  },
  {
   "cell_type": "code",
   "execution_count": null,
   "id": "02d759bf",
   "metadata": {},
   "outputs": [],
   "source": [
    "stats.chi2(dof).sf(chi2)"
   ]
  },
  {
   "cell_type": "code",
   "execution_count": null,
   "id": "5f85c093",
   "metadata": {},
   "outputs": [],
   "source": []
  },
  {
   "cell_type": "code",
   "execution_count": null,
   "id": "ab7a2fd8",
   "metadata": {},
   "outputs": [],
   "source": []
  },
  {
   "cell_type": "code",
   "execution_count": null,
   "id": "e30add74",
   "metadata": {},
   "outputs": [],
   "source": []
  },
  {
   "cell_type": "code",
   "execution_count": null,
   "id": "6fe10b5e",
   "metadata": {},
   "outputs": [],
   "source": []
  },
  {
   "cell_type": "markdown",
   "id": "65e75844",
   "metadata": {},
   "source": [
    "Continue working in your hypothesis_testing notebook.\n",
    "\n",
    "Answer with the type of stats test you would use (assume normal distribution):\n"
   ]
  },
  {
   "cell_type": "markdown",
   "id": "c8313812",
   "metadata": {},
   "source": [
    "Is there a relationship between the length of your arm and the length of your foot?\n",
    "\n",
    "#I would use the Pearson correlation coefficient due to having continuous variables"
   ]
  },
  {
   "cell_type": "markdown",
   "id": "ef7ef6a0",
   "metadata": {},
   "source": [
    "Does smoking affect when or not someone has lung cancer?\n",
    "\n",
    "#smoking and has lung cancer or not are categorical variable and we can use the Chi-Square Test of independence to see if smoking group is independent of the lung cancer group.\n"
   ]
  },
  {
   "cell_type": "markdown",
   "id": "46ab42e8",
   "metadata": {},
   "source": [
    "Is gender independent of a person’s blood type?\n",
    "\n",
    "\n",
    "#chi2 test of independent can provide a value for two categorical value to see if a person's gender is independent of a person's blood type"
   ]
  },
  {
   "cell_type": "markdown",
   "id": "7096515f",
   "metadata": {},
   "source": [
    "Does whether or not a person has a cat or dog affect whether they live in an apartment?\n",
    "\n",
    "#again with these two categorical value, I will be using chi square test of independent"
   ]
  },
  {
   "cell_type": "markdown",
   "id": "b6453e12",
   "metadata": {},
   "source": [
    "Does the length of time of the lecture correlate with a student's grade?\n",
    "\n",
    "\n",
    "#The length of time of lecture as well as student's grade are two continuous numerical value and we can use the pearsoncorrelation coefficient test to determine if these two groups have any relationship to each other. \n"
   ]
  },
  {
   "cell_type": "code",
   "execution_count": null,
   "id": "c7cdd442",
   "metadata": {},
   "outputs": [],
   "source": [
    "from env import get_connection\n",
    "import pandas as pd\n",
    "from scipy import stats\n",
    "import numpy as np\n",
    "import matplotlib.pyplot as plt\n",
    "import seaborn as sns\n",
    "from sqlalchemy import text, create_engine"
   ]
  },
  {
   "cell_type": "markdown",
   "id": "523e56bb",
   "metadata": {},
   "source": [
    "Use the telco_churn data\n",
    "\n",
    "Does tenure correlate with monthly charges?\n",
    "\n",
    "Does tenure correlate with total charges?\n",
    "\n",
    "What happens fi you control for phone and internet service?"
   ]
  },
  {
   "cell_type": "code",
   "execution_count": null,
   "id": "0ea870e7",
   "metadata": {},
   "outputs": [],
   "source": [
    "def get_db_url(database):\n",
    "    return get_connection(database)\n",
    "url = get_db_url('telco_churn')\n",
    "query = ('SELECT * FROM customers')\n",
    "engine = create_engine(url)"
   ]
  },
  {
   "cell_type": "code",
   "execution_count": null,
   "id": "848d4abd",
   "metadata": {},
   "outputs": [],
   "source": [
    "df = pd.read_sql(query, engine.connect())\n",
    "df"
   ]
  },
  {
   "cell_type": "markdown",
   "id": "ef4ea7c3",
   "metadata": {},
   "source": [
    "Does tenure correlate with montly charges?\n",
    "\n",
    "Hypothesis:\n",
    "\n",
    "Null: There is no linear correlation between tenure and monthly charges\n",
    "\n",
    "Alerternative: there is a linear correlation between tenure and monthly charges"
   ]
  },
  {
   "cell_type": "code",
   "execution_count": null,
   "id": "ac8a5f57",
   "metadata": {},
   "outputs": [],
   "source": [
    "#select the data\n",
    "charges_df = df[['monthly_charges', 'tenure']]\n",
    "\n",
    "#plot the data\n",
    "sns.regplot(x = 'tenure', y= 'monthly_charges', data = charges_df, marker='.')"
   ]
  },
  {
   "cell_type": "code",
   "execution_count": null,
   "id": "28915359",
   "metadata": {},
   "outputs": [],
   "source": [
    "#distributinos of the data to check for normalcy\n",
    "charges_df.monthly_charges.hist()\n",
    "charges_df.tenure.hist()\n"
   ]
  },
  {
   "cell_type": "code",
   "execution_count": null,
   "id": "98317143",
   "metadata": {},
   "outputs": [],
   "source": [
    "alpha = 0.05\n",
    "r, p = stats.pearsonr(charges_df.tenure, charges_df.monthly_charges)\n",
    "\n",
    "def eval_result(alpha, p):\n",
    "    if p < alpha:\n",
    "        return print(f'Reject the null hypothesis. There is a linear correlation')\n",
    "    else: \n",
    "        return print(f'We fail to reject the null hypothesis. No correlation')"
   ]
  },
  {
   "cell_type": "code",
   "execution_count": null,
   "id": "015061c1",
   "metadata": {},
   "outputs": [],
   "source": [
    "eval_result(alpha, p)\n",
    "r"
   ]
  },
  {
   "cell_type": "markdown",
   "id": "3a5caee7",
   "metadata": {},
   "source": [
    "### There is a correlation between monthly charges and tenure. With an r of .24, we can say the correlation is \"weak-moderate\""
   ]
  },
  {
   "cell_type": "markdown",
   "id": "0c547f23",
   "metadata": {},
   "source": [
    "Does tenure correlate with total charges?\n",
    "\n",
    "Null: There is no linear correlation between tenure and total charges.\n",
    "\n",
    "Alternative: There is a linear correlation between tenure and total charges"
   ]
  },
  {
   "cell_type": "code",
   "execution_count": null,
   "id": "d815347a",
   "metadata": {},
   "outputs": [],
   "source": [
    "alpha = 0.05\n",
    "\n",
    "#select the data\n",
    "ttl_charges_df = df[['tenure', 'total_charges']]\n",
    "\n",
    "# look at a summary of the dataframe\n",
    "#ttl_charges_df.info()\n",
    "\n",
    "#try to find the data errors\n",
    "ttl_charges_df.total_charges.sort_values()\n",
    "\n",
    "#convert the empty space to '0'\n",
    "ttl_charges_df['total_charges']= ttl_charges_df['total_charges'].str.replace(' ', '0').astype('float')\n",
    "\n",
    "#confirm our datatypes\n",
    "ttl_charges_df.info()\n"
   ]
  },
  {
   "cell_type": "code",
   "execution_count": null,
   "id": "07880ccf",
   "metadata": {},
   "outputs": [],
   "source": [
    "# plot the data\n",
    "sns.regplot(x = 'tenure', y='total_charges', data = ttl_charges_df, marker='.', line_kws={'color': 'rebeccapurple'})\n",
    "plt.show()"
   ]
  },
  {
   "cell_type": "code",
   "execution_count": null,
   "id": "075def90",
   "metadata": {},
   "outputs": [],
   "source": [
    "# check assumptions\n",
    "ttl_charges_df.total_charges.hist()\n",
    "plt.show()\n",
    "ttl_charges_df.tenure.hist()\n",
    "plt.show()"
   ]
  },
  {
   "cell_type": "code",
   "execution_count": null,
   "id": "41dda4c8",
   "metadata": {},
   "outputs": [],
   "source": [
    "# run our test\n",
    "r, p = stats.pearsonr(ttl_charges_df.tenure, ttl_charges_df.total_charges)\n",
    "\n",
    "eval_result(alpha, p)\n",
    "\n",
    "r"
   ]
  },
  {
   "cell_type": "code",
   "execution_count": null,
   "id": "15f87f83",
   "metadata": {},
   "outputs": [],
   "source": [
    "###There is a linear correlation between tenure and total charges.\n",
    "\n",
    "###With an r of .83, the correlation is strong"
   ]
  },
  {
   "cell_type": "markdown",
   "id": "8d52f18c",
   "metadata": {},
   "source": [
    "What happens if you control for phone and internet service?\n",
    "\n",
    "Null: There is no linear correlation between tenure and monthly charges.\n",
    "    \n",
    "Alternative: There is linear correlation between tenure and monthly charges"
   ]
  },
  {
   "cell_type": "code",
   "execution_count": null,
   "id": "a700c158",
   "metadata": {},
   "outputs": [],
   "source": [
    "#set alpha \n",
    "alpha = 0.05\n",
    "\n",
    "#select the data\n",
    "phone_df = df[(df.phone_service == 'Yes') & (df.internet_service_type_id == 1)][['tenure', 'monthly_charges']]\n",
    "\n",
    "#look at the info\n",
    "phone_df.info\n",
    "\n",
    "# plot the data\n",
    "sns.regplot(x='tenure', y='monthly_charges', data=phone_df, marker='.', \n",
    "            line_kws=({'color': 'rebeccapurple'}))\n",
    "plt.show()\n",
    "\n",
    "#check for normal distribution\n",
    "phone_df.tenure.hist()\n",
    "plt.show()\n",
    "\n",
    "phone_df.monthly_charges.hist()\n",
    "plt.show()"
   ]
  },
  {
   "cell_type": "code",
   "execution_count": null,
   "id": "f53e6a04",
   "metadata": {},
   "outputs": [],
   "source": [
    "r, p = stats.pearsonr(phone_df.tenure, phone_df.monthly_charges)\n",
    "\n",
    "eval_result(alpha, p)\n",
    "\n",
    "print(f'r value = {r}')"
   ]
  },
  {
   "cell_type": "markdown",
   "id": "f49db408",
   "metadata": {},
   "source": [
    "There is a moderate-strong correlation betwen tenure and monthly charges for customers who have only phone service."
   ]
  },
  {
   "cell_type": "markdown",
   "id": "0d0d356c",
   "metadata": {},
   "source": [
    "3. Use the employees database.\n",
    "\n",
    "Is there a relationship between how long an employee has been with the company and their salary?\n",
    "\n",
    "Is there a relationship between how long an employee has been with the company and the number of titles they have had?"
   ]
  },
  {
   "cell_type": "code",
   "execution_count": null,
   "id": "cc88ca09",
   "metadata": {},
   "outputs": [],
   "source": [
    "url = get_db_url('employees')\n",
    "\n",
    "query = (\"SELECT * FROM employees JOIN salaries USING (emp_no)WHERE to_date = '9999-01-01';\")\n",
    "engine = create_engine(url)\n",
    "df = pd.read_sql(query,engine.connect())\n",
    "df.info()\n",
    "df.head()"
   ]
  },
  {
   "cell_type": "markdown",
   "id": "3cb29aae",
   "metadata": {},
   "source": [
    "Is there a relationship between an employee's tenure and their salary?\n",
    "\n",
    "Null: There is no linear correlation between employee tenure and salary\n",
    "\n",
    "Alternative: There is a linear correlation between employee tenure and salary"
   ]
  },
  {
   "cell_type": "code",
   "execution_count": null,
   "id": "cc56de4f",
   "metadata": {},
   "outputs": [],
   "source": [
    "alpha = 0.05\n",
    "\n",
    "# select our data, calculate tenure\n",
    "df['tenure'] = pd.to_datetime(\"today\") - pd.to_datetime(df.hire_date) # ddddd hh:mm:ss\n",
    "\n",
    "df['tenure'] = df.tenure.astype('str').str.split(' ', expand=True)[0].astype('int')\n",
    "\n",
    "# df.info()\n",
    "tenure_df = df[['tenure', 'salary']]\n",
    "\n",
    "# plot the data\n",
    "sns.regplot(x='tenure', y='salary', data=tenure_df, marker='.',  line_kws=({'color': 'firebrick'}))\n",
    "#plt.axhline(y=np.nanmean(df.y))\n"
   ]
  },
  {
   "cell_type": "code",
   "execution_count": null,
   "id": "206136d9",
   "metadata": {},
   "outputs": [],
   "source": [
    "#look at the distribution, look for normality\n",
    "tenure_df.tenure.hist()\n",
    "plt.title('tenure')\n",
    "plt.show()\n",
    "tenure_df.salary.hist()\n",
    "plt.title('salary')\n",
    "plt.show()"
   ]
  },
  {
   "cell_type": "code",
   "execution_count": null,
   "id": "27aa427a",
   "metadata": {},
   "outputs": [],
   "source": [
    "# run the test\n",
    "r, p = stats.pearsonr(tenure_df.tenure, tenure_df.salary)\n",
    "\n",
    "# evaluate results\n",
    "eval_result(alpha, p)\n",
    "\n",
    "print('r value: ', r)"
   ]
  },
  {
   "cell_type": "markdown",
   "id": "86724bb4",
   "metadata": {},
   "source": [
    "**Takeaways**\n",
    "There is a moderate correlation between tenure and salary."
   ]
  },
  {
   "cell_type": "markdown",
   "id": "341a5a55",
   "metadata": {},
   "source": [
    "Is there a relationship between employee tenure and the number of titles they have had?\n",
    "\n",
    "Hypothesis:\n",
    "\n",
    "Null : there is no linear correlation between tenure and number of titles.\n",
    "\n",
    "Alternative : there is a linear correalation between tenure and number of titles."
   ]
  },
  {
   "cell_type": "code",
   "execution_count": null,
   "id": "f1efd000",
   "metadata": {},
   "outputs": [],
   "source": [
    "alpha = 0.05\n",
    "\n",
    "# select the data\n",
    "url = get_db_url('employees')\n",
    "\n",
    "query = text(\"SELECT t.emp_no, COUNT(t.title) AS num_titles, te.tenure FROM titles t JOIN (select emp_no, datediff(now(), min(from_date)) AS tenure FROM titles GROUP BY emp_no HAVING max(to_date) = '9999-01-01') te USING (emp_no) GROUP BY t.emp_no;\")\n",
    "engine = create_engine(url)\n",
    "df = pd.read_sql(query, engine.connect())\n",
    "\n",
    "df.head()"
   ]
  },
  {
   "cell_type": "code",
   "execution_count": null,
   "id": "3636bf7e",
   "metadata": {},
   "outputs": [],
   "source": [
    "df = df[['num_titles', 'tenure']]\n",
    "\n",
    "# plot the data\n",
    "sns.regplot(x='tenure', y='num_titles', data=df, marker='.', line_kws=({'color': 'seagreen'}))"
   ]
  },
  {
   "cell_type": "code",
   "execution_count": null,
   "id": "0a76b96e",
   "metadata": {},
   "outputs": [],
   "source": [
    "# observatations:\n",
    "df.num_titles.value_counts()"
   ]
  },
  {
   "cell_type": "code",
   "execution_count": null,
   "id": "5303a6e6",
   "metadata": {},
   "outputs": [],
   "source": [
    "r, p = stats.pearsonr(df.tenure, df.num_titles)\n",
    "\n",
    "if p < alpha:\n",
    "    print(\"We reject the null hypothesis\")\n",
    "    print(\"Evidence supports the claim that there is a linear correlation between tenure and number of titles\")\n",
    "else:\n",
    "    print(\"We fail to reject the null hypothesis\")\n",
    "\n",
    "r, p"
   ]
  },
  {
   "cell_type": "markdown",
   "id": "4cd86a22",
   "metadata": {},
   "source": [
    "Takeaways\n",
    "\n",
    "There is a difference in tenure and number of titles an employee has held."
   ]
  },
  {
   "cell_type": "markdown",
   "id": "1cbbed86",
   "metadata": {},
   "source": [
    "\n",
    "4. Use the sleepstudy data\n",
    "\n",
    "A. Is there a relationship between days and reaction time?"
   ]
  },
  {
   "cell_type": "code",
   "execution_count": null,
   "id": "401d9b07",
   "metadata": {},
   "outputs": [],
   "source": [
    "from pydataset import data\n",
    "df = data('sleepstudy')\n",
    "df.info()\n",
    "df.head()"
   ]
  },
  {
   "cell_type": "code",
   "execution_count": null,
   "id": "160f7fd5",
   "metadata": {},
   "outputs": [],
   "source": [
    "Null: There is no linear correlation between days and reaction time\n",
    "    \n",
    "Alternative: There is alinear correlation between days and reaction time"
   ]
  },
  {
   "cell_type": "code",
   "execution_count": null,
   "id": "8611fb44",
   "metadata": {},
   "outputs": [],
   "source": [
    "alpha = 0.05\n",
    "\n",
    "# select the data\n",
    "df = df[['Reaction', 'Days']]\n",
    "\n",
    "# plot the data\n",
    "sns.regplot(x='Days', y='Reaction', data=df, marker='.', line_kws=({'color':'seagreen'}))"
   ]
  },
  {
   "cell_type": "code",
   "execution_count": null,
   "id": "f698f650",
   "metadata": {},
   "outputs": [],
   "source": [
    "# check for normal distribution, plot histograms\n",
    "df.Days.hist()\n",
    "plt.show()\n",
    "\n",
    "df.Reaction.hist()\n",
    "plt.show()"
   ]
  },
  {
   "cell_type": "code",
   "execution_count": null,
   "id": "269848eb",
   "metadata": {},
   "outputs": [],
   "source": [
    "# run the spearman test\n",
    "r, p = stats.spearmanr(df.Days, df.Reaction)\n",
    "eval_result(alpha, p)\n",
    "print('r value: ', r)"
   ]
  },
  {
   "cell_type": "code",
   "execution_count": null,
   "id": "64806f1a",
   "metadata": {},
   "outputs": [],
   "source": []
  },
  {
   "cell_type": "code",
   "execution_count": null,
   "id": "e5985c70",
   "metadata": {},
   "outputs": [],
   "source": []
  },
  {
   "cell_type": "code",
   "execution_count": null,
   "id": "53865c44",
   "metadata": {},
   "outputs": [],
   "source": []
  },
  {
   "cell_type": "code",
   "execution_count": null,
   "id": "bb37aa10",
   "metadata": {},
   "outputs": [],
   "source": []
  },
  {
   "cell_type": "code",
   "execution_count": null,
   "id": "8972cc2a",
   "metadata": {},
   "outputs": [],
   "source": []
  },
  {
   "cell_type": "code",
   "execution_count": null,
   "id": "99a94fa6",
   "metadata": {},
   "outputs": [],
   "source": []
  },
  {
   "cell_type": "markdown",
   "id": "9f84e2e8",
   "metadata": {},
   "source": [
    "COMPARISON EXERCISE!!\n",
    "Answer with the type of test you would use (assume normal distribution):\n",
    "\n",
    "Is there a difference in grades of students on the second floor compared to grades of all students?\n",
    "###Two sample t-test and compare the means of grade of students on the second floor vs grades of all students\n",
    "\n",
    "\n",
    "Are adults who drink milk taller than adults who don't drink milk?### two-sample t-test to compare heights of adults who drink milk vs heights of adult who don't drink milk\n",
    "\n",
    "\n",
    "Is the price of gas higher in Texas or in New Mexico?\n",
    "###independent samples t-test to compare the means of gas prices in gas price in Texas vs gas prices in New Mexico\n",
    "\n",
    "Are there differences in stress levels between students who take data science vs students who take web development vs students who take cloud academy?\n",
    "###one-way analysis of variance test to compare students taking data science, web development, and cloud academy. If ANOVA test indicates difference, we can use Tukey's test to perform a test to see which group differ significantly from each other\n",
    "\n",
    "\n"
   ]
  },
  {
   "cell_type": "markdown",
   "id": "43c40884",
   "metadata": {},
   "source": [
    "#######################################################"
   ]
  },
  {
   "cell_type": "markdown",
   "id": "34b9186b",
   "metadata": {},
   "source": [
    "Ace Realty wants to determine whether the average time it takes to sell homes is different for its two offices. \n",
    "\n",
    "A sample of 40 sales from office #1 revealed a mean of 90 days and a standard deviation of 15 days. A sample of 50 sales from office #2 revealed a mean of 100 days and a standard deviation of 20 days. \n",
    "\n",
    "Use a .05 level of significance."
   ]
  },
  {
   "cell_type": "code",
   "execution_count": null,
   "id": "64708fe1",
   "metadata": {},
   "outputs": [],
   "source": [
    "a = 0.05\n",
    "\n",
    "# Sample data for office #1\n",
    "sample_mean_1 = 90\n",
    "sample_std_dev_1 = 15\n",
    "sample_size_1 = 40\n",
    "\n",
    "# Sample data for office #2\n",
    "sample_mean_2 = 100\n",
    "sample_std_dev_2 = 20\n",
    "sample_size_2 = 50\n",
    "\n",
    "# Calculate pooled sample variance\n",
    "pooled_sample_variance = (((sample_size_1 - 1) * sample_std_dev_1**2) + ((sample_size_2 - 1) * sample_std_dev_2**2)) / (sample_size_1 + sample_size_2 - 2)\n",
    "\n",
    "# Calculate t-statistic\n",
    "t_statistic = (sample_mean_1 - sample_mean_2) / (pooled_sample_variance * ((1 / sample_size_1) + (1 / sample_size_2)))**0.5\n",
    "\n",
    "# Degrees of freedom\n",
    "degrees_of_freedom = sample_size_1 + sample_size_2 - 2\n",
    "\n",
    "# Two-tailed t-test at 0.05 level of significance\n",
    "alpha = 0.05\n",
    "critical_t_value = stats.t.ppf(1 - alpha / 2, degrees_of_freedom)\n",
    "\n",
    "# Make a decision\n",
    "if abs(t_statistic) > critical_t_value:\n",
    "    print(\"Reject the null hypothesis: There is a significant difference between the mean sales days of office #1 and office #2.\")\n",
    "else:\n",
    "    print(\"Fail to reject the null hypothesis: There is no significant difference between the mean sales days of office #1 and office #2.\")\n",
    "\n",
    "\n"
   ]
  },
  {
   "cell_type": "markdown",
   "id": "cfa25b29",
   "metadata": {},
   "source": [
    "Load the mpg dataset and use it to answer the following questions:\n",
    "\n",
    "\n",
    "Do manual cars get better gas mileage than automatic cars?"
   ]
  },
  {
   "cell_type": "code",
   "execution_count": 25,
   "id": "4ce5a6ed",
   "metadata": {
    "scrolled": true
   },
   "outputs": [
    {
     "data": {
      "text/html": [
       "<div>\n",
       "<style scoped>\n",
       "    .dataframe tbody tr th:only-of-type {\n",
       "        vertical-align: middle;\n",
       "    }\n",
       "\n",
       "    .dataframe tbody tr th {\n",
       "        vertical-align: top;\n",
       "    }\n",
       "\n",
       "    .dataframe thead th {\n",
       "        text-align: right;\n",
       "    }\n",
       "</style>\n",
       "<table border=\"1\" class=\"dataframe\">\n",
       "  <thead>\n",
       "    <tr style=\"text-align: right;\">\n",
       "      <th></th>\n",
       "      <th>manufacturer</th>\n",
       "      <th>model</th>\n",
       "      <th>displ</th>\n",
       "      <th>year</th>\n",
       "      <th>cyl</th>\n",
       "      <th>trans</th>\n",
       "      <th>drv</th>\n",
       "      <th>cty</th>\n",
       "      <th>hwy</th>\n",
       "      <th>fl</th>\n",
       "      <th>class</th>\n",
       "    </tr>\n",
       "  </thead>\n",
       "  <tbody>\n",
       "    <tr>\n",
       "      <th>1</th>\n",
       "      <td>audi</td>\n",
       "      <td>a4</td>\n",
       "      <td>1.8</td>\n",
       "      <td>1999</td>\n",
       "      <td>4</td>\n",
       "      <td>auto(l5)</td>\n",
       "      <td>f</td>\n",
       "      <td>18</td>\n",
       "      <td>29</td>\n",
       "      <td>p</td>\n",
       "      <td>compact</td>\n",
       "    </tr>\n",
       "    <tr>\n",
       "      <th>2</th>\n",
       "      <td>audi</td>\n",
       "      <td>a4</td>\n",
       "      <td>1.8</td>\n",
       "      <td>1999</td>\n",
       "      <td>4</td>\n",
       "      <td>manual(m5)</td>\n",
       "      <td>f</td>\n",
       "      <td>21</td>\n",
       "      <td>29</td>\n",
       "      <td>p</td>\n",
       "      <td>compact</td>\n",
       "    </tr>\n",
       "    <tr>\n",
       "      <th>3</th>\n",
       "      <td>audi</td>\n",
       "      <td>a4</td>\n",
       "      <td>2.0</td>\n",
       "      <td>2008</td>\n",
       "      <td>4</td>\n",
       "      <td>manual(m6)</td>\n",
       "      <td>f</td>\n",
       "      <td>20</td>\n",
       "      <td>31</td>\n",
       "      <td>p</td>\n",
       "      <td>compact</td>\n",
       "    </tr>\n",
       "    <tr>\n",
       "      <th>4</th>\n",
       "      <td>audi</td>\n",
       "      <td>a4</td>\n",
       "      <td>2.0</td>\n",
       "      <td>2008</td>\n",
       "      <td>4</td>\n",
       "      <td>auto(av)</td>\n",
       "      <td>f</td>\n",
       "      <td>21</td>\n",
       "      <td>30</td>\n",
       "      <td>p</td>\n",
       "      <td>compact</td>\n",
       "    </tr>\n",
       "    <tr>\n",
       "      <th>5</th>\n",
       "      <td>audi</td>\n",
       "      <td>a4</td>\n",
       "      <td>2.8</td>\n",
       "      <td>1999</td>\n",
       "      <td>6</td>\n",
       "      <td>auto(l5)</td>\n",
       "      <td>f</td>\n",
       "      <td>16</td>\n",
       "      <td>26</td>\n",
       "      <td>p</td>\n",
       "      <td>compact</td>\n",
       "    </tr>\n",
       "    <tr>\n",
       "      <th>...</th>\n",
       "      <td>...</td>\n",
       "      <td>...</td>\n",
       "      <td>...</td>\n",
       "      <td>...</td>\n",
       "      <td>...</td>\n",
       "      <td>...</td>\n",
       "      <td>...</td>\n",
       "      <td>...</td>\n",
       "      <td>...</td>\n",
       "      <td>...</td>\n",
       "      <td>...</td>\n",
       "    </tr>\n",
       "    <tr>\n",
       "      <th>230</th>\n",
       "      <td>volkswagen</td>\n",
       "      <td>passat</td>\n",
       "      <td>2.0</td>\n",
       "      <td>2008</td>\n",
       "      <td>4</td>\n",
       "      <td>auto(s6)</td>\n",
       "      <td>f</td>\n",
       "      <td>19</td>\n",
       "      <td>28</td>\n",
       "      <td>p</td>\n",
       "      <td>midsize</td>\n",
       "    </tr>\n",
       "    <tr>\n",
       "      <th>231</th>\n",
       "      <td>volkswagen</td>\n",
       "      <td>passat</td>\n",
       "      <td>2.0</td>\n",
       "      <td>2008</td>\n",
       "      <td>4</td>\n",
       "      <td>manual(m6)</td>\n",
       "      <td>f</td>\n",
       "      <td>21</td>\n",
       "      <td>29</td>\n",
       "      <td>p</td>\n",
       "      <td>midsize</td>\n",
       "    </tr>\n",
       "    <tr>\n",
       "      <th>232</th>\n",
       "      <td>volkswagen</td>\n",
       "      <td>passat</td>\n",
       "      <td>2.8</td>\n",
       "      <td>1999</td>\n",
       "      <td>6</td>\n",
       "      <td>auto(l5)</td>\n",
       "      <td>f</td>\n",
       "      <td>16</td>\n",
       "      <td>26</td>\n",
       "      <td>p</td>\n",
       "      <td>midsize</td>\n",
       "    </tr>\n",
       "    <tr>\n",
       "      <th>233</th>\n",
       "      <td>volkswagen</td>\n",
       "      <td>passat</td>\n",
       "      <td>2.8</td>\n",
       "      <td>1999</td>\n",
       "      <td>6</td>\n",
       "      <td>manual(m5)</td>\n",
       "      <td>f</td>\n",
       "      <td>18</td>\n",
       "      <td>26</td>\n",
       "      <td>p</td>\n",
       "      <td>midsize</td>\n",
       "    </tr>\n",
       "    <tr>\n",
       "      <th>234</th>\n",
       "      <td>volkswagen</td>\n",
       "      <td>passat</td>\n",
       "      <td>3.6</td>\n",
       "      <td>2008</td>\n",
       "      <td>6</td>\n",
       "      <td>auto(s6)</td>\n",
       "      <td>f</td>\n",
       "      <td>17</td>\n",
       "      <td>26</td>\n",
       "      <td>p</td>\n",
       "      <td>midsize</td>\n",
       "    </tr>\n",
       "  </tbody>\n",
       "</table>\n",
       "<p>234 rows × 11 columns</p>\n",
       "</div>"
      ],
      "text/plain": [
       "    manufacturer   model  displ  year  cyl       trans drv  cty  hwy fl  \\\n",
       "1           audi      a4    1.8  1999    4    auto(l5)   f   18   29  p   \n",
       "2           audi      a4    1.8  1999    4  manual(m5)   f   21   29  p   \n",
       "3           audi      a4    2.0  2008    4  manual(m6)   f   20   31  p   \n",
       "4           audi      a4    2.0  2008    4    auto(av)   f   21   30  p   \n",
       "5           audi      a4    2.8  1999    6    auto(l5)   f   16   26  p   \n",
       "..           ...     ...    ...   ...  ...         ...  ..  ...  ... ..   \n",
       "230   volkswagen  passat    2.0  2008    4    auto(s6)   f   19   28  p   \n",
       "231   volkswagen  passat    2.0  2008    4  manual(m6)   f   21   29  p   \n",
       "232   volkswagen  passat    2.8  1999    6    auto(l5)   f   16   26  p   \n",
       "233   volkswagen  passat    2.8  1999    6  manual(m5)   f   18   26  p   \n",
       "234   volkswagen  passat    3.6  2008    6    auto(s6)   f   17   26  p   \n",
       "\n",
       "       class  \n",
       "1    compact  \n",
       "2    compact  \n",
       "3    compact  \n",
       "4    compact  \n",
       "5    compact  \n",
       "..       ...  \n",
       "230  midsize  \n",
       "231  midsize  \n",
       "232  midsize  \n",
       "233  midsize  \n",
       "234  midsize  \n",
       "\n",
       "[234 rows x 11 columns]"
      ]
     },
     "execution_count": 25,
     "metadata": {},
     "output_type": "execute_result"
    }
   ],
   "source": [
    "df  #df is mpg "
   ]
  },
  {
   "cell_type": "markdown",
   "id": "0df79123",
   "metadata": {},
   "source": [
    "Is there a difference in fuel-efficiency in cars from 2008 vs 1999?\n",
    "\n",
    "Null: The fuel-efficiency in cars from 2008 are not different from cars in 1999\n",
    "\n",
    "Alternative: The fuel-efficiency in cars from 2008 are different from 1999"
   ]
  },
  {
   "cell_type": "code",
   "execution_count": 43,
   "id": "306a3f98",
   "metadata": {},
   "outputs": [],
   "source": [
    "cars_2008 = df[df['year']==2008]\n",
    "cars_1999 = df[df['year']==1999]"
   ]
  },
  {
   "cell_type": "code",
   "execution_count": 46,
   "id": "c3375673",
   "metadata": {},
   "outputs": [],
   "source": [
    "mean_mpg_2008 = cars_2008['cty']"
   ]
  },
  {
   "cell_type": "code",
   "execution_count": 47,
   "id": "dac39787",
   "metadata": {},
   "outputs": [],
   "source": [
    "mean_mpg_1999 = cars_1999['cty']"
   ]
  },
  {
   "cell_type": "code",
   "execution_count": 48,
   "id": "2acbed19",
   "metadata": {},
   "outputs": [
    {
     "data": {
      "text/plain": [
       "(-0.5674988409997608, 0.5709240495406107)"
      ]
     },
     "execution_count": 48,
     "metadata": {},
     "output_type": "execute_result"
    }
   ],
   "source": [
    "t_time, p_time = stats.ttest_ind(mean_mpg_2008, mean_mpg_1999)\n",
    "t_time, p_time"
   ]
  },
  {
   "cell_type": "code",
   "execution_count": 50,
   "id": "df2c242a",
   "metadata": {},
   "outputs": [
    {
     "name": "stdout",
     "output_type": "stream",
     "text": [
      "we failed to destroy the null hypothesis\n"
     ]
    }
   ],
   "source": [
    "a = 0.05\n",
    "if (t_time > 0) and (p_time /2 <a):\n",
    "    print('We reject the null hypothesis.')\n",
    "else:\n",
    "    print('we failed to destroy the null hypothesis')"
   ]
  },
  {
   "cell_type": "code",
   "execution_count": 49,
   "id": "a5f7f7ef",
   "metadata": {},
   "outputs": [
    {
     "data": {
      "text/plain": [
       "Ttest_indResult(statistic=-0.5674988409997608, pvalue=0.5709240495406107)"
      ]
     },
     "execution_count": 49,
     "metadata": {},
     "output_type": "execute_result"
    }
   ],
   "source": [
    "stats.ttest_ind(mean_mpg_2008, mean_mpg_1999)"
   ]
  },
  {
   "cell_type": "markdown",
   "id": "4ffbbb76",
   "metadata": {},
   "source": [
    "Are compact cars more fuel-efficient than the average car? \n",
    "\n",
    "###we will be using 2-sample, 1 failed t-test\n",
    "\n",
    "Null: compact cars fuel-efficient are not the same as the average car\n",
    "\n",
    "Alternative: compact cars fuel-efficient will have better fuel-efficient than average car"
   ]
  },
  {
   "cell_type": "code",
   "execution_count": 51,
   "id": "4ef389c1",
   "metadata": {},
   "outputs": [
    {
     "data": {
      "text/html": [
       "<div>\n",
       "<style scoped>\n",
       "    .dataframe tbody tr th:only-of-type {\n",
       "        vertical-align: middle;\n",
       "    }\n",
       "\n",
       "    .dataframe tbody tr th {\n",
       "        vertical-align: top;\n",
       "    }\n",
       "\n",
       "    .dataframe thead th {\n",
       "        text-align: right;\n",
       "    }\n",
       "</style>\n",
       "<table border=\"1\" class=\"dataframe\">\n",
       "  <thead>\n",
       "    <tr style=\"text-align: right;\">\n",
       "      <th></th>\n",
       "      <th>manufacturer</th>\n",
       "      <th>model</th>\n",
       "      <th>displ</th>\n",
       "      <th>year</th>\n",
       "      <th>cyl</th>\n",
       "      <th>trans</th>\n",
       "      <th>drv</th>\n",
       "      <th>cty</th>\n",
       "      <th>hwy</th>\n",
       "      <th>fl</th>\n",
       "      <th>class</th>\n",
       "    </tr>\n",
       "  </thead>\n",
       "  <tbody>\n",
       "    <tr>\n",
       "      <th>1</th>\n",
       "      <td>audi</td>\n",
       "      <td>a4</td>\n",
       "      <td>1.8</td>\n",
       "      <td>1999</td>\n",
       "      <td>4</td>\n",
       "      <td>auto(l5)</td>\n",
       "      <td>f</td>\n",
       "      <td>18</td>\n",
       "      <td>29</td>\n",
       "      <td>p</td>\n",
       "      <td>compact</td>\n",
       "    </tr>\n",
       "    <tr>\n",
       "      <th>2</th>\n",
       "      <td>audi</td>\n",
       "      <td>a4</td>\n",
       "      <td>1.8</td>\n",
       "      <td>1999</td>\n",
       "      <td>4</td>\n",
       "      <td>manual(m5)</td>\n",
       "      <td>f</td>\n",
       "      <td>21</td>\n",
       "      <td>29</td>\n",
       "      <td>p</td>\n",
       "      <td>compact</td>\n",
       "    </tr>\n",
       "    <tr>\n",
       "      <th>3</th>\n",
       "      <td>audi</td>\n",
       "      <td>a4</td>\n",
       "      <td>2.0</td>\n",
       "      <td>2008</td>\n",
       "      <td>4</td>\n",
       "      <td>manual(m6)</td>\n",
       "      <td>f</td>\n",
       "      <td>20</td>\n",
       "      <td>31</td>\n",
       "      <td>p</td>\n",
       "      <td>compact</td>\n",
       "    </tr>\n",
       "    <tr>\n",
       "      <th>4</th>\n",
       "      <td>audi</td>\n",
       "      <td>a4</td>\n",
       "      <td>2.0</td>\n",
       "      <td>2008</td>\n",
       "      <td>4</td>\n",
       "      <td>auto(av)</td>\n",
       "      <td>f</td>\n",
       "      <td>21</td>\n",
       "      <td>30</td>\n",
       "      <td>p</td>\n",
       "      <td>compact</td>\n",
       "    </tr>\n",
       "    <tr>\n",
       "      <th>5</th>\n",
       "      <td>audi</td>\n",
       "      <td>a4</td>\n",
       "      <td>2.8</td>\n",
       "      <td>1999</td>\n",
       "      <td>6</td>\n",
       "      <td>auto(l5)</td>\n",
       "      <td>f</td>\n",
       "      <td>16</td>\n",
       "      <td>26</td>\n",
       "      <td>p</td>\n",
       "      <td>compact</td>\n",
       "    </tr>\n",
       "    <tr>\n",
       "      <th>...</th>\n",
       "      <td>...</td>\n",
       "      <td>...</td>\n",
       "      <td>...</td>\n",
       "      <td>...</td>\n",
       "      <td>...</td>\n",
       "      <td>...</td>\n",
       "      <td>...</td>\n",
       "      <td>...</td>\n",
       "      <td>...</td>\n",
       "      <td>...</td>\n",
       "      <td>...</td>\n",
       "    </tr>\n",
       "    <tr>\n",
       "      <th>230</th>\n",
       "      <td>volkswagen</td>\n",
       "      <td>passat</td>\n",
       "      <td>2.0</td>\n",
       "      <td>2008</td>\n",
       "      <td>4</td>\n",
       "      <td>auto(s6)</td>\n",
       "      <td>f</td>\n",
       "      <td>19</td>\n",
       "      <td>28</td>\n",
       "      <td>p</td>\n",
       "      <td>midsize</td>\n",
       "    </tr>\n",
       "    <tr>\n",
       "      <th>231</th>\n",
       "      <td>volkswagen</td>\n",
       "      <td>passat</td>\n",
       "      <td>2.0</td>\n",
       "      <td>2008</td>\n",
       "      <td>4</td>\n",
       "      <td>manual(m6)</td>\n",
       "      <td>f</td>\n",
       "      <td>21</td>\n",
       "      <td>29</td>\n",
       "      <td>p</td>\n",
       "      <td>midsize</td>\n",
       "    </tr>\n",
       "    <tr>\n",
       "      <th>232</th>\n",
       "      <td>volkswagen</td>\n",
       "      <td>passat</td>\n",
       "      <td>2.8</td>\n",
       "      <td>1999</td>\n",
       "      <td>6</td>\n",
       "      <td>auto(l5)</td>\n",
       "      <td>f</td>\n",
       "      <td>16</td>\n",
       "      <td>26</td>\n",
       "      <td>p</td>\n",
       "      <td>midsize</td>\n",
       "    </tr>\n",
       "    <tr>\n",
       "      <th>233</th>\n",
       "      <td>volkswagen</td>\n",
       "      <td>passat</td>\n",
       "      <td>2.8</td>\n",
       "      <td>1999</td>\n",
       "      <td>6</td>\n",
       "      <td>manual(m5)</td>\n",
       "      <td>f</td>\n",
       "      <td>18</td>\n",
       "      <td>26</td>\n",
       "      <td>p</td>\n",
       "      <td>midsize</td>\n",
       "    </tr>\n",
       "    <tr>\n",
       "      <th>234</th>\n",
       "      <td>volkswagen</td>\n",
       "      <td>passat</td>\n",
       "      <td>3.6</td>\n",
       "      <td>2008</td>\n",
       "      <td>6</td>\n",
       "      <td>auto(s6)</td>\n",
       "      <td>f</td>\n",
       "      <td>17</td>\n",
       "      <td>26</td>\n",
       "      <td>p</td>\n",
       "      <td>midsize</td>\n",
       "    </tr>\n",
       "  </tbody>\n",
       "</table>\n",
       "<p>234 rows × 11 columns</p>\n",
       "</div>"
      ],
      "text/plain": [
       "    manufacturer   model  displ  year  cyl       trans drv  cty  hwy fl  \\\n",
       "1           audi      a4    1.8  1999    4    auto(l5)   f   18   29  p   \n",
       "2           audi      a4    1.8  1999    4  manual(m5)   f   21   29  p   \n",
       "3           audi      a4    2.0  2008    4  manual(m6)   f   20   31  p   \n",
       "4           audi      a4    2.0  2008    4    auto(av)   f   21   30  p   \n",
       "5           audi      a4    2.8  1999    6    auto(l5)   f   16   26  p   \n",
       "..           ...     ...    ...   ...  ...         ...  ..  ...  ... ..   \n",
       "230   volkswagen  passat    2.0  2008    4    auto(s6)   f   19   28  p   \n",
       "231   volkswagen  passat    2.0  2008    4  manual(m6)   f   21   29  p   \n",
       "232   volkswagen  passat    2.8  1999    6    auto(l5)   f   16   26  p   \n",
       "233   volkswagen  passat    2.8  1999    6  manual(m5)   f   18   26  p   \n",
       "234   volkswagen  passat    3.6  2008    6    auto(s6)   f   17   26  p   \n",
       "\n",
       "       class  \n",
       "1    compact  \n",
       "2    compact  \n",
       "3    compact  \n",
       "4    compact  \n",
       "5    compact  \n",
       "..       ...  \n",
       "230  midsize  \n",
       "231  midsize  \n",
       "232  midsize  \n",
       "233  midsize  \n",
       "234  midsize  \n",
       "\n",
       "[234 rows x 11 columns]"
      ]
     },
     "execution_count": 51,
     "metadata": {},
     "output_type": "execute_result"
    }
   ],
   "source": [
    "df"
   ]
  },
  {
   "cell_type": "code",
   "execution_count": 54,
   "id": "df942439",
   "metadata": {},
   "outputs": [
    {
     "data": {
      "text/plain": [
       "Index(['manufacturer', 'model', 'displ', 'year', 'cyl', 'trans', 'drv', 'cty',\n",
       "       'hwy', 'fl', 'class'],\n",
       "      dtype='object')"
      ]
     },
     "execution_count": 54,
     "metadata": {},
     "output_type": "execute_result"
    }
   ],
   "source": [
    "#i am interested in the class and the cty column\n",
    "df.columns"
   ]
  },
  {
   "cell_type": "code",
   "execution_count": 60,
   "id": "c63834ce",
   "metadata": {},
   "outputs": [
    {
     "data": {
      "text/plain": [
       "array(['compact', 'midsize', 'suv', '2seater', 'minivan', 'pickup',\n",
       "       'subcompact'], dtype=object)"
      ]
     },
     "execution_count": 60,
     "metadata": {},
     "output_type": "execute_result"
    }
   ],
   "source": [
    "df['class'].unique()"
   ]
  },
  {
   "cell_type": "code",
   "execution_count": 68,
   "id": "73287e95",
   "metadata": {},
   "outputs": [
    {
     "ename": "SyntaxError",
     "evalue": "invalid syntax (696294809.py, line 1)",
     "output_type": "error",
     "traceback": [
      "\u001b[0;36m  Cell \u001b[0;32mIn[68], line 1\u001b[0;36m\u001b[0m\n\u001b[0;31m    compact_cty = df[df.('class') == 'compact'].cty\u001b[0m\n\u001b[0m                        ^\u001b[0m\n\u001b[0;31mSyntaxError\u001b[0m\u001b[0;31m:\u001b[0m invalid syntax\n"
     ]
    }
   ],
   "source": [
    "compact_cty = df[df.('class') == 'compact'].cty"
   ]
  },
  {
   "cell_type": "code",
   "execution_count": null,
   "id": "c4f3d452",
   "metadata": {},
   "outputs": [],
   "source": []
  }
 ],
 "metadata": {
  "kernelspec": {
   "display_name": "Python 3 (ipykernel)",
   "language": "python",
   "name": "python3"
  },
  "language_info": {
   "codemirror_mode": {
    "name": "ipython",
    "version": 3
   },
   "file_extension": ".py",
   "mimetype": "text/x-python",
   "name": "python",
   "nbconvert_exporter": "python",
   "pygments_lexer": "ipython3",
   "version": "3.10.9"
  }
 },
 "nbformat": 4,
 "nbformat_minor": 5
}
