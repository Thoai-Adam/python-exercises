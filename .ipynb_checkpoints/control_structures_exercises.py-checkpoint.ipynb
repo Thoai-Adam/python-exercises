{
 "cells": [
  {
   "cell_type": "code",
   "execution_count": 3,
   "id": "79dbb6a8",
   "metadata": {},
   "outputs": [
    {
     "name": "stdout",
     "output_type": "stream",
     "text": [
      "enter day here now: lkj\n",
      "false alarm...\n"
     ]
    }
   ],
   "source": [
    "#Exercise 1 Conditional Basics\n",
    "\n",
    "#Prompt the user for a day of the week, print out whether the day is Monday or not\n",
    "day_of_the_week = input('enter day here now: ')\n",
    "if day_of_the_week == 'monday':\n",
    "    print(\"it's monday yo\")\n",
    "else:\n",
    "    print(\"false alarm...\")\n",
    "\n",
    "    \n",
    "    "
   ]
  },
  {
   "cell_type": "code",
   "execution_count": 6,
   "id": "5b53ac47",
   "metadata": {},
   "outputs": [
    {
     "name": "stdout",
     "output_type": "stream",
     "text": [
      "enter day here now: tuesday\n",
      "weekday\n"
     ]
    }
   ],
   "source": [
    "#Prompt the user for a day of the week, print out whether the day is a weekday or a weekend\n",
    "day_of_the_week = input('enter day here now: ')\n",
    "if day_of_the_week in ['monday','tuesday','wednesday','thursday','friday']:\n",
    "    print('weekday')\n",
    "else:\n",
    "    print('weekend')"
   ]
  },
  {
   "cell_type": "code",
   "execution_count": 28,
   "id": "41c9038b",
   "metadata": {},
   "outputs": [
    {
     "name": "stdout",
     "output_type": "stream",
     "text": [
      "hours worked: 45\n",
      "hourly pay: 7.25\n",
      "344.375\n"
     ]
    }
   ],
   "source": [
    "#Calculate a weekly paycheck, accounting for overtime pay. Create variables and make up values for:\n",
    "\n",
    "#The number of hours worked in one week\n",
    "#The hourly rate\n",
    "#For calculating pay:\n",
    "\n",
    "#For working 40 hours or less, each hour is paid at the hourly rate\n",
    "#For working more than 40 hours\n",
    "\n",
    "#the first 40 hours are paid at the hourly rate\n",
    "\n",
    "#each hour after 40 is paid at time and a half (hourly rate * 1.5)\n",
    "\n",
    "hours_worked = float(input('hours worked: '))\n",
    "hourly_rate = float(input('hourly pay: '))\n",
    "\n",
    "if hours_worked <= 40:\n",
    "    print(hours_worked*hourly_rate)\n",
    "    \n",
    "else:\n",
    "    print((40*hourly_rate)+((hours_worked-40)*(1.5*hourly_rate)))\n",
    "\n",
    "#print(((hours work -40 )*1.5hour_rate)+ 40*rate)\n",
    "    \n",
    "  "
   ]
  },
  {
   "cell_type": "code",
   "execution_count": 23,
   "id": "819f9320",
   "metadata": {},
   "outputs": [
    {
     "name": "stdout",
     "output_type": "stream",
     "text": [
      "5\n",
      "6\n",
      "7\n",
      "8\n",
      "9\n",
      "10\n",
      "11\n",
      "12\n",
      "13\n",
      "14\n",
      "15\n"
     ]
    }
   ],
   "source": [
    "#Exercise 2 Loop Basics\n",
    "\n",
    "#While\n",
    "\n",
    "#Create an integer variable i with a value of 5. \n",
    "#Create a while loop that runs so long as i is less than or equal to 15. \n",
    "#Each loop iteration, output the current value of i, then increment i by one.\n",
    "\n",
    "i = 5\n",
    "while i <= 15:\n",
    "    print (i)\n",
    "    i+= 1"
   ]
  },
  {
   "cell_type": "code",
   "execution_count": null,
   "id": "558b4b00",
   "metadata": {},
   "outputs": [],
   "source": [
    "#Create a while loop that will count by 2's starting with 0 and ending at 100. \n",
    "#Follow each number with a new line.\n",
    "\n",
    "\n",
    "\n",
    "#Create a while loop that starts at 2, \n",
    "#and displays the number squared on each line while the number is less than 1,000,000. \n",
    "\n",
    "\n"
   ]
  }
 ],
 "metadata": {
  "kernelspec": {
   "display_name": "Python 3 (ipykernel)",
   "language": "python",
   "name": "python3"
  },
  "language_info": {
   "codemirror_mode": {
    "name": "ipython",
    "version": 3
   },
   "file_extension": ".py",
   "mimetype": "text/x-python",
   "name": "python",
   "nbconvert_exporter": "python",
   "pygments_lexer": "ipython3",
   "version": "3.10.9"
  }
 },
 "nbformat": 4,
 "nbformat_minor": 5
}
