{
 "cells": [
  {
   "cell_type": "code",
   "execution_count": 13,
   "id": "9795865b",
   "metadata": {},
   "outputs": [
    {
     "name": "stdout",
     "output_type": "stream",
     "text": [
      "True\n",
      "False\n"
     ]
    }
   ],
   "source": [
    "#Define a function named is_two. \n",
    "def is_two(value):\n",
    "#It should accept one input and return True\n",
    "#if the passed input is either the number or the string 2, \n",
    "    if value == 2 or value == '2':\n",
    "        return True\n",
    "#False otherwise.\n",
    "    else: \n",
    "        return False\n",
    " # Testing with different inputs\n",
    "\n",
    "#another way Nick did, he took away the conditional statement \n",
    "#def is_two(input):\n",
    "#   return input == 2 or input == '2'\n",
    "\n",
    "print(is_two('2'))        # True\n",
    "print(is_two(5))          # False\n",
    "\n"
   ]
  },
  {
   "cell_type": "code",
   "execution_count": 18,
   "id": "dacd33c3",
   "metadata": {},
   "outputs": [
    {
     "name": "stdout",
     "output_type": "stream",
     "text": [
      "\n",
      "False\n",
      "True\n",
      "False\n"
     ]
    }
   ],
   "source": [
    "#Define a function named is_vowel. \n",
    "def is_vowel(value):\n",
    "#It should return True if the passed string is a vowel, I was lazy so i only include 2 letters\n",
    "    vowels = ['a', 'e']\n",
    "#i use the strip to eliminate any spacing and lower to to include lower and capitalize words\n",
    "    if value.strip().lower() in vowels:\n",
    "        return True\n",
    "#False otherwise\n",
    "    else:\n",
    "        return False\n",
    "#def is_vowel(input):\n",
    "#    if input in ('aeiou'):\n",
    "#        return True\n",
    "#    else:\n",
    "#        return False\n",
    "\n",
    "#testing time\n",
    "\n",
    "print(is_vowel('omega')) #false\n",
    "print(is_vowel('a'))    #true\n",
    "print(is_vowel('aaaa'))  #false\n"
   ]
  },
  {
   "cell_type": "code",
   "execution_count": 24,
   "id": "726ae98c",
   "metadata": {},
   "outputs": [
    {
     "name": "stdout",
     "output_type": "stream",
     "text": [
      "True\n",
      "False\n"
     ]
    }
   ],
   "source": [
    "#Define a function named is_consonant. \n",
    "def is_consonant(value):\n",
    "#It should return True if the passed string is a consonant, using not in statement\n",
    "    vowels = ['a', 'e']\n",
    "    if value.strip().lower() not in vowels:\n",
    "        return True\n",
    "#False otherwise. Use your is_vowel function to accomplish this.\n",
    "    else:\n",
    "        return False\n",
    "\n",
    "#the logic is to use the previous function, and if the input is\n",
    "#not the last function than its True\n",
    "#def is_consonant(input):\n",
    "#   if is_vowel(input):\n",
    "#      return False\n",
    "#   else:\n",
    "#      return True\n",
    "    \n",
    "#test this out\n",
    "print(is_consonant('b'))\n",
    "print(is_consonant('a'))\n"
   ]
  },
  {
   "cell_type": "code",
   "execution_count": 34,
   "id": "1af56d90",
   "metadata": {},
   "outputs": [
    {
     "name": "stdout",
     "output_type": "stream",
     "text": [
      "False\n",
      "Ljskj\n"
     ]
    }
   ],
   "source": [
    "#Define a function that accepts a string that is a word. \n",
    "def capitalize_consonant(word):\n",
    "#The function should capitalize the first letter of the word using word.capitalize()\n",
    "    vowels = ['a', 'e']\n",
    "    if word[0].lower() not in vowels:\n",
    "        return word.capitalize()\n",
    "#if the word starts with a consonant.\n",
    "    else:\n",
    "        return False\n",
    "    return word\n",
    "\n",
    "# The long way \n",
    "#def capitalize_consonant(word):\n",
    "#     consonants = \"bcdfghjklmnpqrstvwxyz\"\n",
    "#     if word[0].lower() in consonants\n",
    "#           return word.capitalize()\n",
    "#     else:\n",
    "#           return False\n",
    "#     return word\n",
    "\n",
    "#how Nikki does it\n",
    "#def cap_first(input):\n",
    "#    count = 0\n",
    "#    new_string = ''\n",
    "#    for letter in input:\n",
    "#        if count == 0 and is_consenant(letter):\n",
    "#              new_string += letter.upper()\n",
    "#              count += 1\n",
    "#        else:\n",
    "#              new_string += letter\n",
    "#    return new_string\n",
    "\n",
    "\n",
    "\n",
    "print(capitalize_consonant('elkjl')) #False because a vowel started the word\n",
    "\n",
    "print(capitalize_consonant('ljskj'))  #True"
   ]
  },
  {
   "cell_type": "code",
   "execution_count": 1,
   "id": "d2e135a0",
   "metadata": {},
   "outputs": [],
   "source": [
    "#Define a function named calculate_tip. \n",
    "#It should accept a tip percentage (a number between 0 and 1) \n",
    "#and the bill total, and return the amount to tip.\n",
    "\n",
    "def calculate_tip(tip_percentage, bill_total):\n",
    "    if 0 <= tip_percentage <= 1:\n",
    "        tip_amount = tip_percentage * bill_total\n",
    "        return tip_amount\n",
    "    else:\n",
    "        return None\n",
    "\n",
    "#def calculate_tip(bill,percentage):\n",
    "#    return bill * percentage\n",
    "#    \n",
    "#\n",
    "#\n",
    "#\n",
    "#\n",
    "\n"
   ]
  },
  {
   "cell_type": "code",
   "execution_count": null,
   "id": "973012f5",
   "metadata": {},
   "outputs": [],
   "source": [
    "#Define a function named apply_discount. \n",
    "#It should accept a original price, and a discount percentage, \n",
    "#and return the price after the discount is applied.\n",
    "\n",
    "def apply_discount(original_price, discount_percentage):\n",
    "    if discount_percentage >= 0 and discount_percentage <= 100:\n",
    "        discount_amount = original_price * (discount_percentage / 100)\n",
    "        discounted_price = original_price - discount_amount\n",
    "        return discounted_price\n",
    "    else:\n",
    "        return None\n",
    "    \n",
    "\n",
    "#Nikki does it. simple mathematic\n",
    "#def apply_discount(price, discount)\n",
    "#        return price - (price * discount)\n",
    "#\n",
    "\n"
   ]
  },
  {
   "cell_type": "code",
   "execution_count": 6,
   "id": "f9d42cb3",
   "metadata": {},
   "outputs": [
    {
     "name": "stdout",
     "output_type": "stream",
     "text": [
      "1000000\n"
     ]
    }
   ],
   "source": [
    "#Define a function named handle_commas. \n",
    "#It should accept a string that is a number that contains commas \n",
    "#in it as input, and return a number as output.\n",
    "\n",
    "def handle_commas(input_string):\n",
    "    output_string = input_string.replace(',', '')\n",
    "    return int(output_string)\n",
    "\n",
    "#def handle_commas(input):\n",
    "#    new_number = ''\n",
    "#    for number in input:\n",
    "#        if number == ',':\n",
    "#           new_number += number\n",
    "#    return new_number       \n",
    "\n",
    "input_string1 = \"1,000,000\"\n",
    "print(result1)"
   ]
  },
  {
   "cell_type": "code",
   "execution_count": 7,
   "id": "f26de8a0",
   "metadata": {},
   "outputs": [
    {
     "name": "stdout",
     "output_type": "stream",
     "text": [
      "C\n"
     ]
    }
   ],
   "source": [
    "#Define a function named get_letter_grade. \n",
    "#It should accept a number and return the letter grade associated \n",
    "#with that number (A-F).\n",
    "\n",
    "def get_letter_grade(score):\n",
    "    if score >= 90:\n",
    "        return 'A'\n",
    "    elif score >= 80:\n",
    "        return 'B'\n",
    "    elif score >= 70:\n",
    "        return 'C'\n",
    "    elif score >= 60:\n",
    "        return 'D'\n",
    "    else:\n",
    "        return 'F'\n",
    "    \n",
    "#test\n",
    "print(get_letter_grade(70))\n"
   ]
  },
  {
   "cell_type": "code",
   "execution_count": 9,
   "id": "850cd2fa",
   "metadata": {},
   "outputs": [
    {
     "name": "stdout",
     "output_type": "stream",
     "text": [
      "hll\n"
     ]
    }
   ],
   "source": [
    "#Define a function named remove_vowels that accepts a string \n",
    "#and returns a string with all the vowels removed.\n",
    "\n",
    "def remove_vowels(input_string):\n",
    "    vowels = 'aeiou'\n",
    "    output_string = ''\n",
    "    for char in input_string:\n",
    "        if char.lower() not in vowels:\n",
    "            output_string += char\n",
    "    return output_string\n",
    "\n",
    "#def remove_vowels(input):\n",
    "#    new_string = ''\n",
    "#    for letter in input:\n",
    "#        if letter not in ('aeiou'):\n",
    "#            new_string += letter\n",
    "#    return new_string\n",
    "#\n",
    "\n",
    "#testing\n",
    "print(remove_vowels('hello'))\n"
   ]
  },
  {
   "cell_type": "code",
   "execution_count": 12,
   "id": "6de4fb65",
   "metadata": {},
   "outputs": [
    {
     "name": "stdout",
     "output_type": "stream",
     "text": [
      "hello_mr_wick\n"
     ]
    }
   ],
   "source": [
    "#Define a function named normalize_name. It should accept a string \n",
    "#and return a valid python identifier, that is:\n",
    "#    anything that is not a valid python identifier should be removed\n",
    "#    leading and trailing whitespace should be removed\n",
    "#    everything should be lowercase\n",
    "#    spaces should be replaced with underscores\n",
    "\n",
    "def normalize_name(input_string):\n",
    "    #initialize normal string    #iterate each character   #check for identifier\n",
    "    normalized_string = ''.join(char for char in input_string if char.isidentifier() or char == ' ')\n",
    "\n",
    "    #if char pass the first condition, then it'll be modified for the final result\n",
    "    normalized_string = normalized_string.strip().lower().replace(' ', '_')\n",
    "    return normalized_string\n",
    "\n",
    "#nikki's code\n",
    "#def normalize_name (input):\n",
    "#    output = ''\n",
    "#    for char in input:\n",
    "#       if char.isalnum() or char == '':\n",
    "#          output += char\n",
    "#    return output.strip().lower().replace(' ','_').replace('__','_')\n",
    "\n",
    "print(normalize_name('hello mr wick'))\n"
   ]
  },
  {
   "cell_type": "code",
   "execution_count": 16,
   "id": "86432d4d",
   "metadata": {},
   "outputs": [
    {
     "name": "stdout",
     "output_type": "stream",
     "text": [
      "[1, 3, 6, 10, 15]\n"
     ]
    }
   ],
   "source": [
    "#Write a function named cumulative_sum that accepts a list of numbers and returns a list that is the cumulative sum of the numbers in the list.\n",
    "#    cumulative_sum([1, 1, 1]) returns [1, 2, 3]\n",
    "#    cumulative_sum([1, 2, 3, 4]) returns [1, 3, 6, 10]\n",
    "    \n",
    "def cumulative_sum(numbers):\n",
    "    cumulative_list = []\n",
    "    sum_so_far = 0\n",
    "    for num in numbers:\n",
    "        sum_so_far += num\n",
    "        cumulative_list.append(sum_so_far)\n",
    "    return cumulative_list\n",
    "\n",
    "\n",
    "\n",
    "#testing\n",
    "numbers = [1, 2, 3, 4, 5]\n",
    "result1 = cumulative_sum(numbers)\n",
    "print(result1)"
   ]
  },
  {
   "cell_type": "code",
   "execution_count": null,
   "id": "52f7ce28",
   "metadata": {},
   "outputs": [],
   "source": []
  }
 ],
 "metadata": {
  "kernelspec": {
   "display_name": "Python 3 (ipykernel)",
   "language": "python",
   "name": "python3"
  },
  "language_info": {
   "codemirror_mode": {
    "name": "ipython",
    "version": 3
   },
   "file_extension": ".py",
   "mimetype": "text/x-python",
   "name": "python",
   "nbconvert_exporter": "python",
   "pygments_lexer": "ipython3",
   "version": "3.10.9"
  }
 },
 "nbformat": 4,
 "nbformat_minor": 5
}
