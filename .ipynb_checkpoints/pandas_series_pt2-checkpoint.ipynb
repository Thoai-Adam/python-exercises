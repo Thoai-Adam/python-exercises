{
 "cells": [
  {
   "cell_type": "code",
   "execution_count": 1,
   "id": "f977ec10",
   "metadata": {},
   "outputs": [
    {
     "data": {
      "application/javascript": [
       "IPython.notebook.set_autosave_interval(0)"
      ]
     },
     "metadata": {},
     "output_type": "display_data"
    },
    {
     "name": "stdout",
     "output_type": "stream",
     "text": [
      "Autosave disabled\n"
     ]
    }
   ],
   "source": [
    "%autosave 0"
   ]
  },
  {
   "cell_type": "code",
   "execution_count": 15,
   "id": "bba8c6de",
   "metadata": {},
   "outputs": [],
   "source": [
    "import pandas as pd\n",
    "from pydataset import data\n",
    "#if halfway through your work, you need another library, you can import block and add import here. not at random places"
   ]
  },
  {
   "cell_type": "markdown",
   "id": "02e2a99e",
   "metadata": {},
   "source": [
    "Boolean masking -  \n",
    "We can use an array of boolean values to return a subset of our series.  \n",
    "We only get back values where the boolean array is True.  \n",
    "We can evaluate multiple statements at once."
   ]
  },
  {
   "cell_type": "code",
   "execution_count": 3,
   "id": "7692b8d6",
   "metadata": {},
   "outputs": [],
   "source": [
    "my_series = pd.Series(range(1, 21, 1))"
   ]
  },
  {
   "cell_type": "code",
   "execution_count": 4,
   "id": "b1e0f236",
   "metadata": {},
   "outputs": [
    {
     "data": {
      "text/plain": [
       "10    11\n",
       "11    12\n",
       "12    13\n",
       "13    14\n",
       "14    15\n",
       "15    16\n",
       "16    17\n",
       "17    18\n",
       "18    19\n",
       "19    20\n",
       "dtype: int64"
      ]
     },
     "execution_count": 4,
     "metadata": {},
     "output_type": "execute_result"
    }
   ],
   "source": [
    "my_series[my_series > 10]"
   ]
  },
  {
   "cell_type": "markdown",
   "id": "b42a782d",
   "metadata": {},
   "source": [
    "The curriculum has a method for determining which values belong in the fourth quartile.  \n",
    "\n",
    "We could also do it with [pd.qcut](https://pandas.pydata.org/docs/reference/api/pandas.qcut.html#pandas.qcut).  \n",
    "\n",
    "We will pass two arguments: the pandas series, and the number of bins we want (4 for quartiles)."
   ]
  },
  {
   "cell_type": "code",
   "execution_count": 5,
   "id": "7b5415ed",
   "metadata": {},
   "outputs": [
    {
     "data": {
      "text/plain": [
       "0      1\n",
       "2      3\n",
       "4      5\n",
       "6      7\n",
       "8      9\n",
       "10    11\n",
       "12    13\n",
       "14    15\n",
       "16    17\n",
       "18    19\n",
       "dtype: int64"
      ]
     },
     "execution_count": 5,
     "metadata": {},
     "output_type": "execute_result"
    }
   ],
   "source": [
    "my_series[my_series % 2 == 1]"
   ]
  },
  {
   "cell_type": "code",
   "execution_count": 9,
   "id": "52594f2f",
   "metadata": {},
   "outputs": [
    {
     "data": {
      "text/plain": [
       "0      1\n",
       "2      3\n",
       "4      5\n",
       "6      7\n",
       "8      9\n",
       "10    11\n",
       "11    12\n",
       "12    13\n",
       "13    14\n",
       "14    15\n",
       "15    16\n",
       "16    17\n",
       "17    18\n",
       "18    19\n",
       "19    20\n",
       "dtype: int64"
      ]
     },
     "execution_count": 9,
     "metadata": {},
     "output_type": "execute_result"
    }
   ],
   "source": [
    "my_series[(my_series > 10) | (my_series % 2 == 1)]\n",
    "\n",
    "# | this is the logical 'or' vs the & sign"
   ]
  },
  {
   "cell_type": "markdown",
   "id": "9e80f980",
   "metadata": {},
   "source": [
    "String vectorization.\n",
    "\n",
    "We can perform string operations across all values in a series using the .str attribute."
   ]
  },
  {
   "cell_type": "code",
   "execution_count": 14,
   "id": "2ef41d38",
   "metadata": {},
   "outputs": [
    {
     "data": {
      "text/plain": [
       "0     q1\n",
       "1     q1\n",
       "2     q1\n",
       "3     q1\n",
       "4     q1\n",
       "5     q2\n",
       "6     q2\n",
       "7     q2\n",
       "8     q2\n",
       "9     q2\n",
       "10    q3\n",
       "11    q3\n",
       "12    q3\n",
       "13    q3\n",
       "14    q3\n",
       "15    q4\n",
       "16    q4\n",
       "17    q4\n",
       "18    q4\n",
       "19    q4\n",
       "dtype: category\n",
       "Categories (4, object): ['q1' < 'q2' < 'q3' < 'q4']"
      ]
     },
     "execution_count": 14,
     "metadata": {},
     "output_type": "execute_result"
    }
   ],
   "source": [
    "pd.qcut(my_series, 4, labels = ['q1', 'q2', 'q3', 'q4'])\n",
    "\n"
   ]
  },
  {
   "cell_type": "code",
   "execution_count": 16,
   "id": "0b112a64",
   "metadata": {},
   "outputs": [
    {
     "data": {
      "text/html": [
       "<div>\n",
       "<style scoped>\n",
       "    .dataframe tbody tr th:only-of-type {\n",
       "        vertical-align: middle;\n",
       "    }\n",
       "\n",
       "    .dataframe tbody tr th {\n",
       "        vertical-align: top;\n",
       "    }\n",
       "\n",
       "    .dataframe thead th {\n",
       "        text-align: right;\n",
       "    }\n",
       "</style>\n",
       "<table border=\"1\" class=\"dataframe\">\n",
       "  <thead>\n",
       "    <tr style=\"text-align: right;\">\n",
       "      <th></th>\n",
       "      <th>manufacturer</th>\n",
       "      <th>model</th>\n",
       "      <th>displ</th>\n",
       "      <th>year</th>\n",
       "      <th>cyl</th>\n",
       "      <th>trans</th>\n",
       "      <th>drv</th>\n",
       "      <th>cty</th>\n",
       "      <th>hwy</th>\n",
       "      <th>fl</th>\n",
       "      <th>class</th>\n",
       "    </tr>\n",
       "  </thead>\n",
       "  <tbody>\n",
       "    <tr>\n",
       "      <th>1</th>\n",
       "      <td>audi</td>\n",
       "      <td>a4</td>\n",
       "      <td>1.8</td>\n",
       "      <td>1999</td>\n",
       "      <td>4</td>\n",
       "      <td>auto(l5)</td>\n",
       "      <td>f</td>\n",
       "      <td>18</td>\n",
       "      <td>29</td>\n",
       "      <td>p</td>\n",
       "      <td>compact</td>\n",
       "    </tr>\n",
       "    <tr>\n",
       "      <th>2</th>\n",
       "      <td>audi</td>\n",
       "      <td>a4</td>\n",
       "      <td>1.8</td>\n",
       "      <td>1999</td>\n",
       "      <td>4</td>\n",
       "      <td>manual(m5)</td>\n",
       "      <td>f</td>\n",
       "      <td>21</td>\n",
       "      <td>29</td>\n",
       "      <td>p</td>\n",
       "      <td>compact</td>\n",
       "    </tr>\n",
       "    <tr>\n",
       "      <th>3</th>\n",
       "      <td>audi</td>\n",
       "      <td>a4</td>\n",
       "      <td>2.0</td>\n",
       "      <td>2008</td>\n",
       "      <td>4</td>\n",
       "      <td>manual(m6)</td>\n",
       "      <td>f</td>\n",
       "      <td>20</td>\n",
       "      <td>31</td>\n",
       "      <td>p</td>\n",
       "      <td>compact</td>\n",
       "    </tr>\n",
       "    <tr>\n",
       "      <th>4</th>\n",
       "      <td>audi</td>\n",
       "      <td>a4</td>\n",
       "      <td>2.0</td>\n",
       "      <td>2008</td>\n",
       "      <td>4</td>\n",
       "      <td>auto(av)</td>\n",
       "      <td>f</td>\n",
       "      <td>21</td>\n",
       "      <td>30</td>\n",
       "      <td>p</td>\n",
       "      <td>compact</td>\n",
       "    </tr>\n",
       "    <tr>\n",
       "      <th>5</th>\n",
       "      <td>audi</td>\n",
       "      <td>a4</td>\n",
       "      <td>2.8</td>\n",
       "      <td>1999</td>\n",
       "      <td>6</td>\n",
       "      <td>auto(l5)</td>\n",
       "      <td>f</td>\n",
       "      <td>16</td>\n",
       "      <td>26</td>\n",
       "      <td>p</td>\n",
       "      <td>compact</td>\n",
       "    </tr>\n",
       "  </tbody>\n",
       "</table>\n",
       "</div>"
      ],
      "text/plain": [
       "  manufacturer model  displ  year  cyl       trans drv  cty  hwy fl    class\n",
       "1         audi    a4    1.8  1999    4    auto(l5)   f   18   29  p  compact\n",
       "2         audi    a4    1.8  1999    4  manual(m5)   f   21   29  p  compact\n",
       "3         audi    a4    2.0  2008    4  manual(m6)   f   20   31  p  compact\n",
       "4         audi    a4    2.0  2008    4    auto(av)   f   21   30  p  compact\n",
       "5         audi    a4    2.8  1999    6    auto(l5)   f   16   26  p  compact"
      ]
     },
     "execution_count": 16,
     "metadata": {},
     "output_type": "execute_result"
    }
   ],
   "source": [
    "mpg = data('mpg')\n",
    "mpg.head()"
   ]
  },
  {
   "cell_type": "code",
   "execution_count": 17,
   "id": "0578b6ad",
   "metadata": {},
   "outputs": [],
   "source": [
    "mpg_t = mpg.trans"
   ]
  },
  {
   "cell_type": "code",
   "execution_count": 18,
   "id": "4f90860c",
   "metadata": {},
   "outputs": [
    {
     "data": {
      "text/plain": [
       "1        AUTO(L5)\n",
       "2      MANUAL(M5)\n",
       "3      MANUAL(M6)\n",
       "4        AUTO(AV)\n",
       "5        AUTO(L5)\n",
       "          ...    \n",
       "230      AUTO(S6)\n",
       "231    MANUAL(M6)\n",
       "232      AUTO(L5)\n",
       "233    MANUAL(M5)\n",
       "234      AUTO(S6)\n",
       "Name: trans, Length: 234, dtype: object"
      ]
     },
     "execution_count": 18,
     "metadata": {},
     "output_type": "execute_result"
    }
   ],
   "source": [
    "#string vectorization, going to take the series and manipulative\n",
    "mpg_t.str.upper()"
   ]
  },
  {
   "cell_type": "code",
   "execution_count": 23,
   "id": "6b1d5bf8",
   "metadata": {},
   "outputs": [
    {
     "name": "stderr",
     "output_type": "stream",
     "text": [
      "/var/folders/mn/mp1xhgm522gc5vhffb_k61d00000gn/T/ipykernel_60396/1221487044.py:1: FutureWarning: The default value of regex will change from True to False in a future version. In addition, single character regular expressions will *not* be treated as literal strings when regex=True.\n",
      "  mpg_t.str.replace('(', '_').str.replace(')', '_').str.upper()\n"
     ]
    },
    {
     "data": {
      "text/plain": [
       "1        AUTO_L5_\n",
       "2      MANUAL_M5_\n",
       "3      MANUAL_M6_\n",
       "4        AUTO_AV_\n",
       "5        AUTO_L5_\n",
       "          ...    \n",
       "230      AUTO_S6_\n",
       "231    MANUAL_M6_\n",
       "232      AUTO_L5_\n",
       "233    MANUAL_M5_\n",
       "234      AUTO_S6_\n",
       "Name: trans, Length: 234, dtype: object"
      ]
     },
     "execution_count": 23,
     "metadata": {},
     "output_type": "execute_result"
    }
   ],
   "source": [
    "mpg_t.str.replace('(', '_').str.replace(')', '_').str.upper()"
   ]
  },
  {
   "cell_type": "code",
   "execution_count": null,
   "id": "e8f6da9a",
   "metadata": {},
   "outputs": [],
   "source": [
    "\"\"\"There are other methods available for use! Some common ones include..\n",
    "\n",
    ".any() and .all()\n",
    ".isin()\n",
    ".apply()\"\"\""
   ]
  },
  {
   "cell_type": "code",
   "execution_count": 26,
   "id": "30b8ec02",
   "metadata": {},
   "outputs": [
    {
     "data": {
      "text/plain": [
       "True"
      ]
     },
     "execution_count": 26,
     "metadata": {},
     "output_type": "execute_result"
    }
   ],
   "source": [
    "(mpg_t == 'auto(l5)').any()  # trying to see if there any entry that equal to that string"
   ]
  },
  {
   "cell_type": "code",
   "execution_count": 27,
   "id": "38d267aa",
   "metadata": {},
   "outputs": [
    {
     "data": {
      "text/plain": [
       "False"
      ]
     },
     "execution_count": 27,
     "metadata": {},
     "output_type": "execute_result"
    }
   ],
   "source": [
    "(mpg_t == 'auto(l5)').all()  # this will show all equal to that value"
   ]
  },
  {
   "cell_type": "code",
   "execution_count": 33,
   "id": "dac7ea7d",
   "metadata": {},
   "outputs": [
    {
     "data": {
      "text/plain": [
       "1       True\n",
       "2      False\n",
       "3      False\n",
       "4      False\n",
       "5       True\n",
       "       ...  \n",
       "230    False\n",
       "231    False\n",
       "232     True\n",
       "233    False\n",
       "234    False\n",
       "Name: trans, Length: 234, dtype: bool"
      ]
     },
     "execution_count": 33,
     "metadata": {},
     "output_type": "execute_result"
    }
   ],
   "source": [
    "mpg_t.isin(['auto(l5)'])"
   ]
  },
  {
   "cell_type": "code",
   "execution_count": 34,
   "id": "e102e044",
   "metadata": {},
   "outputs": [],
   "source": [
    "def mathinator(n):\n",
    "    \n",
    "    return n * 2 + 4 / 3"
   ]
  },
  {
   "cell_type": "code",
   "execution_count": 36,
   "id": "6008eb93",
   "metadata": {},
   "outputs": [
    {
     "data": {
      "text/plain": [
       "0      3.333333\n",
       "1      5.333333\n",
       "2      7.333333\n",
       "3      9.333333\n",
       "4     11.333333\n",
       "5     13.333333\n",
       "6     15.333333\n",
       "7     17.333333\n",
       "8     19.333333\n",
       "9     21.333333\n",
       "10    23.333333\n",
       "11    25.333333\n",
       "12    27.333333\n",
       "13    29.333333\n",
       "14    31.333333\n",
       "15    33.333333\n",
       "16    35.333333\n",
       "17    37.333333\n",
       "18    39.333333\n",
       "19    41.333333\n",
       "dtype: float64"
      ]
     },
     "execution_count": 36,
     "metadata": {},
     "output_type": "execute_result"
    }
   ],
   "source": [
    "my_series.apply(mathinator)"
   ]
  },
  {
   "cell_type": "code",
   "execution_count": 31,
   "id": "98845399",
   "metadata": {},
   "outputs": [
    {
     "data": {
      "text/plain": [
       "'We can bin values using pd.cut.\\n\\nWe can specify the number of bins to create, to make n bins of equal size.\\n\\nWe can also create the cutoffs for the bins ourselves.'"
      ]
     },
     "execution_count": 31,
     "metadata": {},
     "output_type": "execute_result"
    }
   ],
   "source": [
    "\"\"\"We can bin values using pd.cut.\n",
    "\n",
    "We can specify the number of bins to create, to make n bins of equal size.\n",
    "\n",
    "We can also create the cutoffs for the bins ourselves.\"\"\""
   ]
  },
  {
   "cell_type": "code",
   "execution_count": 37,
   "id": "0da3808a",
   "metadata": {},
   "outputs": [
    {
     "data": {
      "text/plain": [
       "0     (0.981, 4.8]\n",
       "1     (0.981, 4.8]\n",
       "2     (0.981, 4.8]\n",
       "3     (0.981, 4.8]\n",
       "4       (4.8, 8.6]\n",
       "5       (4.8, 8.6]\n",
       "6       (4.8, 8.6]\n",
       "7       (4.8, 8.6]\n",
       "8      (8.6, 12.4]\n",
       "9      (8.6, 12.4]\n",
       "10     (8.6, 12.4]\n",
       "11     (8.6, 12.4]\n",
       "12    (12.4, 16.2]\n",
       "13    (12.4, 16.2]\n",
       "14    (12.4, 16.2]\n",
       "15    (12.4, 16.2]\n",
       "16    (16.2, 20.0]\n",
       "17    (16.2, 20.0]\n",
       "18    (16.2, 20.0]\n",
       "19    (16.2, 20.0]\n",
       "dtype: category\n",
       "Categories (5, interval[float64, right]): [(0.981, 4.8] < (4.8, 8.6] < (8.6, 12.4] < (12.4, 16.2] < (16.2, 20.0]]"
      ]
     },
     "execution_count": 37,
     "metadata": {},
     "output_type": "execute_result"
    }
   ],
   "source": [
    "pd.cut(my_series, 5)   #this is different from qcut is we can define custom cut off for the bins"
   ]
  },
  {
   "cell_type": "code",
   "execution_count": 38,
   "id": "228f1abf",
   "metadata": {},
   "outputs": [
    {
     "data": {
      "text/plain": [
       "0             NaN\n",
       "1             NaN\n",
       "2             NaN\n",
       "3             NaN\n",
       "4      (4.0, 9.0]\n",
       "5      (4.0, 9.0]\n",
       "6      (4.0, 9.0]\n",
       "7      (4.0, 9.0]\n",
       "8      (4.0, 9.0]\n",
       "9     (9.0, 10.0]\n",
       "10            NaN\n",
       "11            NaN\n",
       "12            NaN\n",
       "13            NaN\n",
       "14            NaN\n",
       "15            NaN\n",
       "16            NaN\n",
       "17            NaN\n",
       "18            NaN\n",
       "19            NaN\n",
       "dtype: category\n",
       "Categories (2, interval[int64, right]): [(4, 9] < (9, 10]]"
      ]
     },
     "execution_count": 38,
     "metadata": {},
     "output_type": "execute_result"
    }
   ],
   "source": [
    "pd.cut(my_series, [4, 9, 10])"
   ]
  },
  {
   "cell_type": "markdown",
   "id": "e0e9a298",
   "metadata": {},
   "source": [
    "We can plot values from a series using the .plot() method.\n",
    "\n",
    "We can further alter the plot by calling .plot.hist(), for example.\n",
    "\n",
    "We can modify our plot by passing in arguments to the plotting method."
   ]
  },
  {
   "cell_type": "code",
   "execution_count": 39,
   "id": "9512301b",
   "metadata": {},
   "outputs": [
    {
     "data": {
      "text/plain": [
       "<Axes: >"
      ]
     },
     "execution_count": 39,
     "metadata": {},
     "output_type": "execute_result"
    },
    {
     "data": {
      "image/png": "[encoded data removed]",
      "text/plain": [
       "<Figure size 640x480 with 1 Axes>"
      ]
     },
     "metadata": {},
     "output_type": "display_data"
    }
   ],
   "source": [
    "my_series.plot()      #Jupyter is using matplotlib library to provide visualization"
   ]
  },
  {
   "cell_type": "code",
   "execution_count": 50,
   "id": "6ead25fa",
   "metadata": {},
   "outputs": [
    {
     "data": {
      "text/plain": [
       "<Axes: title={'center': 'title test'}>"
      ]
     },
     "execution_count": 50,
     "metadata": {},
     "output_type": "execute_result"
    },
    {
     "data": {
      "image/png": "[encoded data removed]",
      "text/plain": [
       "<Figure size 640x480 with 1 Axes>"
      ]
     },
     "metadata": {},
     "output_type": "display_data"
    }
   ],
   "source": [
    "mpg_t.str.startswith('a').value_counts().plot.barh(title='title test')  #True is automatic car.barh is horizontal bar plot "
   ]
  },
  {
   "cell_type": "code",
   "execution_count": null,
   "id": "042145af",
   "metadata": {},
   "outputs": [],
   "source": []
  }
 ],
 "metadata": {
  "kernelspec": {
   "display_name": "Python 3 (ipykernel)",
   "language": "python",
   "name": "python3"
  },
  "language_info": {
   "codemirror_mode": {
    "name": "ipython",
    "version": 3
   },
   "file_extension": ".py",
   "mimetype": "text/x-python",
   "name": "python",
   "nbconvert_exporter": "python",
   "pygments_lexer": "ipython3",
   "version": "3.10.9"
  }
 },
 "nbformat": 4,
 "nbformat_minor": 5
}
