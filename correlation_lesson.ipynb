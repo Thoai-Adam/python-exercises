{
 "cells": [
  {
   "cell_type": "code",
   "execution_count": 7,
   "id": "fbbd2b02",
   "metadata": {},
   "outputs": [
    {
     "data": {
      "application/javascript": [
       "IPython.notebook.set_autosave_interval(0)"
      ]
     },
     "metadata": {},
     "output_type": "display_data"
    },
    {
     "name": "stdout",
     "output_type": "stream",
     "text": [
      "Autosave disabled\n"
     ]
    }
   ],
   "source": [
    "%autosave 0"
   ]
  },
  {
   "cell_type": "markdown",
   "id": "c1272568",
   "metadata": {},
   "source": [
    "We are going to skip the hard way because we are lazy programmers!\n",
    "\n",
    "It's there as a resource to understand how the correlation coefficient is calculated."
   ]
  },
  {
   "cell_type": "code",
   "execution_count": 8,
   "id": "9c9b56bb",
   "metadata": {},
   "outputs": [],
   "source": [
    "import numpy as np\n",
    "import pandas as pd\n",
    "import matplotlib.pyplot as plt\n",
    "\n",
    "from scipy import stats\n",
    "from pydataset import data\n",
    "\n"
   ]
  },
  {
   "cell_type": "markdown",
   "id": "76ea889c",
   "metadata": {},
   "source": [
    "Let's do an example from the mpg dataset."
   ]
  },
  {
   "cell_type": "code",
   "execution_count": 9,
   "id": "224bea76",
   "metadata": {},
   "outputs": [
    {
     "data": {
      "text/html": [
       "<div>\n",
       "<style scoped>\n",
       "    .dataframe tbody tr th:only-of-type {\n",
       "        vertical-align: middle;\n",
       "    }\n",
       "\n",
       "    .dataframe tbody tr th {\n",
       "        vertical-align: top;\n",
       "    }\n",
       "\n",
       "    .dataframe thead th {\n",
       "        text-align: right;\n",
       "    }\n",
       "</style>\n",
       "<table border=\"1\" class=\"dataframe\">\n",
       "  <thead>\n",
       "    <tr style=\"text-align: right;\">\n",
       "      <th></th>\n",
       "      <th>manufacturer</th>\n",
       "      <th>model</th>\n",
       "      <th>displ</th>\n",
       "      <th>year</th>\n",
       "      <th>cyl</th>\n",
       "      <th>trans</th>\n",
       "      <th>drv</th>\n",
       "      <th>cty</th>\n",
       "      <th>hwy</th>\n",
       "      <th>fl</th>\n",
       "      <th>class</th>\n",
       "    </tr>\n",
       "  </thead>\n",
       "  <tbody>\n",
       "    <tr>\n",
       "      <th>1</th>\n",
       "      <td>audi</td>\n",
       "      <td>a4</td>\n",
       "      <td>1.8</td>\n",
       "      <td>1999</td>\n",
       "      <td>4</td>\n",
       "      <td>auto(l5)</td>\n",
       "      <td>f</td>\n",
       "      <td>18</td>\n",
       "      <td>29</td>\n",
       "      <td>p</td>\n",
       "      <td>compact</td>\n",
       "    </tr>\n",
       "    <tr>\n",
       "      <th>2</th>\n",
       "      <td>audi</td>\n",
       "      <td>a4</td>\n",
       "      <td>1.8</td>\n",
       "      <td>1999</td>\n",
       "      <td>4</td>\n",
       "      <td>manual(m5)</td>\n",
       "      <td>f</td>\n",
       "      <td>21</td>\n",
       "      <td>29</td>\n",
       "      <td>p</td>\n",
       "      <td>compact</td>\n",
       "    </tr>\n",
       "    <tr>\n",
       "      <th>3</th>\n",
       "      <td>audi</td>\n",
       "      <td>a4</td>\n",
       "      <td>2.0</td>\n",
       "      <td>2008</td>\n",
       "      <td>4</td>\n",
       "      <td>manual(m6)</td>\n",
       "      <td>f</td>\n",
       "      <td>20</td>\n",
       "      <td>31</td>\n",
       "      <td>p</td>\n",
       "      <td>compact</td>\n",
       "    </tr>\n",
       "    <tr>\n",
       "      <th>4</th>\n",
       "      <td>audi</td>\n",
       "      <td>a4</td>\n",
       "      <td>2.0</td>\n",
       "      <td>2008</td>\n",
       "      <td>4</td>\n",
       "      <td>auto(av)</td>\n",
       "      <td>f</td>\n",
       "      <td>21</td>\n",
       "      <td>30</td>\n",
       "      <td>p</td>\n",
       "      <td>compact</td>\n",
       "    </tr>\n",
       "    <tr>\n",
       "      <th>5</th>\n",
       "      <td>audi</td>\n",
       "      <td>a4</td>\n",
       "      <td>2.8</td>\n",
       "      <td>1999</td>\n",
       "      <td>6</td>\n",
       "      <td>auto(l5)</td>\n",
       "      <td>f</td>\n",
       "      <td>16</td>\n",
       "      <td>26</td>\n",
       "      <td>p</td>\n",
       "      <td>compact</td>\n",
       "    </tr>\n",
       "  </tbody>\n",
       "</table>\n",
       "</div>"
      ],
      "text/plain": [
       "  manufacturer model  displ  year  cyl       trans drv  cty  hwy fl    class\n",
       "1         audi    a4    1.8  1999    4    auto(l5)   f   18   29  p  compact\n",
       "2         audi    a4    1.8  1999    4  manual(m5)   f   21   29  p  compact\n",
       "3         audi    a4    2.0  2008    4  manual(m6)   f   20   31  p  compact\n",
       "4         audi    a4    2.0  2008    4    auto(av)   f   21   30  p  compact\n",
       "5         audi    a4    2.8  1999    6    auto(l5)   f   16   26  p  compact"
      ]
     },
     "execution_count": 9,
     "metadata": {},
     "output_type": "execute_result"
    }
   ],
   "source": [
    "mpg = data('mpg')\n",
    "mpg.head()"
   ]
  },
  {
   "cell_type": "code",
   "execution_count": 10,
   "id": "27cd95af",
   "metadata": {},
   "outputs": [
    {
     "name": "stdout",
     "output_type": "stream",
     "text": [
      "<class 'pandas.core.frame.DataFrame'>\n",
      "Int64Index: 234 entries, 1 to 234\n",
      "Data columns (total 11 columns):\n",
      " #   Column        Non-Null Count  Dtype  \n",
      "---  ------        --------------  -----  \n",
      " 0   manufacturer  234 non-null    object \n",
      " 1   model         234 non-null    object \n",
      " 2   displ         234 non-null    float64\n",
      " 3   year          234 non-null    int64  \n",
      " 4   cyl           234 non-null    int64  \n",
      " 5   trans         234 non-null    object \n",
      " 6   drv           234 non-null    object \n",
      " 7   cty           234 non-null    int64  \n",
      " 8   hwy           234 non-null    int64  \n",
      " 9   fl            234 non-null    object \n",
      " 10  class         234 non-null    object \n",
      "dtypes: float64(1), int64(4), object(6)\n",
      "memory usage: 21.9+ KB\n"
     ]
    }
   ],
   "source": [
    "mpg.info()"
   ]
  },
  {
   "cell_type": "code",
   "execution_count": 11,
   "id": "40cfec35",
   "metadata": {},
   "outputs": [
    {
     "data": {
      "text/plain": [
       "4    81\n",
       "6    79\n",
       "8    70\n",
       "5     4\n",
       "Name: cyl, dtype: int64"
      ]
     },
     "execution_count": 11,
     "metadata": {},
     "output_type": "execute_result"
    }
   ],
   "source": [
    "mpg.cyl.value_counts()\n",
    "#could i correlation test with this field?\n",
    "#you need more to have a continuous type in order to run correlation test\n",
    "#just because its a numerical type, you can't ram it into a correlation test\n",
    "#\"is this a truly continuous field in the data set\""
   ]
  },
  {
   "cell_type": "markdown",
   "id": "807c87e2",
   "metadata": {},
   "source": [
    "#city and highway mpg are certainly are floats so it can be treated as continuous for correlation testing\n",
    "#every good stats test needs a visual"
   ]
  },
  {
   "cell_type": "code",
   "execution_count": 15,
   "id": "a4c76c10",
   "metadata": {},
   "outputs": [
    {
     "data": {
      "image/png": "[encoded data removed]",
      "text/plain": [
       "<Figure size 640x480 with 1 Axes>"
      ]
     },
     "metadata": {},
     "output_type": "display_data"
    }
   ],
   "source": [
    "plt.scatter(mpg.cty, mpg.hwy)\n",
    "plt.xlabel('city MPG')\n",
    "plt.ylabel('Highway MPG')\n",
    "plt.title('MPG')\n",
    "plt.show()"
   ]
  },
  {
   "cell_type": "code",
   "execution_count": 18,
   "id": "06f6c741",
   "metadata": {},
   "outputs": [
    {
     "data": {
      "text/plain": [
       "(0.9559159136495713, 1.8683071952666785e-125)"
      ]
     },
     "execution_count": 18,
     "metadata": {},
     "output_type": "execute_result"
    }
   ],
   "source": [
    "r, p = stats.pearsonr(mpg.cty, mpg.hwy)\n",
    "r , p    #this should be express as a tuple"
   ]
  },
  {
   "cell_type": "markdown",
   "id": "7f7aac6f",
   "metadata": {},
   "source": [
    "the r-value of 0.96 indicates there is a strong, positive correlation between city and highway MPG"
   ]
  },
  {
   "cell_type": "code",
   "execution_count": 20,
   "id": "1991d82b",
   "metadata": {},
   "outputs": [],
   "source": [
    "def eval_result(p_value, a=0.05):\n",
    "    if p_value < a:\n",
    "        print('Cool beans! Your result is significant!')\n",
    "    else:\n",
    "        print('Your result was not significant!')"
   ]
  },
  {
   "cell_type": "code",
   "execution_count": 21,
   "id": "7949a240",
   "metadata": {},
   "outputs": [
    {
     "name": "stdout",
     "output_type": "stream",
     "text": [
      "Cool beans! Your result is significant!\n"
     ]
    }
   ],
   "source": [
    "eval_result(p)"
   ]
  },
  {
   "cell_type": "markdown",
   "id": "9514647e",
   "metadata": {},
   "source": [
    "Let's look at a limitation of the Pearson's r test with a non-linear relationship."
   ]
  },
  {
   "cell_type": "code",
   "execution_count": 24,
   "id": "0324d994",
   "metadata": {},
   "outputs": [
    {
     "data": {
      "text/plain": [
       "<matplotlib.collections.PathCollection at 0x12281e080>"
      ]
     },
     "execution_count": 24,
     "metadata": {},
     "output_type": "execute_result"
    },
    {
     "data": {
      "image/png": "[encoded data removed]",
      "text/plain": [
       "<Figure size 640x480 with 1 Axes>"
      ]
     },
     "metadata": {},
     "output_type": "display_data"
    }
   ],
   "source": [
    "x = list(range(-15,15,1))  #from -15 to 15 increment of 1\n",
    "# y = x ** 2 you cannot do this \n",
    "y = [i ** 3 for i in x] #we are looking at each element inside the list \n",
    "plt.scatter(x,y)"
   ]
  },
  {
   "cell_type": "markdown",
   "id": "6eb3b0f4",
   "metadata": {},
   "source": [
    "you can see from this plot, there is a definite relationship between x and y\n",
    "\n",
    "it is not being defined by a straight line"
   ]
  },
  {
   "cell_type": "code",
   "execution_count": 26,
   "id": "f975c4cc",
   "metadata": {},
   "outputs": [
    {
     "name": "stdout",
     "output_type": "stream",
     "text": [
      "Cool beans! Your result is significant!\n"
     ]
    }
   ],
   "source": [
    "#i will run a pearson r on it \n",
    "r_cubed, p_cubed = stats.pearsonr(x, y)\n",
    "eval_result(p_cubed)"
   ]
  },
  {
   "cell_type": "code",
   "execution_count": 27,
   "id": "7b3acfc3",
   "metadata": {},
   "outputs": [
    {
     "data": {
      "text/plain": [
       "0.915178278514944"
      ]
     },
     "execution_count": 27,
     "metadata": {},
     "output_type": "execute_result"
    }
   ],
   "source": [
    "r_cubed"
   ]
  },
  {
   "cell_type": "code",
   "execution_count": 32,
   "id": "478f1e9f",
   "metadata": {},
   "outputs": [],
   "source": [
    "#squaring it instead of cubing it \n",
    "x_square = list(range(-15,15, 1))\n",
    "y_square = [i ** 2 for i in x]"
   ]
  },
  {
   "cell_type": "code",
   "execution_count": 31,
   "id": "95ba890c",
   "metadata": {},
   "outputs": [
    {
     "name": "stdout",
     "output_type": "stream",
     "text": [
      "Your result was not significant!\n"
     ]
    }
   ],
   "source": [
    "r_sq, p_sq = stats.pearsonr(x_square, y_square)\n",
    "eval_result(p_sq)"
   ]
  },
  {
   "cell_type": "markdown",
   "id": "97f76f00",
   "metadata": {},
   "source": [
    "Let's look at another limitation with a linear relationship that doesn't do much."
   ]
  },
  {
   "cell_type": "code",
   "execution_count": 36,
   "id": "85dec085",
   "metadata": {},
   "outputs": [
    {
     "data": {
      "text/plain": [
       "<matplotlib.collections.PathCollection at 0x122a94610>"
      ]
     },
     "execution_count": 36,
     "metadata": {},
     "output_type": "execute_result"
    },
    {
     "data": {
      "image/png": "[encoded data removed]",
      "text/plain": [
       "<Figure size 640x480 with 1 Axes>"
      ]
     },
     "metadata": {},
     "output_type": "display_data"
    }
   ],
   "source": [
    "# we have to define something that doesn't do a lot\n",
    "x_not = [1,2,3,4,5]\n",
    "y_not = [60, 60.1,60.2,60.3,60.4]\n",
    "\n",
    "plt.scatter(x_not, y_not)\n"
   ]
  },
  {
   "cell_type": "code",
   "execution_count": 38,
   "id": "536ab3dc",
   "metadata": {},
   "outputs": [
    {
     "data": {
      "text/plain": [
       "(0.0, 75.0)"
      ]
     },
     "execution_count": 38,
     "metadata": {},
     "output_type": "execute_result"
    },
    {
     "data": {
      "image/png": "[encoded data removed]",
      "text/plain": [
       "<Figure size 640x480 with 1 Axes>"
      ]
     },
     "metadata": {},
     "output_type": "display_data"
    }
   ],
   "source": [
    "x_not = [1,2,3,4,5]\n",
    "y_not = [60, 60.1,60.2,60.3,60.4]\n",
    "\n",
    "plt.scatter(x_not, y_not)\n",
    "plt.ylim(0,75)\n",
    "#making a chart less deceptive and honest with finding"
   ]
  },
  {
   "cell_type": "code",
   "execution_count": 39,
   "id": "b8ef1c2b",
   "metadata": {},
   "outputs": [
    {
     "name": "stdout",
     "output_type": "stream",
     "text": [
      "Cool beans! Your result is significant!\n"
     ]
    }
   ],
   "source": [
    "r_not, p_not = stats.pearsonr(x_not, y_not)\n",
    "eval_result(p_not)\n",
    "# this means as times goes by, nothing changes. it doesn't correlated with the result"
   ]
  },
  {
   "cell_type": "code",
   "execution_count": 40,
   "id": "5f6aa793",
   "metadata": {},
   "outputs": [
    {
     "data": {
      "text/plain": [
       "0.9999999999999999"
      ]
     },
     "execution_count": 40,
     "metadata": {},
     "output_type": "execute_result"
    }
   ],
   "source": [
    "r_not   #this is a deceptive result "
   ]
  },
  {
   "cell_type": "markdown",
   "id": "be40dc87",
   "metadata": {},
   "source": [
    "ultimately this could be a useful plot but it is a flatline that doesn't tell a story "
   ]
  },
  {
   "cell_type": "markdown",
   "id": "767bbcde",
   "metadata": {},
   "source": [
    "#one more concept\n",
    "BONUS! super useful for next week"
   ]
  },
  {
   "cell_type": "code",
   "execution_count": 50,
   "id": "63b02e3a",
   "metadata": {},
   "outputs": [],
   "source": [
    "#making another function \n",
    "def find_correlation(feature_one, feature_two):\n",
    "    r, p = stats.pearsonr(feature_one, feature_two)\n",
    "    eval_result(p)   #calling other function onto this function\n",
    "    "
   ]
  },
  {
   "cell_type": "code",
   "execution_count": 51,
   "id": "2090b3d5",
   "metadata": {},
   "outputs": [
    {
     "name": "stdout",
     "output_type": "stream",
     "text": [
      "Cool beans! Your result is significant!\n"
     ]
    }
   ],
   "source": [
    "find_correlation(x_not, y_not)"
   ]
  },
  {
   "cell_type": "code",
   "execution_count": null,
   "id": "8a411173",
   "metadata": {},
   "outputs": [],
   "source": []
  }
 ],
 "metadata": {
  "kernelspec": {
   "display_name": "Python 3 (ipykernel)",
   "language": "python",
   "name": "python3"
  },
  "language_info": {
   "codemirror_mode": {
    "name": "ipython",
    "version": 3
   },
   "file_extension": ".py",
   "mimetype": "text/x-python",
   "name": "python",
   "nbconvert_exporter": "python",
   "pygments_lexer": "ipython3",
   "version": "3.10.9"
  }
 },
 "nbformat": 4,
 "nbformat_minor": 5
}
