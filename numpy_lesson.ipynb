{
 "cells": [
  {
   "cell_type": "code",
   "execution_count": 1,
   "id": "28a3b26a",
   "metadata": {},
   "outputs": [
    {
     "data": {
      "application/javascript": [
       "IPython.notebook.set_autosave_interval(0)"
      ]
     },
     "metadata": {},
     "output_type": "display_data"
    },
    {
     "name": "stdout",
     "output_type": "stream",
     "text": [
      "Autosave disabled\n"
     ]
    }
   ],
   "source": [
    "%autosave 0"
   ]
  },
  {
   "cell_type": "markdown",
   "id": "a2c67dc6",
   "metadata": {},
   "source": [
    "Numpy makes it easy for us to work with large amounts of numerical data in arrays. Many other libraries (including Pandas) are built on Numpy. It's important to be familiar working with this library in order to understand the functionality of the other libraries."
   ]
  },
  {
   "cell_type": "code",
   "execution_count": 1,
   "id": "5dd07665",
   "metadata": {},
   "outputs": [],
   "source": [
    "#standard import\n",
    "import numpy as np"
   ]
  },
  {
   "cell_type": "markdown",
   "id": "59e02592",
   "metadata": {},
   "source": [
    "We create Numpy arrays with the np.array function. Inside the function, we can pass a list as the argument."
   ]
  },
  {
   "cell_type": "code",
   "execution_count": 4,
   "id": "ca2086f2",
   "metadata": {},
   "outputs": [
    {
     "data": {
      "text/plain": [
       "array([1, 2, 3, 4, 5])"
      ]
     },
     "execution_count": 4,
     "metadata": {},
     "output_type": "execute_result"
    }
   ],
   "source": [
    "array = np.array([1, 2, 3, 4, 5])\n",
    "array"
   ]
  },
  {
   "cell_type": "markdown",
   "id": "b499fc7c",
   "metadata": {},
   "source": [
    "We can index a Numpy array, much like a list!"
   ]
  },
  {
   "cell_type": "code",
   "execution_count": 5,
   "id": "9a786ae8",
   "metadata": {},
   "outputs": [
    {
     "data": {
      "text/plain": [
       "1"
      ]
     },
     "execution_count": 5,
     "metadata": {},
     "output_type": "execute_result"
    }
   ],
   "source": [
    "array[0]"
   ]
  },
  {
   "cell_type": "code",
   "execution_count": 7,
   "id": "63e0b817",
   "metadata": {},
   "outputs": [
    {
     "data": {
      "text/plain": [
       "array([3, 4, 5])"
      ]
     },
     "execution_count": 7,
     "metadata": {},
     "output_type": "execute_result"
    }
   ],
   "source": [
    "array[2:]"
   ]
  },
  {
   "cell_type": "code",
   "execution_count": 9,
   "id": "3213e366",
   "metadata": {},
   "outputs": [
    {
     "data": {
      "text/plain": [
       "array([3, 4, 5])"
      ]
     },
     "execution_count": 9,
     "metadata": {},
     "output_type": "execute_result"
    }
   ],
   "source": [
    "array[-3:]"
   ]
  },
  {
   "cell_type": "markdown",
   "id": "25065141",
   "metadata": {},
   "source": [
    "Vectorized operations allow us to perform a mathematical operation on EVERY number in an array.\n",
    "\n",
    "Let's compare how we could do the same thing with a list and a Numpy array."
   ]
  },
  {
   "cell_type": "code",
   "execution_count": 10,
   "id": "81a1286f",
   "metadata": {},
   "outputs": [
    {
     "data": {
      "text/plain": [
       "array([10, 20, 30, 40, 50])"
      ]
     },
     "execution_count": 10,
     "metadata": {},
     "output_type": "execute_result"
    }
   ],
   "source": [
    "array * 10"
   ]
  },
  {
   "cell_type": "markdown",
   "id": "ee7038d5",
   "metadata": {},
   "source": [
    "Boolean masking is an important concept we will apply consistently with Pandas. We will get back an array filled with Boolean values, and use it to MASK (hide or remove) certain values from the output."
   ]
  },
  {
   "cell_type": "code",
   "execution_count": 11,
   "id": "ae2e9ec1",
   "metadata": {},
   "outputs": [],
   "source": [
    "my_list = [1, 2, 3, 4, 5]"
   ]
  },
  {
   "cell_type": "code",
   "execution_count": 14,
   "id": "1c617b7a",
   "metadata": {},
   "outputs": [
    {
     "data": {
      "text/plain": [
       "[10, 20, 30, 40, 50]"
      ]
     },
     "execution_count": 14,
     "metadata": {},
     "output_type": "execute_result"
    }
   ],
   "source": [
    "empty_list = []\n",
    "for num in my_list:\n",
    "    empty_list.append(num * 10)\n",
    "\n",
    "empty_list"
   ]
  },
  {
   "cell_type": "code",
   "execution_count": 20,
   "id": "50190d5e",
   "metadata": {},
   "outputs": [
    {
     "data": {
      "text/plain": [
       "array([False, False, False,  True,  True])"
      ]
     },
     "execution_count": 20,
     "metadata": {},
     "output_type": "execute_result"
    }
   ],
   "source": [
    "mask = array > 3\n",
    "mask"
   ]
  },
  {
   "cell_type": "code",
   "execution_count": 21,
   "id": "757724be",
   "metadata": {},
   "outputs": [
    {
     "data": {
      "text/plain": [
       "array([4, 5])"
      ]
     },
     "execution_count": 21,
     "metadata": {},
     "output_type": "execute_result"
    }
   ],
   "source": [
    "array[mask]"
   ]
  },
  {
   "cell_type": "code",
   "execution_count": 17,
   "id": "41596205",
   "metadata": {},
   "outputs": [
    {
     "data": {
      "text/plain": [
       "array([1, 2])"
      ]
     },
     "execution_count": 17,
     "metadata": {},
     "output_type": "execute_result"
    }
   ],
   "source": [
    "array[array < 3]"
   ]
  },
  {
   "cell_type": "markdown",
   "id": "2e03f7d8",
   "metadata": {},
   "source": [
    "We can create arrays from the standard normal distribution (mean of 0, standard deviation of 1) using np.random.randn. We specify the shape of the resulting array as the argument for the function."
   ]
  },
  {
   "cell_type": "code",
   "execution_count": 26,
   "id": "c0c9908f",
   "metadata": {},
   "outputs": [
    {
     "data": {
      "text/plain": [
       "array([-0.782601  , -0.25583967, -2.02145789,  1.02494015,  0.18926467])"
      ]
     },
     "execution_count": 26,
     "metadata": {},
     "output_type": "execute_result"
    }
   ],
   "source": [
    "st_norm = np.random.randn(5)\n",
    "st_norm"
   ]
  },
  {
   "cell_type": "code",
   "execution_count": 28,
   "id": "15a67412",
   "metadata": {
    "scrolled": true
   },
   "outputs": [
    {
     "data": {
      "text/plain": [
       "array([[[ 0.64574315,  0.45216551,  0.31223875],\n",
       "        [ 0.55082516, -0.71972943,  0.35958444],\n",
       "        [-2.08820717, -0.15161525,  0.06007698]],\n",
       "\n",
       "       [[-0.71926706, -0.64587312,  0.8723028 ],\n",
       "        [-0.4577982 ,  1.54516534,  0.2254637 ],\n",
       "        [-0.31352998,  0.11425595, -1.45779671]],\n",
       "\n",
       "       [[ 1.42352746,  0.92018624,  1.46902375],\n",
       "        [ 1.24933652, -1.82546651, -0.86076004],\n",
       "        [-1.45615643, -0.02633984,  1.7665374 ]]])"
      ]
     },
     "execution_count": 28,
     "metadata": {},
     "output_type": "execute_result"
    }
   ],
   "source": [
    "np.random.randn(3, 3, 3)   # 3x3 is a square, 3x3x3 is a cube"
   ]
  },
  {
   "cell_type": "markdown",
   "id": "7bb79d65",
   "metadata": {},
   "source": [
    "We can create arrays from other normal distributions using np.random.normal. To this function, we will pass in arguments specifying the mean, the standard deviation, and the size of the resulting array."
   ]
  },
  {
   "cell_type": "code",
   "execution_count": 29,
   "id": "52f2ba1b",
   "metadata": {},
   "outputs": [
    {
     "data": {
      "text/plain": [
       "array([32.16897671, 32.62823488, 31.21602062, 23.69182042, 34.68501953])"
      ]
     },
     "execution_count": 29,
     "metadata": {},
     "output_type": "execute_result"
    }
   ],
   "source": [
    "my_norm = np.random.normal(30, 5, 5)\n",
    "my_norm"
   ]
  },
  {
   "cell_type": "markdown",
   "id": "476b3557",
   "metadata": {},
   "source": [
    "We can create arrays from a range using np.arange. We specify the starting value, the stopping value, and the step size."
   ]
  },
  {
   "cell_type": "code",
   "execution_count": 30,
   "id": "21893d97",
   "metadata": {},
   "outputs": [
    {
     "data": {
      "text/plain": [
       "array([0, 3, 6, 9])"
      ]
     },
     "execution_count": 30,
     "metadata": {},
     "output_type": "execute_result"
    }
   ],
   "source": [
    "range_array = np.arange(0, 12, 3)\n",
    "range_array"
   ]
  },
  {
   "cell_type": "markdown",
   "id": "e555630b",
   "metadata": {},
   "source": [
    "We can call a number of array methods to return descriptive statistics, such as min, max, mean, standard deviation, and sum."
   ]
  },
  {
   "cell_type": "code",
   "execution_count": 31,
   "id": "d4c55d62",
   "metadata": {},
   "outputs": [
    {
     "data": {
      "text/plain": [
       "18"
      ]
     },
     "execution_count": 31,
     "metadata": {},
     "output_type": "execute_result"
    }
   ],
   "source": [
    "range_array.sum()"
   ]
  },
  {
   "cell_type": "code",
   "execution_count": 32,
   "id": "bccd76c2",
   "metadata": {},
   "outputs": [
    {
     "data": {
      "text/plain": [
       "4.5"
      ]
     },
     "execution_count": 32,
     "metadata": {},
     "output_type": "execute_result"
    }
   ],
   "source": [
    "range_array.mean()"
   ]
  },
  {
   "cell_type": "code",
   "execution_count": 33,
   "id": "42047f1b",
   "metadata": {},
   "outputs": [
    {
     "data": {
      "text/plain": [
       "9"
      ]
     },
     "execution_count": 33,
     "metadata": {},
     "output_type": "execute_result"
    }
   ],
   "source": [
    "range_array.max()"
   ]
  },
  {
   "cell_type": "code",
   "execution_count": null,
   "id": "5f6d6b0b",
   "metadata": {},
   "outputs": [],
   "source": []
  }
 ],
 "metadata": {
  "kernelspec": {
   "display_name": "Python 3 (ipykernel)",
   "language": "python",
   "name": "python3"
  },
  "language_info": {
   "codemirror_mode": {
    "name": "ipython",
    "version": 3
   },
   "file_extension": ".py",
   "mimetype": "text/x-python",
   "name": "python",
   "nbconvert_exporter": "python",
   "pygments_lexer": "ipython3",
   "version": "3.10.9"
  }
 },
 "nbformat": 4,
 "nbformat_minor": 5
}
